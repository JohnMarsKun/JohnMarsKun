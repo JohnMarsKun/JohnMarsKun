{
 "cells": [
  {
   "cell_type": "code",
   "execution_count": 4,
   "id": "60074209",
   "metadata": {},
   "outputs": [],
   "source": [
    "import numpy as np\n",
    "import pandas as pd\n",
    "from numpy.linalg import norm, inv, eig, qr\n",
    "from scipy.linalg import block_diag, svd \n",
    "import matplotlib.pyplot as plt\n",
    "from sympy import Matrix, latex, symbols\n"
   ]
  },
  {
   "cell_type": "markdown",
   "id": "641850bc",
   "metadata": {},
   "source": [
    "# Model: \n",
    "$$\\mathbf{d=m_1+m_2x+m_3x^2+m_4x^3}$$\n",
    "# data:\n",
    "$$d=\n",
    "\\begin{bmatrix}\n",
    "d_1\\\\\n",
    "d_2\\\\\n",
    "\\vdots\\\\\n",
    "d_N\n",
    "\\end{bmatrix},\\quad N=9$$\n",
    "# parameters:\n",
    "$$m=\n",
    "\\begin{bmatrix}\n",
    "m_1\\\\\n",
    "m_2\\\\\n",
    "\\vdots\\\\\n",
    "m_M\n",
    "\\end{bmatrix},\\quad M=4$$"
   ]
  },
  {
   "cell_type": "code",
   "execution_count": 5,
   "id": "663a0acd",
   "metadata": {},
   "outputs": [],
   "source": [
    "class poly_fitting:          ### deg(p) -> 3\n",
    "\n",
    "    def __init__(self,data_x, data_y):\n",
    "        self.data_x = data_x\n",
    "        self.data_y = data_y\n",
    "        self.N = len(self.data_x)     #data\n",
    "        self.M = 4                    #parameters\n",
    "        d_model = lambda x: [1,x,x**2,x**3]\n",
    "        g_ij = [d_model(k) for k in self.data_x]\n",
    "        self.G = np.array(g_ij) #kernel matrix\n",
    "        self.d = np.array(self.data_y)\n",
    "        m1,m2,m3,m4 = symbols('m_1 m_2 m_3 m_4')\n",
    "        self.m = np.array([m1,m2,m3,m4])\n",
    "        self.S = np.rot90(block_diag(self.G, self.G.T))\n",
    "        #SVD (of the kernel matrix G):\n",
    "        self.U, S, self.V = svd(self.G)\n",
    "        f = lambda i,j: S[i] if i==j else 0    \n",
    "        self.Sigma = np.array(Matrix(self.N, self.M, f), dtype=float)\n",
    "        self.Sigma_p = np.diag(S)\n",
    "        self.p = len(np.diag(S))\n",
    "        self.U_p = self.U[:,:self.p]\n",
    "        self.V_p = self.V[:,:self.p]\n",
    "        \n",
    "    def __repr__(self):\n",
    "        return str(dict(zip(self.data_x,self.data_y)))\n",
    "    def __str__(self):\n",
    "        return self.__repr__()\n",
    "    \n",
    "    def df(self):\n",
    "        data_df = pd.DataFrame({\n",
    "                                    'X': self.data_x,\n",
    "                                    'Y': self.data_y\n",
    "                                })\n",
    "        return data_df\n",
    "    \n",
    "    def give_eqs(self):\n",
    "        m1,m2,m3,m4 = symbols(\"m_1 m_2 m_3 m_4\")\n",
    "        model_d = lambda x: np.dot(np.array([m1,m2,m3,m4]), np.array([1,x,x**2,x**3]))\n",
    "        eq_d = Matrix([model_d(k) for k in self.data_x])\n",
    "        return eq_d\n",
    "    \n",
    "    def plot_data(self,Color=None):\n",
    "        if (Color==None): Color = 'red'\n",
    "        plt.scatter(self.data_x, self.data_y,marker='.',color=Color)\n",
    "        plt.xlabel('$\\mathbf{x}:$ Horizontal distance (km)')\n",
    "        plt.ylabel('$\\mathbf{d}:$ Elevation (km)')\n",
    "        plt.show()\n",
    "        \n",
    "    def least_squares(self):\n",
    "        m_est = inv(self.G.T @ self.G) @ self.G.T @ self.d\n",
    "        return m_est\n",
    "    \n",
    "    def d_pre(self):\n",
    "        return self.G @ self.least_squares()\n",
    "    \n",
    "    def error(self,Norm=None):\n",
    "        if (Norm == None): Norm = 2\n",
    "        return norm(self.d - self.d_pre(), Norm)\n",
    "    \n",
    "    def plot_fitting(self):\n",
    "        m_est = self.least_squares()\n",
    "        plt.rcParams[\"figure.figsize\"] = [7.50, 3.50]\n",
    "        plt.rcParams[\"figure.autolayout\"] = True\n",
    "        p = lambda x: m_est[0] + m_est[1]*x + m_est[2] * x**2 + m_est[3] * x**3\n",
    "        x = np.linspace(-5, 31, 250)\n",
    "        plt.plot(x, p(x), color='red')\n",
    "        plt.scatter(self.data_x, self.data_y, marker='.',color='black')\n",
    "        plt.show()\n",
    "        \n",
    "    def SVD_kernel(self):\n",
    "        return self.U @ self.Sigma @ self.V\n",
    "    \n",
    "    def pseudoinverse(self):\n",
    "        G_g = self.V_p.T @ inv(self.Sigma_p) @ self.U_p.T\n",
    "        return G_g\n",
    "    def SVD_m_est(self):\n",
    "        m_est = self.pseudoinverse()@self.d\n",
    "        return m_est\n",
    "    \n",
    "    def SVD_d_pre(self):\n",
    "        return self.G @ self.SVD_m_est()\n",
    "\n",
    "    def plot_fitting_SVD(self):\n",
    "        m_est = self.SVD_m_est()\n",
    "        plt.rcParams[\"figure.figsize\"] = [7.50, 3.50]\n",
    "        plt.rcParams[\"figure.autolayout\"] = True\n",
    "        p = lambda x: m_est[0] + m_est[1]*x + m_est[2] * x**2 + m_est[3] * x**3\n",
    "        x = np.linspace(-5, 31, 250)\n",
    "        plt.plot(x, p(x), color='red')\n",
    "        plt.scatter(self.data_x, self.data_y, marker='.',color='black')\n",
    "        plt.show()\n",
    "    \n",
    "    def data_analysis_matrix_svd(self):\n",
    "        N = self.U_p @ self.U_p.T # =self.G @ self.pseudoinverse()\n",
    "        return N\n",
    "    \n",
    "    def par_analysis_matrix_svd(self):\n",
    "        R = self.V_p.T @ self.V_p # =self.pseudoinverse() @ self.G \n",
    "        return R\n",
    "    def cov_u_m(self):\n",
    "        return self.pseudoinverse() @ self.pseudoinverse().T\n",
    "    \n",
    "    def cov_u_mest(self):\n",
    "        size = len(self.par_analysis_matrix_svd())\n",
    "        H = (np.eye(size) - self.par_analysis_matrix_svd())\n",
    "        cov = self.cov_u_m() + H@self.cov_u_m()@H\n",
    "        return cov\n",
    "    \n",
    "    def spread_N(self):\n",
    "        size = self.data_analysis_matrix_svd().shape[0]\n",
    "        return norm(self.data_analysis_matrix_svd() - np.eye(size), 'fro')**2\n",
    "    \n",
    "    def k(self):\n",
    "        return norm(self.G,'fro')*norm(self.pseudoinverse(),'fro')\n",
    "    \n",
    "    \n",
    "def format_matrix(matrix, demical=None, latex=None): #format(. ,\"n.f\") but for matrices\n",
    "    if (demical==None): demical= \".\"+str(5)+\"f\"\n",
    "    else:\n",
    "        demical = \".\"+str(demical)+\"f\"\n",
    "    f_oper = lambda arr: np.array([float(format(arr[i],demical)) for i in range(len(arr))])    \n",
    "    if latex==True:\n",
    "        return Matrix(np.array(list(map(f_oper, matrix))))\n",
    "    return np.array(list(map(f_oper, matrix)))\n",
    "\n"
   ]
  },
  {
   "cell_type": "code",
   "execution_count": 6,
   "id": "93485782",
   "metadata": {},
   "outputs": [],
   "source": [
    "data_x = np.array([1,2,3,5,6,12,15,20,30])\n",
    "data_y = np.array([23,49,107,442,905,8700,13200,38440,215300])\n",
    "\n",
    "model = poly_fitting(data_x,data_y)"
   ]
  },
  {
   "cell_type": "code",
   "execution_count": 7,
   "id": "3bf7192a",
   "metadata": {},
   "outputs": [
    {
     "data": {
      "text/html": [
       "<div>\n",
       "<style scoped>\n",
       "    .dataframe tbody tr th:only-of-type {\n",
       "        vertical-align: middle;\n",
       "    }\n",
       "\n",
       "    .dataframe tbody tr th {\n",
       "        vertical-align: top;\n",
       "    }\n",
       "\n",
       "    .dataframe thead th {\n",
       "        text-align: right;\n",
       "    }\n",
       "</style>\n",
       "<table border=\"1\" class=\"dataframe\">\n",
       "  <thead>\n",
       "    <tr style=\"text-align: right;\">\n",
       "      <th></th>\n",
       "      <th>X</th>\n",
       "      <th>Y</th>\n",
       "    </tr>\n",
       "  </thead>\n",
       "  <tbody>\n",
       "    <tr>\n",
       "      <th>0</th>\n",
       "      <td>1</td>\n",
       "      <td>23</td>\n",
       "    </tr>\n",
       "    <tr>\n",
       "      <th>1</th>\n",
       "      <td>2</td>\n",
       "      <td>49</td>\n",
       "    </tr>\n",
       "    <tr>\n",
       "      <th>2</th>\n",
       "      <td>3</td>\n",
       "      <td>107</td>\n",
       "    </tr>\n",
       "    <tr>\n",
       "      <th>3</th>\n",
       "      <td>5</td>\n",
       "      <td>442</td>\n",
       "    </tr>\n",
       "    <tr>\n",
       "      <th>4</th>\n",
       "      <td>6</td>\n",
       "      <td>905</td>\n",
       "    </tr>\n",
       "    <tr>\n",
       "      <th>5</th>\n",
       "      <td>12</td>\n",
       "      <td>8700</td>\n",
       "    </tr>\n",
       "    <tr>\n",
       "      <th>6</th>\n",
       "      <td>15</td>\n",
       "      <td>13200</td>\n",
       "    </tr>\n",
       "    <tr>\n",
       "      <th>7</th>\n",
       "      <td>20</td>\n",
       "      <td>38440</td>\n",
       "    </tr>\n",
       "    <tr>\n",
       "      <th>8</th>\n",
       "      <td>30</td>\n",
       "      <td>215300</td>\n",
       "    </tr>\n",
       "  </tbody>\n",
       "</table>\n",
       "</div>"
      ],
      "text/plain": [
       "    X       Y\n",
       "0   1      23\n",
       "1   2      49\n",
       "2   3     107\n",
       "3   5     442\n",
       "4   6     905\n",
       "5  12    8700\n",
       "6  15   13200\n",
       "7  20   38440\n",
       "8  30  215300"
      ]
     },
     "execution_count": 7,
     "metadata": {},
     "output_type": "execute_result"
    }
   ],
   "source": [
    "model.df()"
   ]
  },
  {
   "cell_type": "code",
   "execution_count": 8,
   "id": "071ed5d4",
   "metadata": {},
   "outputs": [
    {
     "data": {
      "text/latex": [
       "$\\displaystyle \\left[\\begin{matrix}m_{1} + m_{2} + m_{3} + m_{4}\\\\m_{1} + 2 m_{2} + 4 m_{3} + 8 m_{4}\\\\m_{1} + 3 m_{2} + 9 m_{3} + 27 m_{4}\\\\m_{1} + 5 m_{2} + 25 m_{3} + 125 m_{4}\\\\m_{1} + 6 m_{2} + 36 m_{3} + 216 m_{4}\\\\m_{1} + 12 m_{2} + 144 m_{3} + 1728 m_{4}\\\\m_{1} + 15 m_{2} + 225 m_{3} + 3375 m_{4}\\\\m_{1} + 20 m_{2} + 400 m_{3} + 8000 m_{4}\\\\m_{1} + 30 m_{2} + 900 m_{3} + 27000 m_{4}\\end{matrix}\\right]$"
      ],
      "text/plain": [
       "Matrix([\n",
       "[             m_1 + m_2 + m_3 + m_4],\n",
       "[       m_1 + 2*m_2 + 4*m_3 + 8*m_4],\n",
       "[      m_1 + 3*m_2 + 9*m_3 + 27*m_4],\n",
       "[    m_1 + 5*m_2 + 25*m_3 + 125*m_4],\n",
       "[    m_1 + 6*m_2 + 36*m_3 + 216*m_4],\n",
       "[ m_1 + 12*m_2 + 144*m_3 + 1728*m_4],\n",
       "[ m_1 + 15*m_2 + 225*m_3 + 3375*m_4],\n",
       "[ m_1 + 20*m_2 + 400*m_3 + 8000*m_4],\n",
       "[m_1 + 30*m_2 + 900*m_3 + 27000*m_4]])"
      ]
     },
     "execution_count": 8,
     "metadata": {},
     "output_type": "execute_result"
    }
   ],
   "source": [
    "model.give_eqs()"
   ]
  },
  {
   "cell_type": "code",
   "execution_count": 9,
   "id": "be9af802",
   "metadata": {},
   "outputs": [
    {
     "data": {
      "text/latex": [
       "$\\displaystyle \\left[\\begin{matrix}1 & 1 & 1 & 1\\\\1 & 2 & 4 & 8\\\\1 & 3 & 9 & 27\\\\1 & 5 & 25 & 125\\\\1 & 6 & 36 & 216\\\\1 & 12 & 144 & 1728\\\\1 & 15 & 225 & 3375\\\\1 & 20 & 400 & 8000\\\\1 & 30 & 900 & 27000\\end{matrix}\\right]$"
      ],
      "text/plain": [
       "Matrix([\n",
       "[1,  1,   1,     1],\n",
       "[1,  2,   4,     8],\n",
       "[1,  3,   9,    27],\n",
       "[1,  5,  25,   125],\n",
       "[1,  6,  36,   216],\n",
       "[1, 12, 144,  1728],\n",
       "[1, 15, 225,  3375],\n",
       "[1, 20, 400,  8000],\n",
       "[1, 30, 900, 27000]])"
      ]
     },
     "execution_count": 9,
     "metadata": {},
     "output_type": "execute_result"
    }
   ],
   "source": [
    "Matrix(model.G)"
   ]
  },
  {
   "cell_type": "code",
   "execution_count": 10,
   "id": "03d40933",
   "metadata": {},
   "outputs": [
    {
     "data": {
      "image/png": "[encoded data removed]",
      "text/plain": [
       "<Figure size 432x288 with 1 Axes>"
      ]
     },
     "metadata": {
      "needs_background": "light"
     },
     "output_type": "display_data"
    }
   ],
   "source": [
    "model.plot_data()"
   ]
  },
  {
   "cell_type": "code",
   "execution_count": 11,
   "id": "b61c7516",
   "metadata": {},
   "outputs": [
    {
     "data": {
      "text/latex": [
       "$\\displaystyle \\left[\\begin{matrix}-4526.12816835896\\\\2881.0401528196\\\\-385.877006164702\\\\17.787867537097\\end{matrix}\\right]$"
      ],
      "text/plain": [
       "Matrix([\n",
       "[-4526.12816835896],\n",
       "[  2881.0401528196],\n",
       "[-385.877006164702],\n",
       "[  17.787867537097]])"
      ]
     },
     "execution_count": 11,
     "metadata": {},
     "output_type": "execute_result"
    }
   ],
   "source": [
    "Matrix(model.least_squares()) #normal eq"
   ]
  },
  {
   "cell_type": "code",
   "execution_count": 12,
   "id": "6b2ff836",
   "metadata": {},
   "outputs": [
    {
     "data": {
      "text/latex": [
       "$\\displaystyle \\left[\\begin{matrix}-2013.17715416696\\\\-165.25294708179\\\\1124.37165811914\\\\2455.63088375861\\\\2710.71991464232\\\\5217.49988186275\\\\11901.2006745794\\\\41046.8127189282\\\\214888.194369616\\end{matrix}\\right]$"
      ],
      "text/plain": [
       "Matrix([\n",
       "[-2013.17715416696],\n",
       "[ -165.25294708179],\n",
       "[ 1124.37165811914],\n",
       "[ 2455.63088375861],\n",
       "[ 2710.71991464232],\n",
       "[ 5217.49988186275],\n",
       "[ 11901.2006745794],\n",
       "[ 41046.8127189282],\n",
       "[ 214888.194369616]])"
      ]
     },
     "execution_count": 12,
     "metadata": {},
     "output_type": "execute_result"
    }
   ],
   "source": [
    "Matrix(model.d_pre())"
   ]
  },
  {
   "cell_type": "code",
   "execution_count": 13,
   "id": "e2a24f0f",
   "metadata": {},
   "outputs": [
    {
     "data": {
      "text/plain": [
       "5772.524902909619"
      ]
     },
     "execution_count": 13,
     "metadata": {},
     "output_type": "execute_result"
    }
   ],
   "source": [
    "model.error()"
   ]
  },
  {
   "cell_type": "code",
   "execution_count": 14,
   "id": "3d078ecc",
   "metadata": {},
   "outputs": [
    {
     "data": {
      "image/png": "[encoded data removed]",
      "text/plain": [
       "<Figure size 540x252 with 1 Axes>"
      ]
     },
     "metadata": {
      "needs_background": "light"
     },
     "output_type": "display_data"
    }
   ],
   "source": [
    "model.plot_fitting()"
   ]
  },
  {
   "cell_type": "code",
   "execution_count": 15,
   "id": "2f5e72be",
   "metadata": {},
   "outputs": [
    {
     "data": {
      "text/latex": [
       "$\\displaystyle \\left[\\begin{matrix}1.0 & 1.0 & 1.0 & 1.0\\\\1.0 & 2.0 & 4.0 & 8.0\\\\1.0 & 3.0 & 9.0 & 27.0\\\\1.0 & 5.0 & 25.0 & 125.0\\\\1.0 & 6.0 & 36.0 & 216.0\\\\1.0 & 12.0 & 144.0 & 1728.0\\\\1.0 & 15.0 & 225.0 & 3375.0\\\\1.0 & 20.0 & 400.0 & 8000.0\\\\1.0 & 30.0 & 900.0 & 27000.0\\end{matrix}\\right]$"
      ],
      "text/plain": [
       "Matrix([\n",
       "[1.0,  1.0,   1.0,     1.0],\n",
       "[1.0,  2.0,   4.0,     8.0],\n",
       "[1.0,  3.0,   9.0,    27.0],\n",
       "[1.0,  5.0,  25.0,   125.0],\n",
       "[1.0,  6.0,  36.0,   216.0],\n",
       "[1.0, 12.0, 144.0,  1728.0],\n",
       "[1.0, 15.0, 225.0,  3375.0],\n",
       "[1.0, 20.0, 400.0,  8000.0],\n",
       "[1.0, 30.0, 900.0, 27000.0]])"
      ]
     },
     "execution_count": 15,
     "metadata": {},
     "output_type": "execute_result"
    }
   ],
   "source": [
    "Matrix(format_matrix(model.SVD_kernel())) # SVD analysis of G"
   ]
  },
  {
   "cell_type": "code",
   "execution_count": 16,
   "id": "9e60aa4a",
   "metadata": {},
   "outputs": [
    {
     "data": {
      "text/latex": [
       "$\\displaystyle \\left[\\begin{matrix}0.74274 & 0.46818 & 0.23894 & -0.09584 & -0.20754 & -0.29186 & -0.09581 & 0.29675 & -0.05557\\\\-0.21345 & -0.1006 & -0.00821 & 0.12101 & 0.16072 & 0.1414 & 0.03117 & -0.16669 & 0.03464\\\\0.01503 & 0.00614 & -0.00103 & -0.01077 & -0.01357 & -0.00938 & 0.00063 & 0.01744 & -0.00449\\\\-0.00029 & -0.00011 & 4.0 \\cdot 10^{-5} & 0.00023 & 0.00028 & 0.00017 & -5.0 \\cdot 10^{-5} & -0.00041 & 0.00015\\end{matrix}\\right]$"
      ],
      "text/plain": [
       "Matrix([\n",
       "[ 0.74274,  0.46818,  0.23894, -0.09584, -0.20754, -0.29186, -0.09581,  0.29675, -0.05557],\n",
       "[-0.21345,  -0.1006, -0.00821,  0.12101,  0.16072,   0.1414,  0.03117, -0.16669,  0.03464],\n",
       "[ 0.01503,  0.00614, -0.00103, -0.01077, -0.01357, -0.00938,  0.00063,  0.01744, -0.00449],\n",
       "[-0.00029, -0.00011,   4.0e-5,  0.00023,  0.00028,  0.00017,  -5.0e-5, -0.00041,  0.00015]])"
      ]
     },
     "execution_count": 16,
     "metadata": {},
     "output_type": "execute_result"
    }
   ],
   "source": [
    "Matrix(format_matrix(model.pseudoinverse()))"
   ]
  },
  {
   "cell_type": "code",
   "execution_count": 17,
   "id": "413899ec",
   "metadata": {},
   "outputs": [
    {
     "data": {
      "text/latex": [
       "$\\displaystyle \\left[\\begin{matrix}-4526.12816842002\\\\2881.04015282435\\\\-385.87700616485\\\\17.7878675370993\\end{matrix}\\right]$"
      ],
      "text/plain": [
       "Matrix([\n",
       "[-4526.12816842002],\n",
       "[ 2881.04015282435],\n",
       "[ -385.87700616485],\n",
       "[ 17.7878675370993]])"
      ]
     },
     "execution_count": 17,
     "metadata": {},
     "output_type": "execute_result"
    }
   ],
   "source": [
    "Matrix(model.SVD_m_est())"
   ]
  },
  {
   "cell_type": "code",
   "execution_count": 18,
   "id": "d5aa3346",
   "metadata": {},
   "outputs": [
    {
     "data": {
      "text/latex": [
       "$\\displaystyle \\left[\\begin{matrix}-2013.17715422342\\\\-165.252947133924\\\\1124.37165807106\\\\2455.63088371789\\\\2710.71991460492\\\\5217.49988184133\\\\11901.2006745641\\\\41046.8127189212\\\\214888.194369626\\end{matrix}\\right]$"
      ],
      "text/plain": [
       "Matrix([\n",
       "[-2013.17715422342],\n",
       "[-165.252947133924],\n",
       "[ 1124.37165807106],\n",
       "[ 2455.63088371789],\n",
       "[ 2710.71991460492],\n",
       "[ 5217.49988184133],\n",
       "[ 11901.2006745641],\n",
       "[ 41046.8127189212],\n",
       "[ 214888.194369626]])"
      ]
     },
     "execution_count": 18,
     "metadata": {},
     "output_type": "execute_result"
    }
   ],
   "source": [
    "Matrix(model.SVD_d_pre())"
   ]
  },
  {
   "cell_type": "code",
   "execution_count": 19,
   "id": "e5f308b2",
   "metadata": {},
   "outputs": [
    {
     "data": {
      "image/png": "[encoded data removed]",
      "text/plain": [
       "<Figure size 540x252 with 1 Axes>"
      ]
     },
     "metadata": {
      "needs_background": "light"
     },
     "output_type": "display_data"
    }
   ],
   "source": [
    "model.plot_fitting_SVD()"
   ]
  },
  {
   "cell_type": "code",
   "execution_count": 20,
   "id": "3efba411",
   "metadata": {},
   "outputs": [
    {
     "data": {
      "text/latex": [
       "$\\displaystyle \\left[\\begin{matrix}28433.2271452483 & 0 & 0 & 0\\\\0 & 190.725843261241 & 0 & 0\\\\0 & 0 & 5.82360392825 & 0\\\\0 & 0 & 0 & 0.919273117414761\\end{matrix}\\right]$"
      ],
      "text/plain": [
       "Matrix([\n",
       "[28433.2271452483,                0,             0,                 0],\n",
       "[               0, 190.725843261241,             0,                 0],\n",
       "[               0,                0, 5.82360392825,                 0],\n",
       "[               0,                0,             0, 0.919273117414761]])"
      ]
     },
     "execution_count": 20,
     "metadata": {},
     "output_type": "execute_result"
    }
   ],
   "source": [
    "Matrix(model.Sigma_p)"
   ]
  },
  {
   "cell_type": "code",
   "execution_count": 21,
   "id": "950ace82",
   "metadata": {},
   "outputs": [
    {
     "data": {
      "text/latex": [
       "$\\displaystyle \\left[\\begin{matrix}-4.0 \\cdot 10^{-5} & 0.0056 & 0.20028 & 0.70984\\\\-0.00029 & 0.02047 & 0.31448 & 0.43743\\\\-0.00096 & 0.04355 & 0.39969 & 0.21054\\\\-0.00442 & 0.1099 & 0.49229 & -0.11914\\\\-0.00764 & 0.15095 & 0.50425 & -0.22814\\\\-0.06092 & 0.43768 & 0.23907 & -0.29585\\\\-0.11891 & 0.55712 & -0.00732 & -0.09257\\\\-0.28168 & 0.61725 & -0.37339 & 0.30769\\\\-0.95012 & -0.28256 & 0.08944 & -0.05865\\end{matrix}\\right]$"
      ],
      "text/plain": [
       "Matrix([\n",
       "[ -4.0e-5,   0.0056,  0.20028,  0.70984],\n",
       "[-0.00029,  0.02047,  0.31448,  0.43743],\n",
       "[-0.00096,  0.04355,  0.39969,  0.21054],\n",
       "[-0.00442,   0.1099,  0.49229, -0.11914],\n",
       "[-0.00764,  0.15095,  0.50425, -0.22814],\n",
       "[-0.06092,  0.43768,  0.23907, -0.29585],\n",
       "[-0.11891,  0.55712, -0.00732, -0.09257],\n",
       "[-0.28168,  0.61725, -0.37339,  0.30769],\n",
       "[-0.95012, -0.28256,  0.08944, -0.05865]])"
      ]
     },
     "execution_count": 21,
     "metadata": {},
     "output_type": "execute_result"
    }
   ],
   "source": [
    "Matrix(format_matrix(model.U_p))"
   ]
  },
  {
   "cell_type": "code",
   "execution_count": 22,
   "id": "e1437419",
   "metadata": {},
   "outputs": [
    {
     "data": {
      "text/latex": [
       "$\\displaystyle \\left[\\begin{matrix}-5.0 \\cdot 10^{-5} & -0.00129 & -0.0353 & -0.99938\\\\0.0087 & 0.10019 & 0.99431 & -0.03525\\\\0.31918 & 0.94264 & -0.0977 & 0.00222\\\\0.94765 & -0.31841 & 0.02377 & -0.00048\\end{matrix}\\right]$"
      ],
      "text/plain": [
       "Matrix([\n",
       "[-5.0e-5, -0.00129, -0.0353, -0.99938],\n",
       "[ 0.0087,  0.10019, 0.99431, -0.03525],\n",
       "[0.31918,  0.94264, -0.0977,  0.00222],\n",
       "[0.94765, -0.31841, 0.02377, -0.00048]])"
      ]
     },
     "execution_count": 22,
     "metadata": {},
     "output_type": "execute_result"
    }
   ],
   "source": [
    "Matrix(format_matrix(model.V_p))"
   ]
  },
  {
   "cell_type": "code",
   "execution_count": 23,
   "id": "686c8ef6",
   "metadata": {},
   "outputs": [
    {
     "data": {
      "text/latex": [
       "$\\displaystyle \\left[\\begin{matrix}0.54402 & 0.37361 & 0.22974 & 0.01464 & -0.06011 & -0.15967 & -0.06405 & 0.1471 & -0.02527\\\\0.37361 & 0.29066 & 0.21868 & 0.10495 & 0.06187 & -0.04525 & -0.03136 & 0.02989 & -0.00304\\\\0.22974 & 0.21868 & 0.20597 & 0.17647 & 0.16009 & 0.05239 & 0.00196 & -0.05731 & 0.01201\\\\0.01464 & 0.10495 & 0.17647 & 0.26864 & 0.29204 & 0.20131 & 0.06918 & -0.15139 & 0.02417\\\\-0.06011 & 0.06187 & 0.16009 & 0.29204 & 0.32915 & 0.25458 & 0.10244 & -0.16315 & 0.02308\\\\-0.15967 & -0.04525 & 0.05239 & 0.20131 & 0.25458 & 0.33996 & 0.27672 & 0.10702 & -0.02706\\\\-0.06405 & -0.03136 & 0.00196 & 0.06918 & 0.10244 & 0.27672 & 0.33315 & 0.35163 & -0.03967\\\\0.1471 & 0.02989 & -0.05731 & -0.15139 & -0.16315 & 0.10702 & 0.35163 & 0.69444 & 0.04178\\\\-0.02527 & -0.00304 & 0.01201 & 0.02417 & 0.02308 & -0.02706 & -0.03967 & 0.04178 & 0.994\\end{matrix}\\right]$"
      ],
      "text/plain": [
       "Matrix([\n",
       "[ 0.54402,  0.37361,  0.22974,  0.01464, -0.06011, -0.15967, -0.06405,   0.1471, -0.02527],\n",
       "[ 0.37361,  0.29066,  0.21868,  0.10495,  0.06187, -0.04525, -0.03136,  0.02989, -0.00304],\n",
       "[ 0.22974,  0.21868,  0.20597,  0.17647,  0.16009,  0.05239,  0.00196, -0.05731,  0.01201],\n",
       "[ 0.01464,  0.10495,  0.17647,  0.26864,  0.29204,  0.20131,  0.06918, -0.15139,  0.02417],\n",
       "[-0.06011,  0.06187,  0.16009,  0.29204,  0.32915,  0.25458,  0.10244, -0.16315,  0.02308],\n",
       "[-0.15967, -0.04525,  0.05239,  0.20131,  0.25458,  0.33996,  0.27672,  0.10702, -0.02706],\n",
       "[-0.06405, -0.03136,  0.00196,  0.06918,  0.10244,  0.27672,  0.33315,  0.35163, -0.03967],\n",
       "[  0.1471,  0.02989, -0.05731, -0.15139, -0.16315,  0.10702,  0.35163,  0.69444,  0.04178],\n",
       "[-0.02527, -0.00304,  0.01201,  0.02417,  0.02308, -0.02706, -0.03967,  0.04178,    0.994]])"
      ]
     },
     "execution_count": 23,
     "metadata": {},
     "output_type": "execute_result"
    }
   ],
   "source": [
    "Matrix(format_matrix(model.data_analysis_matrix_svd()))"
   ]
  },
  {
   "cell_type": "code",
   "execution_count": 24,
   "id": "b98f7fcf",
   "metadata": {},
   "outputs": [
    {
     "data": {
      "text/latex": [
       "$\\displaystyle \\left[\\begin{matrix}1.0 & 0 & 0 & 0\\\\0 & 1.0 & 0 & 0\\\\0 & 0 & 1.0 & 0\\\\0 & 0 & 0 & 1.0\\end{matrix}\\right]$"
      ],
      "text/plain": [
       "Matrix([\n",
       "[1.0,   0,   0,   0],\n",
       "[  0, 1.0,   0,   0],\n",
       "[  0,   0, 1.0,   0],\n",
       "[  0,   0,   0, 1.0]])"
      ]
     },
     "execution_count": 24,
     "metadata": {},
     "output_type": "execute_result"
    }
   ],
   "source": [
    "Matrix(format_matrix(model.par_analysis_matrix_svd()))"
   ]
  },
  {
   "cell_type": "code",
   "execution_count": 25,
   "id": "efdd65de",
   "metadata": {},
   "outputs": [
    {
     "data": {
      "text/latex": [
       "$\\displaystyle \\left[\\begin{matrix}1.0657 & -0.3482 & 0.02574 & -0.00051\\\\-0.3482 & 0.14618 & -0.01167 & 0.00024\\\\0.02574 & -0.01167 & 0.00098 & -2.0 \\cdot 10^{-5}\\\\-0.00051 & 0.00024 & -2.0 \\cdot 10^{-5} & 0\\end{matrix}\\right]$"
      ],
      "text/plain": [
       "Matrix([\n",
       "[  1.0657,  -0.3482,  0.02574, -0.00051],\n",
       "[ -0.3482,  0.14618, -0.01167,  0.00024],\n",
       "[ 0.02574, -0.01167,  0.00098,  -2.0e-5],\n",
       "[-0.00051,  0.00024,  -2.0e-5,        0]])"
      ]
     },
     "execution_count": 25,
     "metadata": {},
     "output_type": "execute_result"
    }
   ],
   "source": [
    "Matrix(format_matrix(model.cov_u_m()))"
   ]
  },
  {
   "cell_type": "code",
   "execution_count": 26,
   "id": "bd142b99",
   "metadata": {},
   "outputs": [
    {
     "data": {
      "text/plain": [
       "5.0"
      ]
     },
     "execution_count": 26,
     "metadata": {},
     "output_type": "execute_result"
    }
   ],
   "source": [
    "float(format(model.spread_N(),\".4f\"))"
   ]
  },
  {
   "cell_type": "code",
   "execution_count": 28,
   "id": "86b67578",
   "metadata": {},
   "outputs": [
    {
     "data": {
      "text/plain": [
       "31314.15973350633"
      ]
     },
     "execution_count": 28,
     "metadata": {},
     "output_type": "execute_result"
    }
   ],
   "source": [
    "model.k() #cond number"
   ]
  },
  {
   "cell_type": "markdown",
   "id": "bfcea80e",
   "metadata": {},
   "source": [
    "--------\n",
    "\n",
    "### $$\\textbf{John Mars}$$\n",
    "\n",
    "----------"
   ]
  }
 ],
 "metadata": {
  "kernelspec": {
   "display_name": "Python 3 (ipykernel)",
   "language": "python",
   "name": "python3"
  },
  "language_info": {
   "codemirror_mode": {
    "name": "ipython",
    "version": 3
   },
   "file_extension": ".py",
   "mimetype": "text/x-python",
   "name": "python",
   "nbconvert_exporter": "python",
   "pygments_lexer": "ipython3",
   "version": "3.10.2"
  }
 },
 "nbformat": 4,
 "nbformat_minor": 5
}
