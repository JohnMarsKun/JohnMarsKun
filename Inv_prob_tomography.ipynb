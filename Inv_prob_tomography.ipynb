{
 "cells": [
  {
   "cell_type": "markdown",
   "id": "557693ca",
   "metadata": {},
   "source": [
    "----------------\n",
    "\n",
    "\n",
    "# $\\qquad\\qquad\\qquad\\qquad$ DISCRETE INVERSE PROBLEMS\n",
    "\n",
    "## $$\\color{red}{\\mathbf{\\textbf{ML IN TOMOGRAPHY}}}$$ \n",
    "\n",
    "------------\n",
    "\n",
    "### $\\color{pink}{\\text{Maris Ioannis}}$ \n",
    "### $\\color{pink}{\\text{2022}}$"
   ]
  },
  {
   "cell_type": "code",
   "execution_count": 1,
   "id": "32e4fdb7",
   "metadata": {},
   "outputs": [],
   "source": [
    "#Include some software\n",
    "\n",
    "import numpy as np\n",
    "from pandas import DataFrame\n",
    "from numpy.linalg import inv, norm\n",
    "from sympy import Matrix, latex, symbols, Symbol\n",
    "import matplotlib.pyplot as plt\n",
    "#init_printing()\n"
   ]
  },
  {
   "cell_type": "code",
   "execution_count": 2,
   "id": "68782434",
   "metadata": {},
   "outputs": [],
   "source": [
    "class Tomography:\n",
    "    \n",
    "    s_air = 1/330\n",
    "    c_air = 330  #m/sec\n",
    "    \n",
    "    def __init__(self,angle,time):\n",
    "        self.angle = angle\n",
    "        self.time = time\n",
    "        \n",
    "    def __repr__(self):\n",
    "        K_ang = ['(Angle_' + str(i+1) + ') ' + str(Angle[i]) for i in range(len(Angle))]\n",
    "        V_tim = ['(time_' + str(i+1) + ') ' + str(Time_msec[i]) for i in range(len(Time_msec))]\n",
    "        return f'{dict(zip(K_ang,V_tim))}'\n",
    "    \n",
    "    def data_frame(self):\n",
    "        Time_sec = np.array(self.time) * 10**-3\n",
    "        df = DataFrame([self.angle,np.array(self.angle)*(np.pi/180), self.time,Time_sec],\n",
    "         index = ['Angle (deg)','Angle (rad)','Time (msec)', 'Time (sec)']).T\n",
    "        return df\n",
    "    \n",
    "    def plot(self):\n",
    "        plt.plot(self.time, self.angle,'.', color='black')\n",
    "        plt.xlabel('$\\mathbf{Time}$ (msec)')\n",
    "        plt.ylabel('$\\mathbf{Angle}$ (degrees)')\n",
    "        plt.show()\n",
    "    \n",
    "    \n",
    "    def Ray_points(self,x):\n",
    "        Ly = lambda y,deg: (y,np.tan(deg*(np.pi/180))*y)\n",
    "        Lx = lambda x,deg: (x/np.tan(deg*(np.pi/180)),x)\n",
    "        X = [list(filter(lambda x: 1<=x[0]<=5 and 1<=x[1]<=5 ,\n",
    "         [Lx(i,self.angle[j]) for i in range(1,5+1)])) for j in range(15)]\n",
    "        Y = [list(filter(lambda x: 5 >= x[1] >=1 and 1<=x[0]<=5 ,\n",
    "         [Ly(i,self.angle[j]) for i in range(1,5+1)] )) for j in range(15) ]\n",
    "        Z = [X[i]+Y[i] for i in range(len(X))] \n",
    "        Ray = lambda i: sorted(Z[i])\n",
    "        return Ray(x)\n",
    "        \n",
    "    def Ray_dist_in(self):\n",
    "        \n",
    "        Ly = lambda y,deg: (y,np.tan(deg*(np.pi/180))*y)\n",
    "        Lx = lambda x,deg: (x/np.tan(deg*(np.pi/180)),x)\n",
    "        \n",
    "        \n",
    "        X = [list(filter(lambda x: 1<=x[0]<=5 and 1<=x[1]<=5 ,\n",
    "         [Lx(i,self.angle[j]) for i in range(1,5+1)])) for j in range(15)]\n",
    "        \n",
    "        Y = [list(filter(lambda x: 5 >= x[1] >=1 and 1<=x[0]<=5 ,\n",
    "         [Ly(i,self.angle[j]) for i in range(1,5+1)] )) for j in range(15) ]\n",
    "        \n",
    "        Z = [X[i]+Y[i] for i in range(len(X))] # intersection points of the line_i with the squares\n",
    "        \n",
    "        Ray = lambda i: sorted(Z[i])\n",
    "        \n",
    "        point_dist = lambda P: np.sqrt((P[1][0] - P[0][0])**2 + (P[1][1] - P[0][1])) \n",
    "        #i.e P = ((0,0), (1,1)) --> sqrt(2)\n",
    "        \n",
    "        POINTS = lambda x : [(Ray(x)[i],Ray(x)[i+1]) for i in range(len(Ray(x))-1)] #pair points\n",
    "        DIST_OF_ALL = [list(map(point_dist, POINTS(i))) for i in range(15)]     #all the dists of the pairs\n",
    "        \n",
    "        DOA = [DIST_OF_ALL[i][j] for i in range(15) for j in range(len(DIST_OF_ALL[i]))]\n",
    "        \n",
    "        counter_of_h_i = sum(list(map(len, DIST_OF_ALL)))\n",
    "        \n",
    "        L = dict(zip(['h_'+str(i) for i in range(1,counter_of_h_i+1)], DOA)) \n",
    "        \n",
    "        H_val = list(L.values())[:29-1] + 4*[np.sqrt(2)] + list(L.values())[35:]\n",
    "        \n",
    "        H = dict(zip(['h_'+str(i+1) for i in range(len(H_val))], H_val))\n",
    "        \n",
    "        return H\n",
    "    \n",
    "    def Ray_dist_out(self, Dict=None):\n",
    "        point_dist = lambda P: np.sqrt((P[1][0] - P[0][0])**2 + (P[1][1] - P[0][1])) \n",
    "        min_max = lambda points_arr: [min(points_arr)] + [max(points_arr)]  #keeps only the min,max points\n",
    "        min_max_Dist = [min_max(self.Ray_points(i)) for i in range(15)]\n",
    "        output = 8 - np.array(list(map(point_dist, min_max_Dist)))\n",
    "        \n",
    "        if Dict != None:\n",
    "            return dict(zip(['h_'+str(i+1)+'^out' for i in range(15)], output)) #as a dict\n",
    "        \n",
    "        return output #dist of the ray out of the testing blocks\n",
    "    \n",
    "    def time_out(self):\n",
    "        return dict(zip(['t_'+str(i+1)+'^out' for i in range(15)], self.Ray_dist_out()/330))\n",
    "\n",
    "    def time_in_minus_out(self, Dict=None):\n",
    "        output = np.array(self.time) - np.array(list(self.time_out().values()))\n",
    "        if Dict != None:\n",
    "            return dict(zip(['t\\'_'+str(i+1) for i in range(15)], output))\n",
    "        return output\n",
    "    \n",
    "    def data_frame_all(self):\n",
    "        Time_sec = np.array(self.time) * 10**-3\n",
    "        df = DataFrame([self.angle,np.array(self.angle)*(np.pi/180), self.time,\n",
    "                        Time_sec, self.Ray_dist_out(), list(self.time_out().values()),self.time_in_minus_out()],\n",
    "         index = ['Angle (deg)','Angle (rad)','Time (msec)', 'Time (sec)',\n",
    "                  '$h^{out}$','$t^{out}$','t \\'']).T\n",
    "        return df\n",
    "        \n",
    "    "
   ]
  },
  {
   "cell_type": "code",
   "execution_count": 3,
   "id": "586bccc9",
   "metadata": {},
   "outputs": [],
   "source": [
    "#Data_set\n",
    "Angle = [\n",
    "    12,15,18,23,32,36,42,45,50,55,60,65,70,75,78\n",
    "]\n",
    "Time_msec = [\n",
    "    22.42,20.59,18.628,16.214,13.112,11.695,9.62,8.358,10.335,12.006,13.822,15.48,17.189,20.58,23.22\n",
    "]\n",
    "\n",
    "Tom_test = Tomography(Angle,Time_msec)\n",
    "#Tom_test"
   ]
  },
  {
   "cell_type": "code",
   "execution_count": 4,
   "id": "298894e6",
   "metadata": {},
   "outputs": [
    {
     "data": {
      "image/png": "[encoded data removed]",
      "text/plain": [
       "<Figure size 432x288 with 1 Axes>"
      ]
     },
     "metadata": {
      "needs_background": "light"
     },
     "output_type": "display_data"
    }
   ],
   "source": [
    "Tom_test.plot()"
   ]
  },
  {
   "cell_type": "code",
   "execution_count": 5,
   "id": "efe1104c",
   "metadata": {},
   "outputs": [
    {
     "data": {
      "text/html": [
       "<div>\n",
       "<style scoped>\n",
       "    .dataframe tbody tr th:only-of-type {\n",
       "        vertical-align: middle;\n",
       "    }\n",
       "\n",
       "    .dataframe tbody tr th {\n",
       "        vertical-align: top;\n",
       "    }\n",
       "\n",
       "    .dataframe thead th {\n",
       "        text-align: right;\n",
       "    }\n",
       "</style>\n",
       "<table border=\"1\" class=\"dataframe\">\n",
       "  <thead>\n",
       "    <tr style=\"text-align: right;\">\n",
       "      <th></th>\n",
       "      <th>Angle (deg)</th>\n",
       "      <th>Angle (rad)</th>\n",
       "      <th>Time (msec)</th>\n",
       "      <th>Time (sec)</th>\n",
       "    </tr>\n",
       "  </thead>\n",
       "  <tbody>\n",
       "    <tr>\n",
       "      <th>0</th>\n",
       "      <td>12.0</td>\n",
       "      <td>0.209440</td>\n",
       "      <td>22.420</td>\n",
       "      <td>0.022420</td>\n",
       "    </tr>\n",
       "    <tr>\n",
       "      <th>1</th>\n",
       "      <td>15.0</td>\n",
       "      <td>0.261799</td>\n",
       "      <td>20.590</td>\n",
       "      <td>0.020590</td>\n",
       "    </tr>\n",
       "    <tr>\n",
       "      <th>2</th>\n",
       "      <td>18.0</td>\n",
       "      <td>0.314159</td>\n",
       "      <td>18.628</td>\n",
       "      <td>0.018628</td>\n",
       "    </tr>\n",
       "    <tr>\n",
       "      <th>3</th>\n",
       "      <td>23.0</td>\n",
       "      <td>0.401426</td>\n",
       "      <td>16.214</td>\n",
       "      <td>0.016214</td>\n",
       "    </tr>\n",
       "    <tr>\n",
       "      <th>4</th>\n",
       "      <td>32.0</td>\n",
       "      <td>0.558505</td>\n",
       "      <td>13.112</td>\n",
       "      <td>0.013112</td>\n",
       "    </tr>\n",
       "    <tr>\n",
       "      <th>5</th>\n",
       "      <td>36.0</td>\n",
       "      <td>0.628319</td>\n",
       "      <td>11.695</td>\n",
       "      <td>0.011695</td>\n",
       "    </tr>\n",
       "    <tr>\n",
       "      <th>6</th>\n",
       "      <td>42.0</td>\n",
       "      <td>0.733038</td>\n",
       "      <td>9.620</td>\n",
       "      <td>0.009620</td>\n",
       "    </tr>\n",
       "    <tr>\n",
       "      <th>7</th>\n",
       "      <td>45.0</td>\n",
       "      <td>0.785398</td>\n",
       "      <td>8.358</td>\n",
       "      <td>0.008358</td>\n",
       "    </tr>\n",
       "    <tr>\n",
       "      <th>8</th>\n",
       "      <td>50.0</td>\n",
       "      <td>0.872665</td>\n",
       "      <td>10.335</td>\n",
       "      <td>0.010335</td>\n",
       "    </tr>\n",
       "    <tr>\n",
       "      <th>9</th>\n",
       "      <td>55.0</td>\n",
       "      <td>0.959931</td>\n",
       "      <td>12.006</td>\n",
       "      <td>0.012006</td>\n",
       "    </tr>\n",
       "    <tr>\n",
       "      <th>10</th>\n",
       "      <td>60.0</td>\n",
       "      <td>1.047198</td>\n",
       "      <td>13.822</td>\n",
       "      <td>0.013822</td>\n",
       "    </tr>\n",
       "    <tr>\n",
       "      <th>11</th>\n",
       "      <td>65.0</td>\n",
       "      <td>1.134464</td>\n",
       "      <td>15.480</td>\n",
       "      <td>0.015480</td>\n",
       "    </tr>\n",
       "    <tr>\n",
       "      <th>12</th>\n",
       "      <td>70.0</td>\n",
       "      <td>1.221730</td>\n",
       "      <td>17.189</td>\n",
       "      <td>0.017189</td>\n",
       "    </tr>\n",
       "    <tr>\n",
       "      <th>13</th>\n",
       "      <td>75.0</td>\n",
       "      <td>1.308997</td>\n",
       "      <td>20.580</td>\n",
       "      <td>0.020580</td>\n",
       "    </tr>\n",
       "    <tr>\n",
       "      <th>14</th>\n",
       "      <td>78.0</td>\n",
       "      <td>1.361357</td>\n",
       "      <td>23.220</td>\n",
       "      <td>0.023220</td>\n",
       "    </tr>\n",
       "  </tbody>\n",
       "</table>\n",
       "</div>"
      ],
      "text/plain": [
       "    Angle (deg)  Angle (rad)  Time (msec)  Time (sec)\n",
       "0          12.0     0.209440       22.420    0.022420\n",
       "1          15.0     0.261799       20.590    0.020590\n",
       "2          18.0     0.314159       18.628    0.018628\n",
       "3          23.0     0.401426       16.214    0.016214\n",
       "4          32.0     0.558505       13.112    0.013112\n",
       "5          36.0     0.628319       11.695    0.011695\n",
       "6          42.0     0.733038        9.620    0.009620\n",
       "7          45.0     0.785398        8.358    0.008358\n",
       "8          50.0     0.872665       10.335    0.010335\n",
       "9          55.0     0.959931       12.006    0.012006\n",
       "10         60.0     1.047198       13.822    0.013822\n",
       "11         65.0     1.134464       15.480    0.015480\n",
       "12         70.0     1.221730       17.189    0.017189\n",
       "13         75.0     1.308997       20.580    0.020580\n",
       "14         78.0     1.361357       23.220    0.023220"
      ]
     },
     "execution_count": 5,
     "metadata": {},
     "output_type": "execute_result"
    }
   ],
   "source": [
    "Tom_test.data_frame()"
   ]
  },
  {
   "cell_type": "code",
   "execution_count": 6,
   "id": "f1af1bce",
   "metadata": {},
   "outputs": [
    {
     "data": {
      "text/plain": [
       "{'h_1': 0.3873321321254156,\n",
       " 'h_2': 0.3789373819630117,\n",
       " 'h_3': 1.1260325006104943,\n",
       " 'h_4': 1.0725420469749316,\n",
       " 'h_5': 1.1510515610661871,\n",
       " 'h_6': 0.829668984139862,\n",
       " 'h_7': 1.1935136430764437,\n",
       " 'h_8': 0.8992354309139674,\n",
       " 'h_9': 0.45330811023238987,\n",
       " 'h_10': 0.6398993612244772,\n",
       " 'h_11': 1.2747036329709458,\n",
       " 'h_12': 0.40701353189246064,\n",
       " 'h_13': 1.066961743618142,\n",
       " 'h_14': 1.068704514328842,\n",
       " 'h_15': 0.40490286722186886,\n",
       " 'h_16': 0.9175971693101189,\n",
       " 'h_17': 1.0552574776894759,\n",
       " 'h_18': 0.4906661822070718,\n",
       " 'h_19': 1.313979652812539,\n",
       " 'h_20': 0.33242821130228245,\n",
       " 'h_21': 1.1794489157614414,\n",
       " 'h_22': 1.2616727734932431,\n",
       " 'h_23': 0.49812892422712607,\n",
       " 'h_24': 1.1435482444235143,\n",
       " 'h_25': 0.6394560368297622,\n",
       " 'h_26': 1.023746669908014,\n",
       " 'h_27': 0.7708085870033203,\n",
       " 'h_28': 0.9015997769770523,\n",
       " 'h_29': 1.4142135623730951,\n",
       " 'h_30': 1.4142135623730951,\n",
       " 'h_31': 1.4142135623730951,\n",
       " 'h_32': 1.4142135623730951,\n",
       " 'h_33': 1.1261441501264655,\n",
       " 'h_34': 0.6978989181375547,\n",
       " 'h_35': 0.9402611127026609,\n",
       " 'h_36': 0.8990334454113573,\n",
       " 'h_37': 0.7428049075175845,\n",
       " 'h_38': 1.0868473809019539,\n",
       " 'h_39': 0.5207736154781106,\n",
       " 'h_40': 0.8556776418031824,\n",
       " 'h_41': 1.1026323476432927,\n",
       " 'h_42': 0.3922102715260954,\n",
       " 'h_43': 1.2207745887614563,\n",
       " 'h_44': 0.5693089216273912,\n",
       " 'h_45': 0.983155505311809,\n",
       " 'h_46': 0.5402605380795026,\n",
       " 'h_47': 1.1547005383792517,\n",
       " 'h_48': 0.7320508075688764,\n",
       " 'h_49': 0.7947499047886499,\n",
       " 'h_50': 1.1547005383792515,\n",
       " 'h_51': 1.0072897393731561,\n",
       " 'h_52': 1.1033779189624917,\n",
       " 'h_53': 0.5542351697638144,\n",
       " 'h_54': 0.9060374149177762,\n",
       " 'h_55': 0.5108523836044149,\n",
       " 'h_56': 1.0641777724759123,\n",
       " 'h_57': 1.064177772475912,\n",
       " 'h_58': 0.5225935022309347,\n",
       " 'h_59': 1.035276180410083,\n",
       " 'h_60': 0.5470937502347067}"
      ]
     },
     "execution_count": 6,
     "metadata": {},
     "output_type": "execute_result"
    }
   ],
   "source": [
    "dd = Tom_test.Ray_dist_in()\n",
    "dd"
   ]
  },
  {
   "cell_type": "code",
   "execution_count": 7,
   "id": "c9b61f88",
   "metadata": {},
   "outputs": [
    {
     "data": {
      "text/plain": [
       "[(4.704630109478455, 1), (5, 1.0627828083501107)]"
      ]
     },
     "execution_count": 7,
     "metadata": {},
     "output_type": "execute_result"
    }
   ],
   "source": [
    "Tom_test.Ray_points(0)"
   ]
  },
  {
   "cell_type": "code",
   "execution_count": 8,
   "id": "adb3632b",
   "metadata": {},
   "outputs": [
    {
     "data": {
      "text/plain": [
       "[(3.7320508075688776, 1), (4, 1.0717967697244908), (5, 1.3397459621556136)]"
      ]
     },
     "execution_count": 8,
     "metadata": {},
     "output_type": "execute_result"
    }
   ],
   "source": [
    "Tom_test.Ray_points(1)"
   ]
  },
  {
   "cell_type": "code",
   "execution_count": 9,
   "id": "43db0995",
   "metadata": {},
   "outputs": [
    {
     "data": {
      "text/plain": [
       "[(1, 4.704630109478451), (1.0627828083501114, 5)]"
      ]
     },
     "execution_count": 9,
     "metadata": {},
     "output_type": "execute_result"
    }
   ],
   "source": [
    "Tom_test.Ray_points(14)"
   ]
  },
  {
   "cell_type": "code",
   "execution_count": 10,
   "id": "6e70e12f",
   "metadata": {},
   "outputs": [
    {
     "data": {
      "text/plain": [
       "array([7.61266787, 6.60449252, 5.92156331, 5.15151079, 4.3010715 ,\n",
       "       4.02969515, 3.68382632, 3.52786405, 4.25574375, 4.86518876,\n",
       "       5.38699793, 5.84860806, 6.28983085, 6.82382973, 7.45290625])"
      ]
     },
     "execution_count": 10,
     "metadata": {},
     "output_type": "execute_result"
    }
   ],
   "source": [
    "Tom_test.Ray_dist_out() #h_1^out, ... , h_15^out"
   ]
  },
  {
   "cell_type": "code",
   "execution_count": 11,
   "id": "1ad97083",
   "metadata": {},
   "outputs": [
    {
     "data": {
      "text/plain": [
       "{'h_1^out': 7.612667867874585,\n",
       " 'h_2^out': 6.6044925235806335,\n",
       " 'h_3^out': 5.921563312387992,\n",
       " 'h_4^out': 5.151510787738899,\n",
       " 'h_5^out': 4.301071496503727,\n",
       " 'h_6^out': 4.029695146929523,\n",
       " 'h_7^out': 3.683826320536615,\n",
       " 'h_8^out': 3.5278640450004204,\n",
       " 'h_9^out': 4.255743749196755,\n",
       " 'h_10^out': 4.865188757627767,\n",
       " 'h_11^out': 5.386997926929984,\n",
       " 'h_12^out': 5.848608055399846,\n",
       " 'h_13^out': 6.289830849395823,\n",
       " 'h_14^out': 6.823829726939094,\n",
       " 'h_15^out': 7.452906249765293}"
      ]
     },
     "execution_count": 11,
     "metadata": {},
     "output_type": "execute_result"
    }
   ],
   "source": [
    "Tom_test.Ray_dist_out(dict) #h_1^out, ... , h_15^out"
   ]
  },
  {
   "cell_type": "code",
   "execution_count": 12,
   "id": "0c8b456f",
   "metadata": {},
   "outputs": [
    {
     "data": {
      "text/plain": [
       "True"
      ]
     },
     "execution_count": 12,
     "metadata": {},
     "output_type": "execute_result"
    }
   ],
   "source": [
    "#i.e\n",
    "7.612667867874585 + 0.3873321321254156 == 8  #for the 1st ray (deg=12)"
   ]
  },
  {
   "cell_type": "code",
   "execution_count": 13,
   "id": "792bc37d",
   "metadata": {},
   "outputs": [
    {
     "data": {
      "text/plain": [
       "{'t_1^out': 0.023068690508710864,\n",
       " 't_2^out': 0.0200136137078201,\n",
       " 't_3^out': 0.017944131249660582,\n",
       " 't_4^out': 0.015610638750723936,\n",
       " 't_5^out': 0.013033549989405235,\n",
       " 't_6^out': 0.012211197414937949,\n",
       " 't_7^out': 0.011163110062232166,\n",
       " 't_8^out': 0.01069049710606188,\n",
       " 't_9^out': 0.012896193179384107,\n",
       " 't_10^out': 0.014742996235235657,\n",
       " 't_11^out': 0.016324236142212074,\n",
       " 't_12^out': 0.017723054713332867,\n",
       " 't_13^out': 0.019060093483017647,\n",
       " 't_14^out': 0.020678271899815436,\n",
       " 't_15^out': 0.022584564393228163}"
      ]
     },
     "execution_count": 13,
     "metadata": {},
     "output_type": "execute_result"
    }
   ],
   "source": [
    "Tom_test.time_out() #msec"
   ]
  },
  {
   "cell_type": "code",
   "execution_count": 14,
   "id": "67cefd5c",
   "metadata": {},
   "outputs": [],
   "source": [
    "#point_dist = lambda P: np.sqrt((P[1][0] - P[0][0])**2 + (P[1][1] - P[0][1]))\n",
    "#POINTS = lambda x : [(Tom_test.Ray_points(x)[i], #Tom_test.Ray_points(x)[i+1]) for i in range(len(Tom_test.Ray_points(x))-1)] #pair points\n",
    "#for i in range(15):\n",
    "#    print(f'RAY{i+1}:', POINTS(i),'\\n\\n')"
   ]
  },
  {
   "cell_type": "code",
   "execution_count": 15,
   "id": "d554eb87",
   "metadata": {},
   "outputs": [
    {
     "data": {
      "text/plain": [
       "array([22.39693131, 20.56998639, 18.61005587, 16.19838936, 13.09896645,\n",
       "       11.6827888 ,  9.60883689,  8.3473095 , 10.32210381, 11.991257  ,\n",
       "       13.80567576, 15.46227695, 17.16993991, 20.55932173, 23.19741544])"
      ]
     },
     "execution_count": 15,
     "metadata": {},
     "output_type": "execute_result"
    }
   ],
   "source": [
    "Tom_test.time_in_minus_out()"
   ]
  },
  {
   "cell_type": "code",
   "execution_count": 16,
   "id": "99a1f9f3",
   "metadata": {},
   "outputs": [
    {
     "data": {
      "text/plain": [
       "array([ True,  True,  True,  True,  True,  True,  True,  True,  True,\n",
       "        True,  True,  True,  True,  True,  True])"
      ]
     },
     "execution_count": 16,
     "metadata": {},
     "output_type": "execute_result"
    }
   ],
   "source": [
    "Tom_test.time_in_minus_out() < Time_msec"
   ]
  },
  {
   "cell_type": "code",
   "execution_count": 17,
   "id": "d7f1cf10",
   "metadata": {},
   "outputs": [
    {
     "data": {
      "text/plain": [
       "{\"t'_1\": 22.39693130949129,\n",
       " \"t'_2\": 20.56998638629218,\n",
       " \"t'_3\": 18.61005586875034,\n",
       " \"t'_4\": 16.198389361249276,\n",
       " \"t'_5\": 13.098966450010595,\n",
       " \"t'_6\": 11.682788802585062,\n",
       " \"t'_7\": 9.608836889937766,\n",
       " \"t'_8\": 8.347309502893939,\n",
       " \"t'_9\": 10.322103806820616,\n",
       " \"t'_10\": 11.991257003764765,\n",
       " \"t'_11\": 13.805675763857787,\n",
       " \"t'_12\": 15.462276945286668,\n",
       " \"t'_13\": 17.169939906516984,\n",
       " \"t'_14\": 20.559321728100183,\n",
       " \"t'_15\": 23.19741543560677}"
      ]
     },
     "execution_count": 17,
     "metadata": {},
     "output_type": "execute_result"
    }
   ],
   "source": [
    "Tom_test.time_in_minus_out(dict)"
   ]
  },
  {
   "cell_type": "code",
   "execution_count": 18,
   "id": "de9bc9df",
   "metadata": {},
   "outputs": [
    {
     "data": {
      "text/html": [
       "<div>\n",
       "<style scoped>\n",
       "    .dataframe tbody tr th:only-of-type {\n",
       "        vertical-align: middle;\n",
       "    }\n",
       "\n",
       "    .dataframe tbody tr th {\n",
       "        vertical-align: top;\n",
       "    }\n",
       "\n",
       "    .dataframe thead th {\n",
       "        text-align: right;\n",
       "    }\n",
       "</style>\n",
       "<table border=\"1\" class=\"dataframe\">\n",
       "  <thead>\n",
       "    <tr style=\"text-align: right;\">\n",
       "      <th></th>\n",
       "      <th>Angle (deg)</th>\n",
       "      <th>Angle (rad)</th>\n",
       "      <th>Time (msec)</th>\n",
       "      <th>Time (sec)</th>\n",
       "      <th>$h^{out}$</th>\n",
       "      <th>$t^{out}$</th>\n",
       "      <th>t '</th>\n",
       "    </tr>\n",
       "  </thead>\n",
       "  <tbody>\n",
       "    <tr>\n",
       "      <th>0</th>\n",
       "      <td>12.0</td>\n",
       "      <td>0.209440</td>\n",
       "      <td>22.420</td>\n",
       "      <td>0.022420</td>\n",
       "      <td>7.612668</td>\n",
       "      <td>0.023069</td>\n",
       "      <td>22.396931</td>\n",
       "    </tr>\n",
       "    <tr>\n",
       "      <th>1</th>\n",
       "      <td>15.0</td>\n",
       "      <td>0.261799</td>\n",
       "      <td>20.590</td>\n",
       "      <td>0.020590</td>\n",
       "      <td>6.604493</td>\n",
       "      <td>0.020014</td>\n",
       "      <td>20.569986</td>\n",
       "    </tr>\n",
       "    <tr>\n",
       "      <th>2</th>\n",
       "      <td>18.0</td>\n",
       "      <td>0.314159</td>\n",
       "      <td>18.628</td>\n",
       "      <td>0.018628</td>\n",
       "      <td>5.921563</td>\n",
       "      <td>0.017944</td>\n",
       "      <td>18.610056</td>\n",
       "    </tr>\n",
       "    <tr>\n",
       "      <th>3</th>\n",
       "      <td>23.0</td>\n",
       "      <td>0.401426</td>\n",
       "      <td>16.214</td>\n",
       "      <td>0.016214</td>\n",
       "      <td>5.151511</td>\n",
       "      <td>0.015611</td>\n",
       "      <td>16.198389</td>\n",
       "    </tr>\n",
       "    <tr>\n",
       "      <th>4</th>\n",
       "      <td>32.0</td>\n",
       "      <td>0.558505</td>\n",
       "      <td>13.112</td>\n",
       "      <td>0.013112</td>\n",
       "      <td>4.301071</td>\n",
       "      <td>0.013034</td>\n",
       "      <td>13.098966</td>\n",
       "    </tr>\n",
       "    <tr>\n",
       "      <th>5</th>\n",
       "      <td>36.0</td>\n",
       "      <td>0.628319</td>\n",
       "      <td>11.695</td>\n",
       "      <td>0.011695</td>\n",
       "      <td>4.029695</td>\n",
       "      <td>0.012211</td>\n",
       "      <td>11.682789</td>\n",
       "    </tr>\n",
       "    <tr>\n",
       "      <th>6</th>\n",
       "      <td>42.0</td>\n",
       "      <td>0.733038</td>\n",
       "      <td>9.620</td>\n",
       "      <td>0.009620</td>\n",
       "      <td>3.683826</td>\n",
       "      <td>0.011163</td>\n",
       "      <td>9.608837</td>\n",
       "    </tr>\n",
       "    <tr>\n",
       "      <th>7</th>\n",
       "      <td>45.0</td>\n",
       "      <td>0.785398</td>\n",
       "      <td>8.358</td>\n",
       "      <td>0.008358</td>\n",
       "      <td>3.527864</td>\n",
       "      <td>0.010690</td>\n",
       "      <td>8.347310</td>\n",
       "    </tr>\n",
       "    <tr>\n",
       "      <th>8</th>\n",
       "      <td>50.0</td>\n",
       "      <td>0.872665</td>\n",
       "      <td>10.335</td>\n",
       "      <td>0.010335</td>\n",
       "      <td>4.255744</td>\n",
       "      <td>0.012896</td>\n",
       "      <td>10.322104</td>\n",
       "    </tr>\n",
       "    <tr>\n",
       "      <th>9</th>\n",
       "      <td>55.0</td>\n",
       "      <td>0.959931</td>\n",
       "      <td>12.006</td>\n",
       "      <td>0.012006</td>\n",
       "      <td>4.865189</td>\n",
       "      <td>0.014743</td>\n",
       "      <td>11.991257</td>\n",
       "    </tr>\n",
       "    <tr>\n",
       "      <th>10</th>\n",
       "      <td>60.0</td>\n",
       "      <td>1.047198</td>\n",
       "      <td>13.822</td>\n",
       "      <td>0.013822</td>\n",
       "      <td>5.386998</td>\n",
       "      <td>0.016324</td>\n",
       "      <td>13.805676</td>\n",
       "    </tr>\n",
       "    <tr>\n",
       "      <th>11</th>\n",
       "      <td>65.0</td>\n",
       "      <td>1.134464</td>\n",
       "      <td>15.480</td>\n",
       "      <td>0.015480</td>\n",
       "      <td>5.848608</td>\n",
       "      <td>0.017723</td>\n",
       "      <td>15.462277</td>\n",
       "    </tr>\n",
       "    <tr>\n",
       "      <th>12</th>\n",
       "      <td>70.0</td>\n",
       "      <td>1.221730</td>\n",
       "      <td>17.189</td>\n",
       "      <td>0.017189</td>\n",
       "      <td>6.289831</td>\n",
       "      <td>0.019060</td>\n",
       "      <td>17.169940</td>\n",
       "    </tr>\n",
       "    <tr>\n",
       "      <th>13</th>\n",
       "      <td>75.0</td>\n",
       "      <td>1.308997</td>\n",
       "      <td>20.580</td>\n",
       "      <td>0.020580</td>\n",
       "      <td>6.823830</td>\n",
       "      <td>0.020678</td>\n",
       "      <td>20.559322</td>\n",
       "    </tr>\n",
       "    <tr>\n",
       "      <th>14</th>\n",
       "      <td>78.0</td>\n",
       "      <td>1.361357</td>\n",
       "      <td>23.220</td>\n",
       "      <td>0.023220</td>\n",
       "      <td>7.452906</td>\n",
       "      <td>0.022585</td>\n",
       "      <td>23.197415</td>\n",
       "    </tr>\n",
       "  </tbody>\n",
       "</table>\n",
       "</div>"
      ],
      "text/plain": [
       "    Angle (deg)  Angle (rad)  Time (msec)  Time (sec)  $h^{out}$  $t^{out}$  \\\n",
       "0          12.0     0.209440       22.420    0.022420   7.612668   0.023069   \n",
       "1          15.0     0.261799       20.590    0.020590   6.604493   0.020014   \n",
       "2          18.0     0.314159       18.628    0.018628   5.921563   0.017944   \n",
       "3          23.0     0.401426       16.214    0.016214   5.151511   0.015611   \n",
       "4          32.0     0.558505       13.112    0.013112   4.301071   0.013034   \n",
       "5          36.0     0.628319       11.695    0.011695   4.029695   0.012211   \n",
       "6          42.0     0.733038        9.620    0.009620   3.683826   0.011163   \n",
       "7          45.0     0.785398        8.358    0.008358   3.527864   0.010690   \n",
       "8          50.0     0.872665       10.335    0.010335   4.255744   0.012896   \n",
       "9          55.0     0.959931       12.006    0.012006   4.865189   0.014743   \n",
       "10         60.0     1.047198       13.822    0.013822   5.386998   0.016324   \n",
       "11         65.0     1.134464       15.480    0.015480   5.848608   0.017723   \n",
       "12         70.0     1.221730       17.189    0.017189   6.289831   0.019060   \n",
       "13         75.0     1.308997       20.580    0.020580   6.823830   0.020678   \n",
       "14         78.0     1.361357       23.220    0.023220   7.452906   0.022585   \n",
       "\n",
       "          t '  \n",
       "0   22.396931  \n",
       "1   20.569986  \n",
       "2   18.610056  \n",
       "3   16.198389  \n",
       "4   13.098966  \n",
       "5   11.682789  \n",
       "6    9.608837  \n",
       "7    8.347310  \n",
       "8   10.322104  \n",
       "9   11.991257  \n",
       "10  13.805676  \n",
       "11  15.462277  \n",
       "12  17.169940  \n",
       "13  20.559322  \n",
       "14  23.197415  "
      ]
     },
     "execution_count": 18,
     "metadata": {},
     "output_type": "execute_result"
    }
   ],
   "source": [
    "Tom_test.data_frame_all()"
   ]
  },
  {
   "cell_type": "code",
   "execution_count": 19,
   "id": "aec855f0",
   "metadata": {},
   "outputs": [],
   "source": [
    "Tri_diag = lambda upper,middle,lower,dim: np.diag([middle]*dim) + np.diag([lower]*(dim-1),1) + np.diag([upper]*(dim-1),-1)\n",
    "Pe_diag = lambda u0,u1,d,l0,l1,dim: np.diag([d]*dim) + np.diag([l0]*(dim-1),1)+np.diag([l1]*(dim-2),2) + np.diag([u0]*(dim-1),-1)+np.diag([u1]*(dim-2),-2)"
   ]
  },
  {
   "cell_type": "code",
   "execution_count": 20,
   "id": "66488535",
   "metadata": {},
   "outputs": [
    {
     "data": {
      "text/latex": [
       "$\\displaystyle \\left[\\begin{array}{cccccccccccccccc}-2.5 & -1.0 & 0.1 & 0 & 0 & 0 & 0 & 0 & 0 & 0 & 0 & 0 & 0 & 0 & 0 & 0\\\\0.1 & -2.5 & -1.0 & 0.1 & 0 & 0 & 0 & 0 & 0 & 0 & 0 & 0 & 0 & 0 & 0 & 0\\\\-1.0 & 0.1 & -2.5 & -1.0 & 0.1 & 0 & 0 & 0 & 0 & 0 & 0 & 0 & 0 & 0 & 0 & 0\\\\0 & -1.0 & 0.1 & -2.5 & -1.0 & 0.1 & 0 & 0 & 0 & 0 & 0 & 0 & 0 & 0 & 0 & 0\\\\0 & 0 & -1.0 & 0.1 & -2.5 & -1.0 & 0.1 & 0 & 0 & 0 & 0 & 0 & 0 & 0 & 0 & 0\\\\0 & 0 & 0 & -1.0 & 0.1 & -2.5 & -1.0 & 0.1 & 0 & 0 & 0 & 0 & 0 & 0 & 0 & 0\\\\0 & 0 & 0 & 0 & -1.0 & 0.1 & -2.5 & -1.0 & 0.1 & 0 & 0 & 0 & 0 & 0 & 0 & 0\\\\0 & 0 & 0 & 0 & 0 & -1.0 & 0.1 & -2.5 & -1.0 & 0.1 & 0 & 0 & 0 & 0 & 0 & 0\\\\0 & 0 & 0 & 0 & 0 & 0 & -1.0 & 0.1 & -2.5 & -1.0 & 0.1 & 0 & 0 & 0 & 0 & 0\\\\0 & 0 & 0 & 0 & 0 & 0 & 0 & -1.0 & 0.1 & -2.5 & -1.0 & 0.1 & 0 & 0 & 0 & 0\\\\0 & 0 & 0 & 0 & 0 & 0 & 0 & 0 & -1.0 & 0.1 & -2.5 & -1.0 & 0.1 & 0 & 0 & 0\\\\0 & 0 & 0 & 0 & 0 & 0 & 0 & 0 & 0 & -1.0 & 0.1 & -2.5 & -1.0 & 0.1 & 0 & 0\\\\0 & 0 & 0 & 0 & 0 & 0 & 0 & 0 & 0 & 0 & -1.0 & 0.1 & -2.5 & -1.0 & 0.1 & 0\\\\0 & 0 & 0 & 0 & 0 & 0 & 0 & 0 & 0 & 0 & 0 & -1.0 & 0.1 & -2.5 & -1.0 & 0.1\\\\0 & 0 & 0 & 0 & 0 & 0 & 0 & 0 & 0 & 0 & 0 & 0 & -1.0 & 0.1 & -2.5 & -1.0\\\\0 & 0 & 0 & 0 & 0 & 0 & 0 & 0 & 0 & 0 & 0 & 0 & 0 & -1.0 & 0.1 & -2.5\\end{array}\\right]$"
      ],
      "text/plain": [
       "Matrix([\n",
       "[-2.5, -1.0,  0.1,    0,    0,    0,    0,    0,    0,    0,    0,    0,    0,    0,    0,    0],\n",
       "[ 0.1, -2.5, -1.0,  0.1,    0,    0,    0,    0,    0,    0,    0,    0,    0,    0,    0,    0],\n",
       "[-1.0,  0.1, -2.5, -1.0,  0.1,    0,    0,    0,    0,    0,    0,    0,    0,    0,    0,    0],\n",
       "[   0, -1.0,  0.1, -2.5, -1.0,  0.1,    0,    0,    0,    0,    0,    0,    0,    0,    0,    0],\n",
       "[   0,    0, -1.0,  0.1, -2.5, -1.0,  0.1,    0,    0,    0,    0,    0,    0,    0,    0,    0],\n",
       "[   0,    0,    0, -1.0,  0.1, -2.5, -1.0,  0.1,    0,    0,    0,    0,    0,    0,    0,    0],\n",
       "[   0,    0,    0,    0, -1.0,  0.1, -2.5, -1.0,  0.1,    0,    0,    0,    0,    0,    0,    0],\n",
       "[   0,    0,    0,    0,    0, -1.0,  0.1, -2.5, -1.0,  0.1,    0,    0,    0,    0,    0,    0],\n",
       "[   0,    0,    0,    0,    0,    0, -1.0,  0.1, -2.5, -1.0,  0.1,    0,    0,    0,    0,    0],\n",
       "[   0,    0,    0,    0,    0,    0,    0, -1.0,  0.1, -2.5, -1.0,  0.1,    0,    0,    0,    0],\n",
       "[   0,    0,    0,    0,    0,    0,    0,    0, -1.0,  0.1, -2.5, -1.0,  0.1,    0,    0,    0],\n",
       "[   0,    0,    0,    0,    0,    0,    0,    0,    0, -1.0,  0.1, -2.5, -1.0,  0.1,    0,    0],\n",
       "[   0,    0,    0,    0,    0,    0,    0,    0,    0,    0, -1.0,  0.1, -2.5, -1.0,  0.1,    0],\n",
       "[   0,    0,    0,    0,    0,    0,    0,    0,    0,    0,    0, -1.0,  0.1, -2.5, -1.0,  0.1],\n",
       "[   0,    0,    0,    0,    0,    0,    0,    0,    0,    0,    0,    0, -1.0,  0.1, -2.5, -1.0],\n",
       "[   0,    0,    0,    0,    0,    0,    0,    0,    0,    0,    0,    0,    0, -1.0,  0.1, -2.5]])"
      ]
     },
     "execution_count": 20,
     "metadata": {},
     "output_type": "execute_result"
    }
   ],
   "source": [
    "D_2 = Pe_diag(0.1,-1,-2.5,-1,0.1,dim=16) #dim(m)=16\n",
    "Matrix(D_2)"
   ]
  },
  {
   "cell_type": "code",
   "execution_count": 21,
   "id": "4e8fbd2e",
   "metadata": {},
   "outputs": [],
   "source": [
    "#Tet_diag = lambda upper,middle,lower,dim: np.diag([middle]*dim) + np.diag([lower]*(dim-1),1) + np.diag([upper]*(dim-2),2)\n",
    "#D_2 = Tet_diag(1,1,-2,dim=16)[:14]\n",
    "#Matrix(D_2)"
   ]
  },
  {
   "cell_type": "code",
   "execution_count": 22,
   "id": "5d4a3738",
   "metadata": {},
   "outputs": [
    {
     "data": {
      "text/latex": [
       "$\\displaystyle \\left[\\begin{array}{cccccccccccccccc}7.26 & 2.15 & 2.15 & 1.01 & -0.1 & 0 & 0 & 0 & 0 & 0 & 0 & 0 & 0 & 0 & 0 & 0\\\\2.15 & 8.26 & 2.05 & 2.15 & 1.01 & -0.1 & 0 & 0 & 0 & 0 & 0 & 0 & 0 & 0 & 0 & 0\\\\2.15 & 2.05 & 8.27 & 2.05 & 2.15 & 1.01 & -0.1 & 0 & 0 & 0 & 0 & 0 & 0 & 0 & 0 & 0\\\\1.01 & 2.15 & 2.05 & 8.27 & 2.05 & 2.15 & 1.01 & -0.1 & 0 & 0 & 0 & 0 & 0 & 0 & 0 & 0\\\\-0.1 & 1.01 & 2.15 & 2.05 & 8.27 & 2.05 & 2.15 & 1.01 & -0.1 & 0 & 0 & 0 & 0 & 0 & 0 & 0\\\\0 & -0.1 & 1.01 & 2.15 & 2.05 & 8.27 & 2.05 & 2.15 & 1.01 & -0.1 & 0 & 0 & 0 & 0 & 0 & 0\\\\0 & 0 & -0.1 & 1.01 & 2.15 & 2.05 & 8.27 & 2.05 & 2.15 & 1.01 & -0.1 & 0 & 0 & 0 & 0 & 0\\\\0 & 0 & 0 & -0.1 & 1.01 & 2.15 & 2.05 & 8.27 & 2.05 & 2.15 & 1.01 & -0.1 & 0 & 0 & 0 & 0\\\\0 & 0 & 0 & 0 & -0.1 & 1.01 & 2.15 & 2.05 & 8.27 & 2.05 & 2.15 & 1.01 & -0.1 & 0 & 0 & 0\\\\0 & 0 & 0 & 0 & 0 & -0.1 & 1.01 & 2.15 & 2.05 & 8.27 & 2.05 & 2.15 & 1.01 & -0.1 & 0 & 0\\\\0 & 0 & 0 & 0 & 0 & 0 & -0.1 & 1.01 & 2.15 & 2.05 & 8.27 & 2.05 & 2.15 & 1.01 & -0.1 & 0\\\\0 & 0 & 0 & 0 & 0 & 0 & 0 & -0.1 & 1.01 & 2.15 & 2.05 & 8.27 & 2.05 & 2.15 & 1.01 & -0.1\\\\0 & 0 & 0 & 0 & 0 & 0 & 0 & 0 & -0.1 & 1.01 & 2.15 & 2.05 & 8.27 & 2.05 & 2.15 & 1.01\\\\0 & 0 & 0 & 0 & 0 & 0 & 0 & 0 & 0 & -0.1 & 1.01 & 2.15 & 2.05 & 8.27 & 2.05 & 2.15\\\\0 & 0 & 0 & 0 & 0 & 0 & 0 & 0 & 0 & 0 & -0.1 & 1.01 & 2.15 & 2.05 & 7.27 & 2.15\\\\0 & 0 & 0 & 0 & 0 & 0 & 0 & 0 & 0 & 0 & 0 & -0.1 & 1.01 & 2.15 & 2.15 & 7.26\\end{array}\\right]$"
      ],
      "text/plain": [
       "Matrix([\n",
       "[7.26, 2.15, 2.15, 1.01, -0.1,    0,    0,    0,    0,    0,    0,    0,    0,    0,    0,    0],\n",
       "[2.15, 8.26, 2.05, 2.15, 1.01, -0.1,    0,    0,    0,    0,    0,    0,    0,    0,    0,    0],\n",
       "[2.15, 2.05, 8.27, 2.05, 2.15, 1.01, -0.1,    0,    0,    0,    0,    0,    0,    0,    0,    0],\n",
       "[1.01, 2.15, 2.05, 8.27, 2.05, 2.15, 1.01, -0.1,    0,    0,    0,    0,    0,    0,    0,    0],\n",
       "[-0.1, 1.01, 2.15, 2.05, 8.27, 2.05, 2.15, 1.01, -0.1,    0,    0,    0,    0,    0,    0,    0],\n",
       "[   0, -0.1, 1.01, 2.15, 2.05, 8.27, 2.05, 2.15, 1.01, -0.1,    0,    0,    0,    0,    0,    0],\n",
       "[   0,    0, -0.1, 1.01, 2.15, 2.05, 8.27, 2.05, 2.15, 1.01, -0.1,    0,    0,    0,    0,    0],\n",
       "[   0,    0,    0, -0.1, 1.01, 2.15, 2.05, 8.27, 2.05, 2.15, 1.01, -0.1,    0,    0,    0,    0],\n",
       "[   0,    0,    0,    0, -0.1, 1.01, 2.15, 2.05, 8.27, 2.05, 2.15, 1.01, -0.1,    0,    0,    0],\n",
       "[   0,    0,    0,    0,    0, -0.1, 1.01, 2.15, 2.05, 8.27, 2.05, 2.15, 1.01, -0.1,    0,    0],\n",
       "[   0,    0,    0,    0,    0,    0, -0.1, 1.01, 2.15, 2.05, 8.27, 2.05, 2.15, 1.01, -0.1,    0],\n",
       "[   0,    0,    0,    0,    0,    0,    0, -0.1, 1.01, 2.15, 2.05, 8.27, 2.05, 2.15, 1.01, -0.1],\n",
       "[   0,    0,    0,    0,    0,    0,    0,    0, -0.1, 1.01, 2.15, 2.05, 8.27, 2.05, 2.15, 1.01],\n",
       "[   0,    0,    0,    0,    0,    0,    0,    0,    0, -0.1, 1.01, 2.15, 2.05, 8.27, 2.05, 2.15],\n",
       "[   0,    0,    0,    0,    0,    0,    0,    0,    0,    0, -0.1, 1.01, 2.15, 2.05, 7.27, 2.15],\n",
       "[   0,    0,    0,    0,    0,    0,    0,    0,    0,    0,    0, -0.1, 1.01, 2.15, 2.15, 7.26]])"
      ]
     },
     "execution_count": 22,
     "metadata": {},
     "output_type": "execute_result"
    }
   ],
   "source": [
    "W_mk = D_2.T @ D_2 #Wk2\n",
    "Matrix(W_mk)"
   ]
  },
  {
   "cell_type": "code",
   "execution_count": 23,
   "id": "ea42e129",
   "metadata": {},
   "outputs": [
    {
     "data": {
      "text/plain": [
       "(16, 16)"
      ]
     },
     "execution_count": 23,
     "metadata": {},
     "output_type": "execute_result"
    }
   ],
   "source": [
    "D_2.shape"
   ]
  },
  {
   "cell_type": "code",
   "execution_count": 24,
   "id": "d596b282",
   "metadata": {},
   "outputs": [
    {
     "data": {
      "text/plain": [
       "(16, 16)"
      ]
     },
     "execution_count": 24,
     "metadata": {},
     "output_type": "execute_result"
    }
   ],
   "source": [
    "W_mk.shape"
   ]
  },
  {
   "cell_type": "code",
   "execution_count": 25,
   "id": "609d0561",
   "metadata": {},
   "outputs": [
    {
     "data": {
      "text/latex": [
       "$\\displaystyle \\left[\\begin{array}{cccccccccccccccc}0 & 0 & 0 & 0 & 0 & 0 & 0 & 0 & 0 & 0 & 0 & 0 & 0 & 0 & 0 & h_{1}\\\\0 & 0 & 0 & 0 & 0 & 0 & 0 & 0 & 0 & 0 & 0 & 0 & 0 & 0 & h_{2} & h_{3}\\\\0 & 0 & 0 & 0 & 0 & 0 & 0 & 0 & 0 & 0 & 0 & 0 & 0 & 0 & h_{4} & h_{5}\\\\0 & 0 & 0 & 0 & 0 & 0 & 0 & 0 & 0 & 0 & 0 & h_{9} & 0 & h_{6} & h_{7} & h_{8}\\\\0 & 0 & 0 & 0 & 0 & 0 & 0 & h_{15} & 0 & 0 & h_{13} & h_{14} & h_{10} & h_{11} & h_{12} & 0\\\\0 & 0 & 0 & 0 & 0 & 0 & 0 & h_{21} & 0 & h_{18} & h_{19} & h_{20} & h_{16} & h_{17} & 0 & 0\\\\0 & 0 & 0 & h_{28} & 0 & 0 & h_{26} & h_{27} & 0 & h_{24} & h_{25} & 0 & h_{22} & h_{23} & 0 & 0\\\\0 & 0 & 0 & h_{32} & 0 & 0 & h_{31} & 0 & 0 & h_{30} & 0 & 0 & h_{29} & 0 & 0 & 0\\\\0 & 0 & h_{38} & h_{39} & 0 & h_{36} & h_{37} & 0 & h_{34} & h_{35} & 0 & 0 & h_{33} & 0 & 0 & 0\\\\0 & h_{44} & h_{45} & 0 & 0 & h_{43} & 0 & 0 & h_{41} & h_{42} & 0 & 0 & h_{40} & 0 & 0 & 0\\\\0 & h_{50} & 0 & 0 & h_{48} & h_{49} & 0 & 0 & h_{47} & 0 & 0 & 0 & h_{46} & 0 & 0 & 0\\\\h_{53} & h_{54} & 0 & 0 & h_{52} & 0 & 0 & 0 & h_{51} & 0 & 0 & 0 & 0 & 0 & 0 & 0\\\\h_{57} & 0 & 0 & 0 & h_{56} & 0 & 0 & 0 & h_{55} & 0 & 0 & 0 & 0 & 0 & 0 & 0\\\\h_{59} & 0 & 0 & 0 & h_{58} & 0 & 0 & 0 & 0 & 0 & 0 & 0 & 0 & 0 & 0 & 0\\\\h_{60} & 0 & 0 & 0 & 0 & 0 & 0 & 0 & 0 & 0 & 0 & 0 & 0 & 0 & 0 & 0\\end{array}\\right]$"
      ],
      "text/plain": [
       "Matrix([\n",
       "[   0,    0,    0,    0,    0,    0,    0,    0,    0,    0,    0,    0,    0,    0,    0, h_1],\n",
       "[   0,    0,    0,    0,    0,    0,    0,    0,    0,    0,    0,    0,    0,    0,  h_2, h_3],\n",
       "[   0,    0,    0,    0,    0,    0,    0,    0,    0,    0,    0,    0,    0,    0,  h_4, h_5],\n",
       "[   0,    0,    0,    0,    0,    0,    0,    0,    0,    0,    0,  h_9,    0,  h_6,  h_7, h_8],\n",
       "[   0,    0,    0,    0,    0,    0,    0, h_15,    0,    0, h_13, h_14, h_10, h_11, h_12,   0],\n",
       "[   0,    0,    0,    0,    0,    0,    0, h_21,    0, h_18, h_19, h_20, h_16, h_17,    0,   0],\n",
       "[   0,    0,    0, h_28,    0,    0, h_26, h_27,    0, h_24, h_25,    0, h_22, h_23,    0,   0],\n",
       "[   0,    0,    0, h_32,    0,    0, h_31,    0,    0, h_30,    0,    0, h_29,    0,    0,   0],\n",
       "[   0,    0, h_38, h_39,    0, h_36, h_37,    0, h_34, h_35,    0,    0, h_33,    0,    0,   0],\n",
       "[   0, h_44, h_45,    0,    0, h_43,    0,    0, h_41, h_42,    0,    0, h_40,    0,    0,   0],\n",
       "[   0, h_50,    0,    0, h_48, h_49,    0,    0, h_47,    0,    0,    0, h_46,    0,    0,   0],\n",
       "[h_53, h_54,    0,    0, h_52,    0,    0,    0, h_51,    0,    0,    0,    0,    0,    0,   0],\n",
       "[h_57,    0,    0,    0, h_56,    0,    0,    0, h_55,    0,    0,    0,    0,    0,    0,   0],\n",
       "[h_59,    0,    0,    0, h_58,    0,    0,    0,    0,    0,    0,    0,    0,    0,    0,   0],\n",
       "[h_60,    0,    0,    0,    0,    0,    0,    0,    0,    0,    0,    0,    0,    0,    0,   0]])"
      ]
     },
     "execution_count": 25,
     "metadata": {},
     "output_type": "execute_result"
    }
   ],
   "source": [
    "h = [Symbol('h_'+str(i)) for i in range(1,60+1)]\n",
    "\n",
    "\n",
    "G = np.array([\n",
    "    [0,0,0,0,0,0,0,0,0,0,0,0,0,0,0,h[1-1]],\n",
    "    [0,0,0,0,0,0,0,0,0,0,0,0,0,0,h[2-1],h[3-1]],\n",
    "    [0,0,0,0,0,0,0,0,0,0,0,0,0,0,h[4-1],h[5-1]],\n",
    "    [0,0,0,0,0,0,0,0,0,0,0,h[9-1],0,h[6-1],h[7-1],h[8-1]],\n",
    "    [0,0,0,0,0,0,0,h[15-1],0,0,h[13-1],h[14-1],h[10-1],h[11-1],h[12-1],0],\n",
    "    [0,0,0,0,0,0,0,h[21-1],0,h[18-1],h[19-1],h[20-1],h[16-1],h[17-1],0,0],\n",
    "    [0,0,0,h[28-1],0,0,h[26-1],h[27-1],0,h[24-1],h[25-1],0,h[22-1],h[23-1],0,0],\n",
    "    [0,0,0,h[32-1],0,0,h[31-1],0,0,h[30-1],0,0,h[29-1],0,0,0],\n",
    "    [0,0,h[38-1],h[39-1],0,h[36-1],h[37-1],0,h[34-1],h[35-1],0,0,h[33-1],0,0,0],\n",
    "    [0,h[44-1],h[45-1],0,0,h[43-1],0,0,h[41-1],h[42-1],0,0,h[40-1],0,0,0],\n",
    "    [0,h[50-1],0,0,h[48-1],h[49-1],0,0,h[47-1],0,0,0,h[46-1],0,0,0],\n",
    "    [h[53-1],h[54-1],0,0,h[52-1],0,0,0,h[51-1],0,0,0,0,0,0,0],\n",
    "    [h[57-1],0,0,0,h[56-1],0,0,0,h[55-1],0,0,0,0,0,0,0],\n",
    "    [h[59-1],0,0,0,h[58-1],0,0,0,0,0,0,0,0,0,0,0],\n",
    "    [h[60-1],0,0,0,0,0,0,0,0,0,0,0,0,0,0,0]\n",
    "])\n",
    "Matrix(G)"
   ]
  },
  {
   "cell_type": "code",
   "execution_count": 26,
   "id": "5e60ccfc",
   "metadata": {},
   "outputs": [],
   "source": [
    "h = list(Tom_test.Ray_dist_in().values())\n",
    "\n",
    "G = np.array([\n",
    "    [0,0,0,0,0,0,0,0,0,0,0,0,0,0,0,h[1-1]],\n",
    "    [0,0,0,0,0,0,0,0,0,0,0,0,0,0,h[2-1],h[3-1]],\n",
    "    [0,0,0,0,0,0,0,0,0,0,0,0,0,0,h[4-1],h[5-1]],\n",
    "    [0,0,0,0,0,0,0,0,0,0,0,h[9-1],0,h[6-1],h[7-1],h[8-1]],\n",
    "    [0,0,0,0,0,0,0,h[15-1],0,0,h[13-1],h[14-1],h[10-1],h[11-1],h[12-1],0],\n",
    "    [0,0,0,0,0,0,0,h[21-1],0,h[18-1],h[19-1],h[20-1],h[16-1],h[17-1],0,0],\n",
    "    [0,0,0,h[28-1],0,0,h[26-1],h[27-1],0,h[24-1],h[25-1],0,h[22-1],h[23-1],0,0],\n",
    "    [0,0,0,h[32-1],0,0,h[31-1],0,0,h[30-1],0,0,h[29-1],0,0,0],\n",
    "    [0,0,h[38-1],h[39-1],0,h[36-1],h[37-1],0,h[34-1],h[35-1],0,0,h[33-1],0,0,0],\n",
    "    [0,h[44-1],h[45-1],0,0,h[43-1],0,0,h[41-1],h[42-1],0,0,h[40-1],0,0,0],\n",
    "    [0,h[50-1],0,0,h[48-1],h[49-1],0,0,h[47-1],0,0,0,h[46-1],0,0,0],\n",
    "    [h[53-1],h[54-1],0,0,h[52-1],0,0,0,h[51-1],0,0,0,0,0,0,0],\n",
    "    [h[57-1],0,0,0,h[56-1],0,0,0,h[55-1],0,0,0,0,0,0,0],\n",
    "    [h[59-1],0,0,0,h[58-1],0,0,0,0,0,0,0,0,0,0,0],\n",
    "    [h[60-1],0,0,0,0,0,0,0,0,0,0,0,0,0,0,0]\n",
    "])\n",
    "#Matrix(G)"
   ]
  },
  {
   "cell_type": "code",
   "execution_count": 27,
   "id": "eb8fe00a",
   "metadata": {},
   "outputs": [
    {
     "data": {
      "text/latex": [
       "$\\displaystyle \\left[\\begin{matrix}22.3969313094913\\\\20.5699863862922\\\\18.6100558687503\\\\16.1983893612493\\\\13.0989664500106\\\\11.6827888025851\\\\9.60883688993777\\\\8.34730950289394\\\\10.3221038068206\\\\11.9912570037648\\\\13.8056757638578\\\\15.4622769452867\\\\17.169939906517\\\\20.5593217281002\\\\23.1974154356068\\end{matrix}\\right]$"
      ],
      "text/plain": [
       "Matrix([\n",
       "[22.3969313094913],\n",
       "[20.5699863862922],\n",
       "[18.6100558687503],\n",
       "[16.1983893612493],\n",
       "[13.0989664500106],\n",
       "[11.6827888025851],\n",
       "[9.60883688993777],\n",
       "[8.34730950289394],\n",
       "[10.3221038068206],\n",
       "[11.9912570037648],\n",
       "[13.8056757638578],\n",
       "[15.4622769452867],\n",
       "[ 17.169939906517],\n",
       "[20.5593217281002],\n",
       "[23.1974154356068]])"
      ]
     },
     "execution_count": 27,
     "metadata": {},
     "output_type": "execute_result"
    }
   ],
   "source": [
    "d = np.array(Tom_test.time_in_minus_out())\n",
    "Matrix(d)"
   ]
  },
  {
   "cell_type": "code",
   "execution_count": 28,
   "id": "918b79f6",
   "metadata": {},
   "outputs": [
    {
     "data": {
      "text/plain": [
       "15"
      ]
     },
     "execution_count": 28,
     "metadata": {},
     "output_type": "execute_result"
    }
   ],
   "source": [
    "len(d)"
   ]
  },
  {
   "cell_type": "code",
   "execution_count": 29,
   "id": "66060558",
   "metadata": {},
   "outputs": [
    {
     "data": {
      "text/latex": [
       "$\\displaystyle \\left[\\begin{array}{ccccccccccccccc}-6.02356129198152 \\cdot 10^{-16} & -5.17068560587471 \\cdot 10^{-16} & -1.27496372200799 \\cdot 10^{-16} & 7.85191930389703 \\cdot 10^{-16} & -7.02214270317266 \\cdot 10^{-15} & 1.73245623349836 \\cdot 10^{-14} & -2.29812308743174 \\cdot 10^{-14} & 6.95400554830588 \\cdot 10^{-16} & 7.24070712320055 \\cdot 10^{-15} & -2.07477232338805 \\cdot 10^{-14} & 5.71542079889344 \\cdot 10^{-15} & -5.84906412796931 \\cdot 10^{-16} & -3.10905751432423 \\cdot 10^{-15} & -7.1032986948251 \\cdot 10^{-15} & 1.82784029167032\\\\-4.36403521363961 \\cdot 10^{-15} & -7.37420097106958 \\cdot 10^{-15} & -2.08977350630506 \\cdot 10^{-15} & 1.37746780806681 \\cdot 10^{-14} & -3.24591360688519 \\cdot 10^{-14} & 6.43814265167081 \\cdot 10^{-14} & -1.14635327758806 \\cdot 10^{-13} & 1.97160250900835 \\cdot 10^{-14} & 1.0037613046707 \\cdot 10^{-13} & -1.20808103950647 \\cdot 10^{-13} & 6.71840836406013 \\cdot 10^{-14} & 1.10370717978655 & -2.17627039268627 & 2.10131286158242 & -0.861303771698826\\\\0.33746782442994 & 0.0282852184118955 & 0.198038088518488 & -0.407652903071208 & 0.724734598056166 & -1.50135907995855 & 1.90595897466236 & -0.826648867458843 & -1.08740276806208 & 2.1676666936799 & -1.99410002952699 & 1.19513311180223 & -1.12910591127059 & 2.5733038192846 & -3.8599231419253\\\\0.64612810953582 & 0.778028985406064 & -0.00596687812922922 & -1.21238795089269 & 2.78629237766663 & -6.82279536024662 & 9.14798057039342 & -1.69619938047607 & -9.3903648414333 & 10.3884353047481 & -5.39582724233613 & 0.357094549247604 & 1.90561762636371 & 2.93479714728201 & -9.61940109024849\\\\-3.08178995918068 \\cdot 10^{-15} & -5.90671101918543 \\cdot 10^{-15} & -1.82457186940481 \\cdot 10^{-15} & 9.04481615119329 \\cdot 10^{-15} & -1.67347167617249 \\cdot 10^{-14} & 4.19198321334704 \\cdot 10^{-14} & -7.06676686587324 \\cdot 10^{-14} & 1.82991129057889 \\cdot 10^{-14} & 4.88594165450477 \\cdot 10^{-14} & -5.63601633374132 \\cdot 10^{-14} & 5.47821272761229 \\cdot 10^{-14} & -4.9204429355851 \\cdot 10^{-15} & -6.58254257154506 \\cdot 10^{-15} & 1.913533168191 & -3.62101615783929\\\\-0.376908793074229 & 0.55779339833588 & -0.376111467151049 & -0.0787755148566658 & 0.535476353881399 & -1.76786587405746 & 2.54922784642024 & -1.16467566099671 & -1.24588472322309 & 1.46824475112825 & 0.197759635413013 & -1.1960287140737 & 0.593764174594148 & 1.03905005841237 & -1.94805920136979\\\\-0.607246125617719 & 0.215072595337488 & -0.06947230720866 & 0.082265822197196 & -0.233723163754058 & 0.629858026303209 & -0.867051365894445 & -1.26940321828051 & 4.95242153873804 & -5.4866654730033 & 2.85621832084758 & -0.190338193543369 & -1.0232120840373 & -1.51615641490378 & 5.05687043276639\\\\-0.930920086933222 & 0.581873634491879 & -0.176948300444199 & -0.168471389411683 & 0.487948585085396 & -2.28220642963184 & 4.24365631860346 & -1.70471213419456 & -2.56786638689911 & 2.84799794502043 & -1.4109722349352 & -0.0118286200244462 & 0.598824386416528 & 0.761898226628324 & -2.60956170925447\\\\1.35073438069218 \\cdot 10^{-14} & 2.35144998209525 \\cdot 10^{-14} & 4.56709052577955 \\cdot 10^{-15} & -3.67502099518411 \\cdot 10^{-14} & 8.18684939821369 \\cdot 10^{-14} & -2.11977522744247 \\cdot 10^{-13} & 2.80687530768216 \\cdot 10^{-13} & -5.36117973738204 \\cdot 10^{-14} & -3.21407071296933 \\cdot 10^{-13} & 3.38927398239623 \\cdot 10^{-13} & -1.64188108299827 \\cdot 10^{-13} & 1.26630365342989 \\cdot 10^{-14} & 1.95751264375894 & -3.98616024871312 & 3.73543896468319\\\\-0.178688252418858 & -0.395822375203753 & -0.398959008554434 & 1.01423946002126 & -1.76485708010271 & 3.59231941711225 & -4.53088927852331 & 1.95941402437782 & 2.60518541021765 & -2.74190936828422 & 0.979564296388527 & 0.432783209464519 & -0.476500769891744 & -1.32580747904885 & 2.93327560251787\\\\1.03737588784236 & -0.55152152165359 & 1.26726492866571 & -1.33518698799237 & 0.928670018489661 & -0.468069434113716 & 0.549169018147156 & -0.391930599015238 & -0.00923638505204417 & 0.058756352380855 & -0.262191385918029 & 0.301174831054649 & -0.0440445985357375 & -0.162023331503516 & 0.0758818330826404\\\\0.68210778558678 & -0.124566344791768 & 0.0619545763261419 & -0.316314560858492 & 0.847914742010467 & -0.646487373141368 & 0.25638497254329 & 0.032455199597497 & -0.330938829034614 & 0.446591455872979 & -0.395486667161453 & 0.180238759370822 & 0.172646896559798 & -0.2047543729 & -0.179730647579971\\\\0.378061802379646 & -0.74090568320366 & 0.5052776605502 & 0.115882668674263 & -0.787712133809929 & 2.60061791683123 & -3.75003992597594 & 1.71329535556534 & 1.83275789247771 & -2.15986046346076 & 1.56004462510015 & -0.599539565168761 & -0.405904772434737 & -0.0928332533294407 & 1.62925505496445\\\\-0.667832674100004 & 0.786765301263118 & -1.65142731642231 & 1.3781254665162 & -0.46327708602662 & 0.353222761137424 & -0.140081634504019 & -0.0177326204522423 & 0.180815792876488 & -0.244005178905915 & 0.216082940474155 & -0.0984774566277432 & -0.0943294734563922 & 0.111872107569914 & 0.0981998384450737\\\\-1.33153778097501 & -0.812873435319493 & 1.19585592216831 & -1.30866414332899 \\cdot 10^{-14} & 3.49258829593383 \\cdot 10^{-14} & -2.04369201800399 \\cdot 10^{-13} & 2.37153221161873 \\cdot 10^{-14} & -2.67231189095058 \\cdot 10^{-14} & -1.05783436867014 \\cdot 10^{-13} & 2.48036081665567 \\cdot 10^{-14} & -1.06561192035809 \\cdot 10^{-13} & -1.32682694428774 \\cdot 10^{-15} & 8.45799815805268 \\cdot 10^{-15} & 9.17755679914297 \\cdot 10^{-15} & -1.16189472420809 \\cdot 10^{-13}\\\\1.32095076776376 & 0.803330509168462 & -0.277390980349721 & -8.04852762000033 \\cdot 10^{-15} & -1.58531637639126 \\cdot 10^{-14} & 6.79612309102221 \\cdot 10^{-14} & 4.84420035280195 \\cdot 10^{-14} & 1.58833984999875 \\cdot 10^{-14} & 4.997126377635 \\cdot 10^{-14} & -4.47573060303502 \\cdot 10^{-15} & 3.72342507580156 \\cdot 10^{-14} & 1.40046259285362 \\cdot 10^{-16} & -6.37342123678273 \\cdot 10^{-16} & -9.80885564627222 \\cdot 10^{-15} & 1.68875686973912 \\cdot 10^{-14}\\end{array}\\right]$"
      ],
      "text/plain": [
       "Matrix([\n",
       "[-6.02356129198152e-16, -5.17068560587471e-16, -1.27496372200799e-16,  7.85191930389703e-16, -7.02214270317266e-15,  1.73245623349836e-14, -2.29812308743174e-14,  6.95400554830588e-16,  7.24070712320055e-15, -2.07477232338805e-14,  5.71542079889344e-15, -5.84906412796931e-16, -3.10905751432423e-15,  -7.1032986948251e-15,      1.82784029167032],\n",
       "[-4.36403521363961e-15, -7.37420097106958e-15, -2.08977350630506e-15,  1.37746780806681e-14, -3.24591360688519e-14,  6.43814265167081e-14, -1.14635327758806e-13,  1.97160250900835e-14,   1.0037613046707e-13, -1.20808103950647e-13,  6.71840836406013e-14,      1.10370717978655,     -2.17627039268627,      2.10131286158242,    -0.861303771698826],\n",
       "[     0.33746782442994,    0.0282852184118955,     0.198038088518488,    -0.407652903071208,     0.724734598056166,     -1.50135907995855,      1.90595897466236,    -0.826648867458843,     -1.08740276806208,       2.1676666936799,     -1.99410002952699,      1.19513311180223,     -1.12910591127059,       2.5733038192846,      -3.8599231419253],\n",
       "[     0.64612810953582,     0.778028985406064,  -0.00596687812922922,     -1.21238795089269,      2.78629237766663,     -6.82279536024662,      9.14798057039342,     -1.69619938047607,      -9.3903648414333,      10.3884353047481,     -5.39582724233613,     0.357094549247604,      1.90561762636371,      2.93479714728201,     -9.61940109024849],\n",
       "[-3.08178995918068e-15, -5.90671101918543e-15, -1.82457186940481e-15,  9.04481615119329e-15, -1.67347167617249e-14,  4.19198321334704e-14, -7.06676686587324e-14,  1.82991129057889e-14,  4.88594165450477e-14, -5.63601633374132e-14,  5.47821272761229e-14,  -4.9204429355851e-15, -6.58254257154506e-15,        1.913533168191,     -3.62101615783929],\n",
       "[   -0.376908793074229,      0.55779339833588,    -0.376111467151049,   -0.0787755148566658,     0.535476353881399,     -1.76786587405746,      2.54922784642024,     -1.16467566099671,     -1.24588472322309,      1.46824475112825,     0.197759635413013,      -1.1960287140737,     0.593764174594148,      1.03905005841237,     -1.94805920136979],\n",
       "[   -0.607246125617719,     0.215072595337488,     -0.06947230720866,     0.082265822197196,    -0.233723163754058,     0.629858026303209,    -0.867051365894445,     -1.26940321828051,      4.95242153873804,      -5.4866654730033,      2.85621832084758,    -0.190338193543369,      -1.0232120840373,     -1.51615641490378,      5.05687043276639],\n",
       "[   -0.930920086933222,     0.581873634491879,    -0.176948300444199,    -0.168471389411683,     0.487948585085396,     -2.28220642963184,      4.24365631860346,     -1.70471213419456,     -2.56786638689911,      2.84799794502043,      -1.4109722349352,   -0.0118286200244462,     0.598824386416528,     0.761898226628324,     -2.60956170925447],\n",
       "[ 1.35073438069218e-14,  2.35144998209525e-14,  4.56709052577955e-15, -3.67502099518411e-14,  8.18684939821369e-14, -2.11977522744247e-13,  2.80687530768216e-13, -5.36117973738204e-14, -3.21407071296933e-13,  3.38927398239623e-13, -1.64188108299827e-13,  1.26630365342989e-14,      1.95751264375894,     -3.98616024871312,      3.73543896468319],\n",
       "[   -0.178688252418858,    -0.395822375203753,    -0.398959008554434,      1.01423946002126,     -1.76485708010271,      3.59231941711225,     -4.53088927852331,      1.95941402437782,      2.60518541021765,     -2.74190936828422,     0.979564296388527,     0.432783209464519,    -0.476500769891744,     -1.32580747904885,      2.93327560251787],\n",
       "[     1.03737588784236,     -0.55152152165359,      1.26726492866571,     -1.33518698799237,     0.928670018489661,    -0.468069434113716,     0.549169018147156,    -0.391930599015238,  -0.00923638505204417,     0.058756352380855,    -0.262191385918029,     0.301174831054649,   -0.0440445985357375,    -0.162023331503516,    0.0758818330826404],\n",
       "[     0.68210778558678,    -0.124566344791768,    0.0619545763261419,    -0.316314560858492,     0.847914742010467,    -0.646487373141368,      0.25638497254329,     0.032455199597497,    -0.330938829034614,     0.446591455872979,    -0.395486667161453,     0.180238759370822,     0.172646896559798,         -0.2047543729,    -0.179730647579971],\n",
       "[    0.378061802379646,     -0.74090568320366,       0.5052776605502,     0.115882668674263,    -0.787712133809929,      2.60061791683123,     -3.75003992597594,      1.71329535556534,      1.83275789247771,     -2.15986046346076,      1.56004462510015,    -0.599539565168761,    -0.405904772434737,   -0.0928332533294407,      1.62925505496445],\n",
       "[   -0.667832674100004,     0.786765301263118,     -1.65142731642231,       1.3781254665162,     -0.46327708602662,     0.353222761137424,    -0.140081634504019,   -0.0177326204522423,     0.180815792876488,    -0.244005178905915,     0.216082940474155,   -0.0984774566277432,   -0.0943294734563922,     0.111872107569914,    0.0981998384450737],\n",
       "[    -1.33153778097501,    -0.812873435319493,      1.19585592216831, -1.30866414332899e-14,  3.49258829593383e-14, -2.04369201800399e-13,  2.37153221161873e-14, -2.67231189095058e-14, -1.05783436867014e-13,  2.48036081665567e-14, -1.06561192035809e-13, -1.32682694428774e-15,  8.45799815805268e-15,  9.17755679914297e-15, -1.16189472420809e-13],\n",
       "[     1.32095076776376,     0.803330509168462,    -0.277390980349721, -8.04852762000033e-15, -1.58531637639126e-14,  6.79612309102221e-14,  4.84420035280195e-14,  1.58833984999875e-14,    4.997126377635e-14, -4.47573060303502e-15,  3.72342507580156e-14,  1.40046259285362e-16, -6.37342123678273e-16, -9.80885564627222e-15,  1.68875686973912e-14]])"
      ]
     },
     "execution_count": 29,
     "metadata": {},
     "output_type": "execute_result"
    }
   ],
   "source": [
    "#Gg = inv(W_mk) @ G.T @ (inv(G @ inv(W_mk) @ G.T))\n",
    "Gg = (W_mk@G.T) @ (inv(G @ W_mk @ G.T))\n",
    "Matrix(Gg)"
   ]
  },
  {
   "cell_type": "code",
   "execution_count": 30,
   "id": "85f2c091",
   "metadata": {
    "scrolled": false
   },
   "outputs": [
    {
     "data": {
      "text/latex": [
       "$\\displaystyle \\left[\\begin{matrix}42.4011705958166\\\\2.92093998192052\\\\-41.7139775285525\\\\-130.161352478126\\\\-44.6572720702132\\\\-28.7595521450369\\\\66.6158329529537\\\\-55.2329036801524\\\\38.3101529446398\\\\35.3626673731286\\\\21.8660817872289\\\\8.88407941140019\\\\37.0417580420391\\\\-7.25993646519788\\\\-24.2882101922688\\\\40.9474796043196\\end{matrix}\\right]$"
      ],
      "text/plain": [
       "Matrix([\n",
       "[ 42.4011705958166],\n",
       "[ 2.92093998192052],\n",
       "[-41.7139775285525],\n",
       "[-130.161352478126],\n",
       "[-44.6572720702132],\n",
       "[-28.7595521450369],\n",
       "[ 66.6158329529537],\n",
       "[-55.2329036801524],\n",
       "[ 38.3101529446398],\n",
       "[ 35.3626673731286],\n",
       "[ 21.8660817872289],\n",
       "[ 8.88407941140019],\n",
       "[ 37.0417580420391],\n",
       "[-7.25993646519788],\n",
       "[-24.2882101922688],\n",
       "[ 40.9474796043196]])"
      ]
     },
     "execution_count": 30,
     "metadata": {},
     "output_type": "execute_result"
    }
   ],
   "source": [
    "m_est = Gg @ d\n",
    "Matrix(m_est)"
   ]
  },
  {
   "cell_type": "code",
   "execution_count": 31,
   "id": "bc293bf1",
   "metadata": {},
   "outputs": [
    {
     "data": {
      "text/plain": [
       "0.02245033111538581"
      ]
     },
     "execution_count": 31,
     "metadata": {},
     "output_type": "execute_result"
    }
   ],
   "source": [
    "np.mean((np.array(m_est)**-1))"
   ]
  },
  {
   "cell_type": "code",
   "execution_count": 34,
   "id": "2b74a695",
   "metadata": {},
   "outputs": [
    {
     "data": {
      "text/latex": [
       "$\\displaystyle \\left[\\begin{array}{ccccccccccccccc}0.511646677310642 & 0.311155718917616 & -0.107442439851217 & -3.11745336352502 \\cdot 10^{-15} & -6.14043972160965 \\cdot 10^{-15} & 2.6323568470324 \\cdot 10^{-14} & 1.87631445109347 \\cdot 10^{-14} & 6.15215060639779 \\cdot 10^{-15} & 1.93554761434952 \\cdot 10^{-14} & -1.73359427729252 \\cdot 10^{-15} & 1.44220217341945 \\cdot 10^{-14} & 5.42444162051881 \\cdot 10^{-17} & -2.46863083657646 \\cdot 10^{-16} & -3.79928497118104 \\cdot 10^{-15} & 6.54109798997495 \\cdot 10^{-15}\\\\0.982864055500873 & 0.596548130608417 & 0.140803253101431 & -1.40219213256012 \\cdot 10^{-14} & -4.61645498430798 \\cdot 10^{-15} & -9.1657549770917 \\cdot 10^{-16} & 6.35338924423557 \\cdot 10^{-14} & 7.75883421367953 \\cdot 10^{-15} & 1.61839684873143 \\cdot 10^{-14} & 4.35919621887694 \\cdot 10^{-15} & 1.54695736049916 \\cdot 10^{-15} & -3.45087689042139 \\cdot 10^{-16} & 2.48738373339061 \\cdot 10^{-15} & -7.5673709052152 \\cdot 10^{-15} & -2.501258328125 \\cdot 10^{-14}\\\\0.0923521860946628 & 0.0528338983813396 & 0.96331443769227 & -2.33002434721734 \\cdot 10^{-14} & 1.9211669103326 \\cdot 10^{-14} & -1.40967681106442 \\cdot 10^{-13} & 8.1194923909266 \\cdot 10^{-14} & -1.03790580183089 \\cdot 10^{-14} & -5.59376827351726 \\cdot 10^{-14} & 2.14511159777877 \\cdot 10^{-14} & -7.1432816574032 \\cdot 10^{-14} & -1.26187722143597 \\cdot 10^{-15} & 8.33794501135491 \\cdot 10^{-15} & -1.44718304833302 \\cdot 10^{-15} & -1.05179632275407 \\cdot 10^{-13}\\\\-0.646237840036037 & 0.348495555329558 & -0.164222951567052 & 0.999999999999991 & -4.92560066908717 \\cdot 10^{-15} & -3.41191535322907 \\cdot 10^{-14} & 5.30661354565009 \\cdot 10^{-14} & -1.08430330865167 \\cdot 10^{-14} & -2.71231210843375 \\cdot 10^{-15} & 1.80340899908914 \\cdot 10^{-15} & -1.16832211987603 \\cdot 10^{-14} & -7.55148205741174 \\cdot 10^{-16} & 5.62690939775511 \\cdot 10^{-15} & 1.27792749747994 \\cdot 10^{-15} & -2.10278439526584 \\cdot 10^{-14}\\\\0.307558718312702 & -0.288037649917254 & 0.051663454030809 & -3.3595099267521 \\cdot 10^{-14} & 1.00000000000006 & -1.61894494668543 \\cdot 10^{-13} & 1.23364192011965 \\cdot 10^{-13} & -5.62482651946482 \\cdot 10^{-14} & -2.18136935123161 \\cdot 10^{-13} & 1.97934290174741 \\cdot 10^{-13} & -1.08609011304443 \\cdot 10^{-13} & 3.78179120990649 \\cdot 10^{-15} & 4.67111015737415 \\cdot 10^{-14} & 4.38423534836652 \\cdot 10^{-14} & -1.54187726860454 \\cdot 10^{-13}\\\\0.0463667267060901 & -0.123636841379303 & 0.00225893181170485 & -9.16623842347112 \\cdot 10^{-15} & 1.0930242165423 \\cdot 10^{-14} & 0.999999999999845 & 2.80663410029122 \\cdot 10^{-14} & -1.59703104979404 \\cdot 10^{-14} & -1.34165166022957 \\cdot 10^{-13} & 1.48657833534608 \\cdot 10^{-13} & -4.82029970422636 \\cdot 10^{-14} & -2.73748330623826 \\cdot 10^{-15} & 2.79206033387058 \\cdot 10^{-14} & -3.70823168712989 \\cdot 10^{-14} & -3.16548017420318 \\cdot 10^{-14}\\\\-0.153337288444823 & 0.0219780831884267 & -0.0438923587139134 & 6.91008199180981 \\cdot 10^{-14} & -1.63786621109549 \\cdot 10^{-13} & 2.23935005331858 \\cdot 10^{-13} & 0.999999999999428 & 1.26763851261621 \\cdot 10^{-13} & 2.99709010968845 \\cdot 10^{-13} & -4.15687197481264 \\cdot 10^{-13} & 2.63408522941712 \\cdot 10^{-13} & -1.45021648706418 \\cdot 10^{-14} & -1.0894744280419 \\cdot 10^{-13} & -1.54493969038504 \\cdot 10^{-13} & 4.66317808303947 \\cdot 10^{-13}\\\\0.336944207321967 & -0.203118512628108 & 0.043670160546417 & 3.00750945302728 \\cdot 10^{-14} & -1.01198993245435 \\cdot 10^{-13} & 9.95089882723853 \\cdot 10^{-14} & -3.79535202216206 \\cdot 10^{-13} & 1.00000000000004 & 1.31359404470061 \\cdot 10^{-13} & -3.02880939213195 \\cdot 10^{-13} & 1.79079946555107 \\cdot 10^{-13} & -1.04543543110999 \\cdot 10^{-14} & -9.86123964082588 \\cdot 10^{-14} & -8.05179999361094 \\cdot 10^{-14} & 3.01408070320344 \\cdot 10^{-13}\\\\0.171081951851991 & -0.109392404628192 & 0.0162784665380355 & -3.06669199588756 \\cdot 10^{-14} & 5.6204895513974 \\cdot 10^{-15} & -1.43333993200931 \\cdot 10^{-13} & 2.3906316088344 \\cdot 10^{-14} & -6.33016782850414 \\cdot 10^{-14} & 0.999999999999845 & 2.16683396397987 \\cdot 10^{-14} & 1.88179434776164 \\cdot 10^{-14} & -1.80176991917927 \\cdot 10^{-15} & -3.2587708274299 \\cdot 10^{-14} & -2.99228113587198 \\cdot 10^{-14} & -5.12844057304191 \\cdot 10^{-15}\\\\0.12507833610449 & -0.0804732543890882 & 0.0114338913110996 & 2.03619505443774 \\cdot 10^{-14} & -8.77474111504075 \\cdot 10^{-14} & 9.25015166057229 \\cdot 10^{-14} & -2.55905748439336 \\cdot 10^{-13} & 4.52426751967429 \\cdot 10^{-14} & 9.47052135636571 \\cdot 10^{-14} & 0.999999999999772 & 1.3583103458837 \\cdot 10^{-13} & -1.2649876691507 \\cdot 10^{-14} & -6.62150087017303 \\cdot 10^{-14} & -9.85938742315472 \\cdot 10^{-14} & 1.98507554965578 \\cdot 10^{-13}\\\\-0.0952963546288061 & 0.0430241471454218 & -0.0259329719398113 & 1.4236791146883 \\cdot 10^{-14} & -4.54634292148197 \\cdot 10^{-14} & 3.05564467317164 \\cdot 10^{-14} & -1.77347670511801 \\cdot 10^{-13} & 2.55116781907087 \\cdot 10^{-14} & 5.54003310010852 \\cdot 10^{-14} & -1.32623306772224 \\cdot 10^{-13} & 1.0000000000001 & -8.33353333676875 \\cdot 10^{-15} & -3.98968765224085 \\cdot 10^{-14} & -5.7775038934288 \\cdot 10^{-14} & 1.39229412080284 \\cdot 10^{-13}\\\\5.91760369595698 \\cdot 10^{-15} & 1.02007003175069 \\cdot 10^{-14} & 6.23115154237439 \\cdot 10^{-16} & -1.4122704279627 \\cdot 10^{-14} & 3.06994668236753 \\cdot 10^{-14} & -9.93355034986037 \\cdot 10^{-14} & 8.81596221143591 \\cdot 10^{-14} & -1.55629044375193 \\cdot 10^{-14} & -1.7488205942071 \\cdot 10^{-13} & 1.58255750790286 \\cdot 10^{-13} & -4.09006265451408 \\cdot 10^{-14} & 0.999999999999999 & 3.29419799715182 \\cdot 10^{-14} & 1.54448982242617 \\cdot 10^{-14} & -1.16391350507873 \\cdot 10^{-13}\\\\2.97967240212349 \\cdot 10^{-15} & 5.17639483872018 \\cdot 10^{-15} & 2.55761448158799 \\cdot 10^{-16} & -8.3130562481815 \\cdot 10^{-15} & 1.65411935065004 \\cdot 10^{-14} & -4.52426550273339 \\cdot 10^{-14} & 4.37308168410795 \\cdot 10^{-14} & -7.1741754539473 \\cdot 10^{-15} & -1.04491063838453 \\cdot 10^{-13} & 9.10853702877896 \\cdot 10^{-14} & -1.9495740533741 \\cdot 10^{-14} & 6.10271990953452 \\cdot 10^{-16} & 1.00000000000002 & -2.41965959428162 \\cdot 10^{-15} & -5.51896133071824 \\cdot 10^{-14}\\\\-2.23412836059123 \\cdot 10^{-15} & -3.6221175625973 \\cdot 10^{-15} & -1.08550336053249 \\cdot 10^{-15} & 5.5396526520697 \\cdot 10^{-15} & -1.60153113173876 \\cdot 10^{-14} & 3.98427386090014 \\cdot 10^{-14} & -6.07223853795478 \\cdot 10^{-14} & 1.02829291314156 \\cdot 10^{-14} & 3.30297452232117 \\cdot 10^{-14} & -5.09330788065836 \\cdot 10^{-14} & 3.45458227670046 \\cdot 10^{-14} & -3.17693118317265 \\cdot 10^{-15} & -6.65872716415281 \\cdot 10^{-15} & 0.999999999999982 & 5.64898367108066 \\cdot 10^{-14}\\\\-3.29545273699879 \\cdot 10^{-16} & -2.82884977940261 \\cdot 10^{-16} & -6.97524684086551 \\cdot 10^{-17} & 4.29573597850931 \\cdot 10^{-16} & -3.84177038616201 \\cdot 10^{-15} & 9.47815977902115 \\cdot 10^{-15} & -1.25728877840399 \\cdot 10^{-14} & 3.80449297457562 \\cdot 10^{-16} & 3.96134561438294 \\cdot 10^{-15} & -1.13509497128555 \\cdot 10^{-14} & 3.12687099903606 \\cdot 10^{-15} & -3.19998642913402 \\cdot 10^{-16} & -1.70094593520704 \\cdot 10^{-15} & -3.88617032198916 \\cdot 10^{-15} & 1.00000000000001\\end{array}\\right]$"
      ],
      "text/plain": [
       "Matrix([\n",
       "[    0.511646677310642,     0.311155718917616,    -0.107442439851217, -3.11745336352502e-15, -6.14043972160965e-15,   2.6323568470324e-14,  1.87631445109347e-14,  6.15215060639779e-15,  1.93554761434952e-14, -1.73359427729252e-15,  1.44220217341945e-14,  5.42444162051881e-17, -2.46863083657646e-16, -3.79928497118104e-15,  6.54109798997495e-15],\n",
       "[    0.982864055500873,     0.596548130608417,     0.140803253101431, -1.40219213256012e-14, -4.61645498430798e-15,  -9.1657549770917e-16,  6.35338924423557e-14,  7.75883421367953e-15,  1.61839684873143e-14,  4.35919621887694e-15,  1.54695736049916e-15, -3.45087689042139e-16,  2.48738373339061e-15,  -7.5673709052152e-15,   -2.501258328125e-14],\n",
       "[   0.0923521860946628,    0.0528338983813396,      0.96331443769227, -2.33002434721734e-14,   1.9211669103326e-14, -1.40967681106442e-13,   8.1194923909266e-14, -1.03790580183089e-14, -5.59376827351726e-14,  2.14511159777877e-14,  -7.1432816574032e-14, -1.26187722143597e-15,  8.33794501135491e-15, -1.44718304833302e-15, -1.05179632275407e-13],\n",
       "[   -0.646237840036037,     0.348495555329558,    -0.164222951567052,     0.999999999999991, -4.92560066908717e-15, -3.41191535322907e-14,  5.30661354565009e-14, -1.08430330865167e-14, -2.71231210843375e-15,  1.80340899908914e-15, -1.16832211987603e-14, -7.55148205741174e-16,  5.62690939775511e-15,  1.27792749747994e-15, -2.10278439526584e-14],\n",
       "[    0.307558718312702,    -0.288037649917254,     0.051663454030809,  -3.3595099267521e-14,      1.00000000000006, -1.61894494668543e-13,  1.23364192011965e-13, -5.62482651946482e-14, -2.18136935123161e-13,  1.97934290174741e-13, -1.08609011304443e-13,  3.78179120990649e-15,  4.67111015737415e-14,  4.38423534836652e-14, -1.54187726860454e-13],\n",
       "[   0.0463667267060901,    -0.123636841379303,   0.00225893181170485, -9.16623842347112e-15,   1.0930242165423e-14,     0.999999999999845,  2.80663410029122e-14, -1.59703104979404e-14, -1.34165166022957e-13,  1.48657833534608e-13, -4.82029970422636e-14, -2.73748330623826e-15,  2.79206033387058e-14, -3.70823168712989e-14, -3.16548017420318e-14],\n",
       "[   -0.153337288444823,    0.0219780831884267,   -0.0438923587139134,  6.91008199180981e-14, -1.63786621109549e-13,  2.23935005331858e-13,     0.999999999999428,  1.26763851261621e-13,  2.99709010968845e-13, -4.15687197481264e-13,  2.63408522941712e-13, -1.45021648706418e-14,  -1.0894744280419e-13, -1.54493969038504e-13,  4.66317808303947e-13],\n",
       "[    0.336944207321967,    -0.203118512628108,     0.043670160546417,  3.00750945302728e-14, -1.01198993245435e-13,  9.95089882723853e-14, -3.79535202216206e-13,      1.00000000000004,  1.31359404470061e-13, -3.02880939213195e-13,  1.79079946555107e-13, -1.04543543110999e-14, -9.86123964082588e-14, -8.05179999361094e-14,  3.01408070320344e-13],\n",
       "[    0.171081951851991,    -0.109392404628192,    0.0162784665380355, -3.06669199588756e-14,   5.6204895513974e-15, -1.43333993200931e-13,   2.3906316088344e-14, -6.33016782850414e-14,     0.999999999999845,  2.16683396397987e-14,  1.88179434776164e-14, -1.80176991917927e-15,  -3.2587708274299e-14, -2.99228113587198e-14, -5.12844057304191e-15],\n",
       "[     0.12507833610449,   -0.0804732543890882,    0.0114338913110996,  2.03619505443774e-14, -8.77474111504075e-14,  9.25015166057229e-14, -2.55905748439336e-13,  4.52426751967429e-14,  9.47052135636571e-14,     0.999999999999772,   1.3583103458837e-13,  -1.2649876691507e-14, -6.62150087017303e-14, -9.85938742315472e-14,  1.98507554965578e-13],\n",
       "[  -0.0952963546288061,    0.0430241471454218,   -0.0259329719398113,   1.4236791146883e-14, -4.54634292148197e-14,  3.05564467317164e-14, -1.77347670511801e-13,  2.55116781907087e-14,  5.54003310010852e-14, -1.32623306772224e-13,       1.0000000000001, -8.33353333676875e-15, -3.98968765224085e-14,  -5.7775038934288e-14,  1.39229412080284e-13],\n",
       "[ 5.91760369595698e-15,  1.02007003175069e-14,  6.23115154237439e-16,  -1.4122704279627e-14,  3.06994668236753e-14, -9.93355034986037e-14,  8.81596221143591e-14, -1.55629044375193e-14,  -1.7488205942071e-13,  1.58255750790286e-13, -4.09006265451408e-14,     0.999999999999999,  3.29419799715182e-14,  1.54448982242617e-14, -1.16391350507873e-13],\n",
       "[ 2.97967240212349e-15,  5.17639483872018e-15,  2.55761448158799e-16,  -8.3130562481815e-15,  1.65411935065004e-14, -4.52426550273339e-14,  4.37308168410795e-14,  -7.1741754539473e-15, -1.04491063838453e-13,  9.10853702877896e-14,  -1.9495740533741e-14,  6.10271990953452e-16,      1.00000000000002, -2.41965959428162e-15, -5.51896133071824e-14],\n",
       "[-2.23412836059123e-15,  -3.6221175625973e-15, -1.08550336053249e-15,   5.5396526520697e-15, -1.60153113173876e-14,  3.98427386090014e-14, -6.07223853795478e-14,  1.02829291314156e-14,  3.30297452232117e-14, -5.09330788065836e-14,  3.45458227670046e-14, -3.17693118317265e-15, -6.65872716415281e-15,     0.999999999999982,  5.64898367108066e-14],\n",
       "[-3.29545273699879e-16, -2.82884977940261e-16, -6.97524684086551e-17,  4.29573597850931e-16, -3.84177038616201e-15,  9.47815977902115e-15, -1.25728877840399e-14,  3.80449297457562e-16,  3.96134561438294e-15, -1.13509497128555e-14,  3.12687099903606e-15, -3.19998642913402e-16, -1.70094593520704e-15, -3.88617032198916e-15,      1.00000000000001]])"
      ]
     },
     "execution_count": 34,
     "metadata": {},
     "output_type": "execute_result"
    }
   ],
   "source": [
    "data_analysis_matrix = G@Gg\n",
    "Matrix(data_analysis_matrix) "
   ]
  },
  {
   "cell_type": "code",
   "execution_count": 40,
   "id": "6c58a5a3",
   "metadata": {},
   "outputs": [
    {
     "data": {
      "text/latex": [
       "$\\displaystyle \\left[\\begin{matrix}0.511646677310642\\\\0.596548130608417\\\\0.96331443769227\\\\0.999999999999991\\\\1.00000000000006\\\\0.999999999999845\\\\0.999999999999428\\\\1.00000000000004\\\\0.999999999999845\\\\0.999999999999772\\\\1.0000000000001\\\\0.999999999999999\\\\1.00000000000002\\\\0.999999999999982\\\\1.00000000000001\\end{matrix}\\right]$"
      ],
      "text/plain": [
       "Matrix([\n",
       "[0.511646677310642],\n",
       "[0.596548130608417],\n",
       "[ 0.96331443769227],\n",
       "[0.999999999999991],\n",
       "[ 1.00000000000006],\n",
       "[0.999999999999845],\n",
       "[0.999999999999428],\n",
       "[ 1.00000000000004],\n",
       "[0.999999999999845],\n",
       "[0.999999999999772],\n",
       "[  1.0000000000001],\n",
       "[0.999999999999999],\n",
       "[ 1.00000000000002],\n",
       "[0.999999999999982],\n",
       "[ 1.00000000000001]])"
      ]
     },
     "execution_count": 40,
     "metadata": {},
     "output_type": "execute_result"
    }
   ],
   "source": [
    "Matrix(np.diag(data_analysis_matrix))"
   ]
  },
  {
   "cell_type": "code",
   "execution_count": 33,
   "id": "b34cb77c",
   "metadata": {},
   "outputs": [
    {
     "data": {
      "text/latex": [
       "$\\displaystyle \\left[\\begin{array}{cccccccccccccccc}1.0 & -5.74221156117722 \\cdot 10^{-15} & -1.25286947473467 \\cdot 10^{-14} & -1.59656585078522 \\cdot 10^{-14} & -3.48212205152793 \\cdot 10^{-15} & -1.42763252906438 \\cdot 10^{-14} & -1.71650808970356 \\cdot 10^{-14} & -1.23979550347426 \\cdot 10^{-16} & -1.34016693063078 \\cdot 10^{-14} & -1.8125439292473 \\cdot 10^{-14} & 5.76277963177731 \\cdot 10^{-16} & -1.38948846839377 \\cdot 10^{-15} & -2.31193102754547 \\cdot 10^{-14} & -1.46544328488335 \\cdot 10^{-15} & -2.25365164838406 \\cdot 10^{-15} & -2.56230382464362 \\cdot 10^{-16}\\\\7.20503483626481 \\cdot 10^{-15} & 1.0 & -9.67961798215152 \\cdot 10^{-15} & -2.31992754915078 \\cdot 10^{-14} & 3.5182589026435 \\cdot 10^{-15} & -3.84342093185141 \\cdot 10^{-15} & -1.49149826598419 \\cdot 10^{-14} & -2.55700885719444 \\cdot 10^{-14} & -8.69513227348225 \\cdot 10^{-15} & -2.46209761062951 \\cdot 10^{-14} & -2.33410243236875 \\cdot 10^{-14} & -7.04284950015035 \\cdot 10^{-15} & -3.24818597270849 \\cdot 10^{-14} & -1.91115462388685 \\cdot 10^{-14} & -1.80677175951057 \\cdot 10^{-15} & -1.26795005636904 \\cdot 10^{-17}\\\\0.0131557112947434 & 0.0143189252495571 & 0.949312593118632 & -0.0169365242022556 & 0.00212339047402441 & 0.0838101508226703 & -0.0255669989534913 & -0.00819967815208369 & -0.0443073031376744 & 0.101570477704806 & 0.0192857800692237 & 0.0906406560379056 & -0.125329025846368 & -0.049302247044474 & 0.0315599904361746 & 0.0239383241620366\\\\0.00144164237920104 & 0.00720530129660659 & 0.00755392781304154 & 0.958774824567256 & 0.00561239071739474 & -0.0486474071372865 & -0.00878261063186653 & 0.132381159929373 & 0.00372170504431159 & -0.0402898613401275 & -0.142415504623283 & 0.160048293676385 & 0.0644337135913033 & -0.0971157655342239 & -0.0245183194344498 & 0.0292617164356749\\\\1.47707071529993 \\cdot 10^{-15} & 2.67125026493255 \\cdot 10^{-14} & -2.3080759610678 \\cdot 10^{-15} & -1.23904056471227 \\cdot 10^{-14} & 1.00000000000002 & 1.86612848133423 \\cdot 10^{-14} & -1.01739224206697 \\cdot 10^{-14} & -1.18048800659013 \\cdot 10^{-14} & 2.68923273475921 \\cdot 10^{-14} & -1.05288163889141 \\cdot 10^{-14} & -7.9623634348601 \\cdot 10^{-15} & 1.50955981848456 \\cdot 10^{-16} & 8.69600899262122 \\cdot 10^{-16} & -4.79299426929919 \\cdot 10^{-15} & -2.11348356128735 \\cdot 10^{-16} & -1.81158200426902 \\cdot 10^{-15}\\\\-0.0210777791200239 & -0.0194087708357769 & 0.0894263618761282 & 0.00245925046694804 & -3.0127030822603 \\cdot 10^{-5} & 0.82947329837065 & 0.0372141164508013 & 0.0966751368960752 & 0.0763641060792881 & -0.194963369866152 & -0.121487867561611 & -0.0511320733981252 & 0.249793647240617 & 0.0215064938724074 & -0.068100122510918 & -0.0216568167327942\\\\0.00256991001504171 & 0.00201570420747773 & -0.0117189870875552 & 0.00214990456983904 & -0.000331078677185335 & 0.0243900511729985 & 0.995834827184413 & -0.0200804511376187 & -0.00984440580359774 & 0.0269705500396921 & 0.0238057262374098 & -0.00310665875189472 & -0.0353200917666187 & 0.00308466318155296 & 0.0100439664141657 & 0.000982930189841331\\\\-0.00820005164625909 & -0.0185769327502307 & 0.00914600165609688 & 0.0779755079300364 & -0.0105361379501145 & 0.0467957055816965 & 0.0261782502463471 & 0.776872612855313 & 0.012929105124393 & 0.0247463382246219 & 0.235481312246279 & -0.313566392746381 & -0.055741717899131 & 0.187786903877154 & 0.0282379545871469 & -0.0605386983326081\\\\-2.22370624593062 \\cdot 10^{-14} & 1.48394794390419 \\cdot 10^{-14} & -1.61020961621457 \\cdot 10^{-14} & 9.86896163207379 \\cdot 10^{-15} & -7.47605436168199 \\cdot 10^{-15} & -5.69023492040499 \\cdot 10^{-15} & -2.72083559108062 \\cdot 10^{-14} & -5.11512437094896 \\cdot 10^{-16} & 1.00000000000001 & -2.81247633032843 \\cdot 10^{-14} & -1.16962646403999 \\cdot 10^{-14} & 3.66752153941806 \\cdot 10^{-16} & -2.44475453623345 \\cdot 10^{-14} & -1.00047308851982 \\cdot 10^{-14} & 3.26862754450103 \\cdot 10^{-15} & 3.91978510708472 \\cdot 10^{-15}\\\\-0.0350180053332992 & -0.0377722649179534 & 0.135715649364381 & 0.042692949624703 & -0.00532563038882863 & -0.226595834915835 & 0.0676915846718863 & 0.0299131869643651 & 0.118458068157256 & 0.7265185758826 & -0.0601048682932937 & -0.232159437448548 & 0.338345156613881 & 0.12566821584274 & -0.0857042868523179 & -0.0621028924592636\\\\-0.00617401828160631 & 0.003573646501805 & 0.0477280904124621 & -0.063952969989679 & 0.00882861952115905 & -0.144952136156382 & 0.0010755527640636 & 0.247261361526966 & 0.0364580860832951 & -0.141577913052004 & 0.72699111353879 & 0.231623266000359 & 0.201577530258092 & -0.144360983762295 & -0.0653798228999228 & 0.038817684212444\\\\-0.0266851899110205 & -0.039117107733767 & 0.0793888488917044 & 0.104711007007156 & -0.0139211818723307 & -0.0666505658714193 & 0.0625488590009226 & -0.221551982690341 & 0.0745453987616 & -0.114133477991024 & 0.21916825591227 & 0.547871715647914 & 0.114525298866941 & 0.263905757535988 & -0.0131669264627697 & -0.0891918384296593\\\\0.0310064529390361 & 0.0285512594138868 & -0.131550590089977 & -0.00361767876194825 & 4.43183485998869 \\cdot 10^{-5} & 0.250853190880046 & -0.0547438012245939 & -0.142213895756272 & -0.112335367398037 & 0.286800735417611 & 0.178714646679012 & 0.0752178025240145 & 0.632541221561148 & -0.0316371134902022 & 0.0788727248248191 & -0.00204195373451825\\\\0.0145800472731295 & 0.0213725021949758 & -0.0433758640524214 & -0.0572111885755501 & 0.00760614747259252 & 0.0364160196882883 & -0.0341749608733981 & 0.121049855438268 & -0.0407295373034244 & 0.0623593652547159 & -0.119747453273031 & 0.247030348343994 & -0.0625734453081673 & 0.855809217272365 & -0.0168389477762922 & -0.0343684968063371\\\\-4.57997887732517 \\cdot 10^{-14} & -1.10127505250959 \\cdot 10^{-13} & -9.0584647381174 \\cdot 10^{-14} & -7.14996909347739 \\cdot 10^{-14} & -6.56752530488986 \\cdot 10^{-14} & -1.49512730379302 \\cdot 10^{-13} & -9.20901711873839 \\cdot 10^{-14} & -2.08621469397314 \\cdot 10^{-13} & -1.66538861905072 \\cdot 10^{-13} & -2.00685460387195 \\cdot 10^{-13} & -2.16107485955007 \\cdot 10^{-13} & -3.65449201116299 \\cdot 10^{-14} & -3.28525084444 \\cdot 10^{-13} & -1.70186271126639 \\cdot 10^{-13} & 0.974577627202247 & -0.0545774487411765\\\\-1.51641807585581 \\cdot 10^{-15} & 4.05732231840519 \\cdot 10^{-14} & 4.99107979730203 \\cdot 10^{-14} & 9.21615328592629 \\cdot 10^{-14} & 2.1607597740212 \\cdot 10^{-14} & 6.90538965028942 \\cdot 10^{-14} & 1.0917375733867 \\cdot 10^{-13} & 1.11077320939371 \\cdot 10^{-13} & 7.27496943986295 \\cdot 10^{-14} & 1.5643517194131 \\cdot 10^{-13} & 1.03361486936839 \\cdot 10^{-13} & 2.00141990292315 \\cdot 10^{-15} & 2.08358338378085 \\cdot 10^{-13} & 6.89612610375619 \\cdot 10^{-14} & 0.00689847011862164 & 1.09693161840907\\end{array}\\right]$"
      ],
      "text/plain": [
       "Matrix([\n",
       "[                  1.0, -5.74221156117722e-15, -1.25286947473467e-14, -1.59656585078522e-14, -3.48212205152793e-15, -1.42763252906438e-14, -1.71650808970356e-14, -1.23979550347426e-16, -1.34016693063078e-14,  -1.8125439292473e-14,  5.76277963177731e-16, -1.38948846839377e-15, -2.31193102754547e-14, -1.46544328488335e-15, -2.25365164838406e-15, -2.56230382464362e-16],\n",
       "[ 7.20503483626481e-15,                   1.0, -9.67961798215152e-15, -2.31992754915078e-14,   3.5182589026435e-15, -3.84342093185141e-15, -1.49149826598419e-14, -2.55700885719444e-14, -8.69513227348225e-15, -2.46209761062951e-14, -2.33410243236875e-14, -7.04284950015035e-15, -3.24818597270849e-14, -1.91115462388685e-14, -1.80677175951057e-15, -1.26795005636904e-17],\n",
       "[   0.0131557112947434,    0.0143189252495571,     0.949312593118632,   -0.0169365242022556,   0.00212339047402441,    0.0838101508226703,   -0.0255669989534913,  -0.00819967815208369,   -0.0443073031376744,     0.101570477704806,    0.0192857800692237,    0.0906406560379056,    -0.125329025846368,    -0.049302247044474,    0.0315599904361746,    0.0239383241620366],\n",
       "[  0.00144164237920104,   0.00720530129660659,   0.00755392781304154,     0.958774824567256,   0.00561239071739474,   -0.0486474071372865,  -0.00878261063186653,     0.132381159929373,   0.00372170504431159,   -0.0402898613401275,    -0.142415504623283,     0.160048293676385,    0.0644337135913033,   -0.0971157655342239,   -0.0245183194344498,    0.0292617164356749],\n",
       "[ 1.47707071529993e-15,  2.67125026493255e-14,  -2.3080759610678e-15, -1.23904056471227e-14,      1.00000000000002,  1.86612848133423e-14, -1.01739224206697e-14, -1.18048800659013e-14,  2.68923273475921e-14, -1.05288163889141e-14,  -7.9623634348601e-15,  1.50955981848456e-16,  8.69600899262122e-16, -4.79299426929919e-15, -2.11348356128735e-16, -1.81158200426902e-15],\n",
       "[  -0.0210777791200239,   -0.0194087708357769,    0.0894263618761282,   0.00245925046694804,   -3.0127030822603e-5,      0.82947329837065,    0.0372141164508013,    0.0966751368960752,    0.0763641060792881,    -0.194963369866152,    -0.121487867561611,   -0.0511320733981252,     0.249793647240617,    0.0215064938724074,    -0.068100122510918,   -0.0216568167327942],\n",
       "[  0.00256991001504171,   0.00201570420747773,   -0.0117189870875552,   0.00214990456983904, -0.000331078677185335,    0.0243900511729985,     0.995834827184413,   -0.0200804511376187,  -0.00984440580359774,    0.0269705500396921,    0.0238057262374098,  -0.00310665875189472,   -0.0353200917666187,   0.00308466318155296,    0.0100439664141657,  0.000982930189841331],\n",
       "[ -0.00820005164625909,   -0.0185769327502307,   0.00914600165609688,    0.0779755079300364,   -0.0105361379501145,    0.0467957055816965,    0.0261782502463471,     0.776872612855313,     0.012929105124393,    0.0247463382246219,     0.235481312246279,    -0.313566392746381,    -0.055741717899131,     0.187786903877154,    0.0282379545871469,   -0.0605386983326081],\n",
       "[-2.22370624593062e-14,  1.48394794390419e-14, -1.61020961621457e-14,  9.86896163207379e-15, -7.47605436168199e-15, -5.69023492040499e-15, -2.72083559108062e-14, -5.11512437094896e-16,      1.00000000000001, -2.81247633032843e-14, -1.16962646403999e-14,  3.66752153941806e-16, -2.44475453623345e-14, -1.00047308851982e-14,  3.26862754450103e-15,  3.91978510708472e-15],\n",
       "[  -0.0350180053332992,   -0.0377722649179534,     0.135715649364381,     0.042692949624703,  -0.00532563038882863,    -0.226595834915835,    0.0676915846718863,    0.0299131869643651,     0.118458068157256,       0.7265185758826,   -0.0601048682932937,    -0.232159437448548,     0.338345156613881,      0.12566821584274,   -0.0857042868523179,   -0.0621028924592636],\n",
       "[ -0.00617401828160631,     0.003573646501805,    0.0477280904124621,    -0.063952969989679,   0.00882861952115905,    -0.144952136156382,    0.0010755527640636,     0.247261361526966,    0.0364580860832951,    -0.141577913052004,      0.72699111353879,     0.231623266000359,     0.201577530258092,    -0.144360983762295,   -0.0653798228999228,     0.038817684212444],\n",
       "[  -0.0266851899110205,    -0.039117107733767,    0.0793888488917044,     0.104711007007156,   -0.0139211818723307,   -0.0666505658714193,    0.0625488590009226,    -0.221551982690341,       0.0745453987616,    -0.114133477991024,      0.21916825591227,     0.547871715647914,     0.114525298866941,     0.263905757535988,   -0.0131669264627697,   -0.0891918384296593],\n",
       "[   0.0310064529390361,    0.0285512594138868,    -0.131550590089977,  -0.00361767876194825,   4.43183485998869e-5,     0.250853190880046,   -0.0547438012245939,    -0.142213895756272,    -0.112335367398037,     0.286800735417611,     0.178714646679012,    0.0752178025240145,     0.632541221561148,   -0.0316371134902022,    0.0788727248248191,  -0.00204195373451825],\n",
       "[   0.0145800472731295,    0.0213725021949758,   -0.0433758640524214,   -0.0572111885755501,   0.00760614747259252,    0.0364160196882883,   -0.0341749608733981,     0.121049855438268,   -0.0407295373034244,    0.0623593652547159,    -0.119747453273031,     0.247030348343994,   -0.0625734453081673,     0.855809217272365,   -0.0168389477762922,   -0.0343684968063371],\n",
       "[-4.57997887732517e-14, -1.10127505250959e-13,  -9.0584647381174e-14, -7.14996909347739e-14, -6.56752530488986e-14, -1.49512730379302e-13, -9.20901711873839e-14, -2.08621469397314e-13, -1.66538861905072e-13, -2.00685460387195e-13, -2.16107485955007e-13, -3.65449201116299e-14,    -3.28525084444e-13, -1.70186271126639e-13,     0.974577627202247,   -0.0545774487411765],\n",
       "[-1.51641807585581e-15,  4.05732231840519e-14,  4.99107979730203e-14,  9.21615328592629e-14,   2.1607597740212e-14,  6.90538965028942e-14,   1.0917375733867e-13,  1.11077320939371e-13,  7.27496943986295e-14,   1.5643517194131e-13,  1.03361486936839e-13,  2.00141990292315e-15,  2.08358338378085e-13,  6.89612610375619e-14,   0.00689847011862164,      1.09693161840907]])"
      ]
     },
     "execution_count": 33,
     "metadata": {},
     "output_type": "execute_result"
    }
   ],
   "source": [
    "par_analysis_matrix = Gg@G\n",
    "Matrix(par_analysis_matrix)"
   ]
  },
  {
   "cell_type": "code",
   "execution_count": 38,
   "id": "4a1260f9",
   "metadata": {},
   "outputs": [
    {
     "data": {
      "text/latex": [
       "$\\displaystyle \\left[\\begin{matrix}1.0\\\\1.0\\\\0.949312593118632\\\\0.958774824567256\\\\1.00000000000002\\\\0.82947329837065\\\\0.995834827184413\\\\0.776872612855313\\\\1.00000000000001\\\\0.7265185758826\\\\0.72699111353879\\\\0.547871715647914\\\\0.632541221561148\\\\0.855809217272365\\\\0.974577627202247\\\\1.09693161840907\\end{matrix}\\right]$"
      ],
      "text/plain": [
       "Matrix([\n",
       "[              1.0],\n",
       "[              1.0],\n",
       "[0.949312593118632],\n",
       "[0.958774824567256],\n",
       "[ 1.00000000000002],\n",
       "[ 0.82947329837065],\n",
       "[0.995834827184413],\n",
       "[0.776872612855313],\n",
       "[ 1.00000000000001],\n",
       "[  0.7265185758826],\n",
       "[ 0.72699111353879],\n",
       "[0.547871715647914],\n",
       "[0.632541221561148],\n",
       "[0.855809217272365],\n",
       "[0.974577627202247],\n",
       "[ 1.09693161840907]])"
      ]
     },
     "execution_count": 38,
     "metadata": {},
     "output_type": "execute_result"
    }
   ],
   "source": [
    "Matrix(np.diag(par_analysis_matrix))"
   ]
  },
  {
   "cell_type": "markdown",
   "id": "0d23d75e",
   "metadata": {},
   "source": [
    "$$S^2 = \\cfrac{1}{N-1}\\left(\\sum X_j^2 -\\cfrac{1}{N}\\left(\\sum X_j\\right)^2\\right)$$"
   ]
  },
  {
   "cell_type": "code",
   "execution_count": 3414,
   "id": "0de9eff1",
   "metadata": {},
   "outputs": [
    {
     "data": {
      "text/plain": [
       "22.803359750086134"
      ]
     },
     "execution_count": 3414,
     "metadata": {},
     "output_type": "execute_result"
    }
   ],
   "source": [
    "S2 = (1/(15-1)) * ( sum(d**2) - (1/15)*sum(d)**2 )\n",
    "S2"
   ]
  },
  {
   "cell_type": "code",
   "execution_count": 3415,
   "id": "c915e108",
   "metadata": {},
   "outputs": [],
   "source": [
    "Covd = S2*np.eye(len(d))\n",
    "#Matrix(Covd)"
   ]
  },
  {
   "cell_type": "code",
   "execution_count": 3416,
   "id": "27bd1808",
   "metadata": {
    "scrolled": true
   },
   "outputs": [],
   "source": [
    "Covm = Gg @ Covd @ Gg.T\n",
    "#Matrix(Covm)"
   ]
  },
  {
   "cell_type": "code",
   "execution_count": 3417,
   "id": "364cc504",
   "metadata": {},
   "outputs": [],
   "source": [
    "d_pre = G @ m_est\n",
    "#Matrix(d_pre)"
   ]
  },
  {
   "cell_type": "code",
   "execution_count": 3418,
   "id": "3c328c4a",
   "metadata": {},
   "outputs": [],
   "source": [
    "#Matrix(d)"
   ]
  },
  {
   "cell_type": "code",
   "execution_count": 3419,
   "id": "05ea79f4",
   "metadata": {},
   "outputs": [
    {
     "data": {
      "text/plain": [
       "21.660361817834538"
      ]
     },
     "execution_count": 3419,
     "metadata": {},
     "output_type": "execute_result"
    }
   ],
   "source": [
    "norm(d - d_pre, 2) #l2 norm"
   ]
  },
  {
   "cell_type": "code",
   "execution_count": 3420,
   "id": "3f1468c0",
   "metadata": {},
   "outputs": [
    {
     "data": {
      "text/plain": [
       "16.334495683431427"
      ]
     },
     "execution_count": 3420,
     "metadata": {},
     "output_type": "execute_result"
    }
   ],
   "source": [
    "norm(d - d_pre, np.inf) #linf norm"
   ]
  },
  {
   "cell_type": "code",
   "execution_count": 3421,
   "id": "dac68db1",
   "metadata": {},
   "outputs": [
    {
     "data": {
      "text/plain": [
       "0.02245033111538581"
      ]
     },
     "execution_count": 3421,
     "metadata": {},
     "output_type": "execute_result"
    }
   ],
   "source": [
    "np.mean(1/m_est)"
   ]
  },
  {
   "cell_type": "code",
   "execution_count": 3422,
   "id": "0b535661",
   "metadata": {},
   "outputs": [
    {
     "data": {
      "text/plain": [
       "59.06950266094743"
      ]
     },
     "execution_count": 3422,
     "metadata": {},
     "output_type": "execute_result"
    }
   ],
   "source": [
    "s2 = (1/(15-1)) * ( sum(d_pre**2) - (1/15)*sum(d_pre)**2 )\n",
    "s2"
   ]
  }
 ],
 "metadata": {
  "kernelspec": {
   "display_name": "Python 3 (ipykernel)",
   "language": "python",
   "name": "python3"
  },
  "language_info": {
   "codemirror_mode": {
    "name": "ipython",
    "version": 3
   },
   "file_extension": ".py",
   "mimetype": "text/x-python",
   "name": "python",
   "nbconvert_exporter": "python",
   "pygments_lexer": "ipython3",
   "version": "3.10.2"
  }
 },
 "nbformat": 4,
 "nbformat_minor": 5
}
