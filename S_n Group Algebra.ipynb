{
 "cells": [
  {
   "cell_type": "markdown",
   "id": "045059ef",
   "metadata": {},
   "source": [
    "# $\\bullet\\textbf{ CHAPTER 06 : ALGEBRA / THE SYMMETRIC GROUP $S_n$ }.$\n",
    "#### $$\\qquad\\qquad\\qquad\\qquad\\qquad\\qquad\\qquad\\qquad\\qquad\\qquad\\qquad\\qquad\\qquad\\qquad\\qquad\\qquad\\qquad\\qquad\\qquad\\qquad\\qquad\\qquad\\qquad\\qquad\\qquad\\qquad\\qquad\\qquad\\qquad\\qquad\\qquad\\qquad\\qquad\\qquad\\qquad\\qquad\\qquad\\qquad\\qquad\\qquad\\qquad\\bullet\\textbf{ John Mars} .$$\n"
   ]
  },
  {
   "cell_type": "code",
   "execution_count": 38,
   "id": "80b6d362",
   "metadata": {},
   "outputs": [],
   "source": [
    "from numpy import array, gcd, prod\n",
    "from sympy import Matrix \n",
    "from pandas import DataFrame\n",
    "from itertools import chain, permutations\n",
    "from time import perf_counter\n",
    "\n",
    "\n",
    "class S_n:\n",
    "    \n",
    "    def __init__(self,sigma): #input: sigma: list\n",
    "        self.sigma = sigma\n",
    "    \n",
    "    def __repr__(self):\n",
    "        return str(array([list(range(1,len(self.sigma)+1)),list(self.sigma)]))\n",
    "    \n",
    "    def __str__(self):\n",
    "        return str(array([list(range(1,len(self.sigma)+1)),list(self.sigma)]))\n",
    "    \n",
    "    def view(self,latex=None):\n",
    "        if latex in [False,0,'0','F','False','arr','numpy']:\n",
    "            return array([list(range(1,len(self.sigma)+1)),list(self.sigma)])\n",
    "        else:\n",
    "            return Matrix(array([list(range(1,len(self.sigma)+1)),list(self.sigma)]))\n",
    "\n",
    "    def mul2(self,obj,view=None): #mul for only 2 objects [s1,s2] : s1(s2).\n",
    "        d1=dict(zip(list(range(1,len(obj[0])+1)),obj[0]))\n",
    "        d2=dict(zip(list(range(1,len(obj[1])+1)),obj[1]))\n",
    "        D ={i:j for i,j in zip(list(range(1,len(d1)+1)),[d1[d2[i]] for i in range(1,len(d1)+1)])}\n",
    "        \n",
    "        if view in [True,'arr','T','1',1,0,'list']:\n",
    "            return [list(range(1,len(d1)+1)),list(D.values())][1]\n",
    "        elif view == 'latex':\n",
    "            return Matrix([list(range(1,len(d1)+1)),list(D.values())][1]).T\n",
    "        elif view in ['array','arr','numpy','np']:\n",
    "            return array([list(range(1,len(d1)+1)),list(D.values())][1])\n",
    "        else:\n",
    "            return S_n([list(range(1,len(d1)+1)),list(D.values())][1])\n",
    "    def arr_mul2(self,obj):\n",
    "        return self.mul2(obj,True)\n",
    "        \n",
    "    def power(self,n,Set=None):\n",
    "        #dynamic programming:\n",
    "        SIGMA = [self.sigma,self.arr_mul2([self.sigma,self.sigma])]\n",
    "        for i in range(2,n):\n",
    "            SIGMA.append(self.arr_mul2([self.sigma,SIGMA[-1]]))\n",
    "\n",
    "        if n==0:\n",
    "            SIGMA = [list(range(1,len(self.sigma)+1))]\n",
    "        elif n==1:\n",
    "            SIGMA = [self.sigma]\n",
    "            \n",
    "        if Set in ['True',True,1,'set',set,'all']:\n",
    "            return SIGMA\n",
    "        elif Set in [dict,'dict']:\n",
    "            return dict(zip([f'sigma^{i}=' for i in range(1,n+1)],SIGMA))\n",
    "        else:\n",
    "            return SIGMA[-1]\n",
    "\n",
    "    def inv(self,view=None):\n",
    "        d = dict(zip(list(range(1,len(self.sigma)+1)),self.sigma))\n",
    "        output = list(dict(zip(list(range(1,len(self.sigma)+1)),[d[x] for x in d.values()])).values())\n",
    "        if view in [1,True,list,'True','list']:\n",
    "            return output\n",
    "        elif view in ['arr','numpy','np','array']:\n",
    "            return array(output)\n",
    "        else:\n",
    "            return S_n(output)\n",
    "        \n",
    "    def ord_slow(self): #slow way\n",
    "        k = 1\n",
    "        while self.power(k) != list(range(1,len(self.sigma)+1)):\n",
    "            k+=1\n",
    "        return k\n",
    "    def ord(self):\n",
    "        return LCM(list_of_len(self.circle_factorization()))\n",
    "    \n",
    "    def power_fast(self,n,latex=None):\n",
    "        if latex ==True:\n",
    "            return Matrix(self.power(n%self.ord())).T\n",
    "        else:\n",
    "            return self.power(n%self.ord())\n",
    "    def Next(self,L):\n",
    "        MAX = len(self.sigma)\n",
    "        Next = 0\n",
    "        if L == sorted(L) and L[-1]!= MAX:\n",
    "            Next = L[-1]+1\n",
    "        if len(L)==1:\n",
    "            Next = 2\n",
    "\n",
    "        for i in range(1,len(L)+1):\n",
    "            if i not in L:\n",
    "                Next+=i\n",
    "                break\n",
    "\n",
    "        return Next\n",
    "    \n",
    "    def next_starting_point(self,sigm): # list of the \"next starting point\" in order to find the next circle\n",
    "        List = [self.Next(f(sigm,1))]\n",
    "        c=1\n",
    "        while List[-1]!=0:\n",
    "            List.append(self.Next(f(sigm,1) + List_oper(list(chain([f(sigm,List[i]) for i in range(0,c)])) )))\n",
    "            c+=1\n",
    "        List.pop()\n",
    "\n",
    "        return [1]+ List\n",
    "    \n",
    "        \n",
    "    def max_ord_S_n(self,n,data=None,color=None):\n",
    "        out_lcm = list(map(LCM,decompose(n)))\n",
    "        if data in [True,'df','pandas','True','data']:\n",
    "            dec_map = list(map(list_to_sum,decompose(n)))\n",
    "            return DataFrame(zip(dec_map,out_lcm),columns= [f'partition of {n}','ord'])\n",
    "        else:\n",
    "            return max(out_lcm)\n",
    "        \n",
    "    def max_ord_S_n_col(self,n):\n",
    "        return self.max_ord_S_n(n,data=True).style.apply(highlight_max, subset=['ord'])\n",
    "        \n",
    "    def s_dict(self):\n",
    "        return dict(zip(list(range(1,len(self.sigma)+1)),self.sigma))\n",
    "    \n",
    "    def circle_factorization(self,view=None):\n",
    "        Circles = []\n",
    "\n",
    "        for x in self.next_starting_point(self.sigma):\n",
    "            Circles.append(f(self.sigma,x))\n",
    "          \n",
    "            \n",
    "        if view == None:\n",
    "            return list_oper2(Circles)\n",
    "        elif view == 'full':\n",
    "            return Circles\n",
    "        elif view in ['latex',True,'factor','circles']:\n",
    "            return list_oper3(list_oper2(Circles))\n",
    "        \n",
    "    def odd_even(self):\n",
    "        if self.sigma == list(range(1,len(self.sigma)+1)):\n",
    "            return 'even'\n",
    "        return pmone_to_even_odd(prod(list_oper4(list_of_len(self.circle_factorization()))))\n",
    "    \n",
    "    def circle_factorization_2(self,view=None):\n",
    "        if view == None:\n",
    "            return list_oper6(list(map(list_oper7,self.circle_factorization())))\n",
    "        elif view in [True,'arr','tuples']:\n",
    "            return list(map(list_oper7,self.circle_factorization()))\n",
    "    def is_odd(self):\n",
    "        if self.odd_even() == 'odd':\n",
    "            return True\n",
    "        return False\n",
    "    def is_even(self):\n",
    "        if self.odd_even() == 'even':\n",
    "            return True\n",
    "        return False\n",
    "        \n",
    "    def A_n(self,n):\n",
    "        return list(map(list,list(permutations(list(range(1,n+1))))))\n",
    "\n",
    "            \n",
    "def LCM(A):\n",
    "    Lcm = A[0]\n",
    "    for i in range(1,len(A)):\n",
    "        Lcm = Lcm*A[i]//gcd(Lcm, A[i])\n",
    "    return Lcm\n",
    "\n",
    "D = { 1: [[1]] }\n",
    "def decompose(n):\n",
    "    try:\n",
    "        return D[n]\n",
    "    except:\n",
    "        pass\n",
    "    result = [[n]]\n",
    "    for i in range(1,n):\n",
    "        a = n-i\n",
    "        R = decompose(i)\n",
    "        for r in R:\n",
    "            if r[0] <= a:\n",
    "                result.append([a] + r)\n",
    "    D[n] = result\n",
    "    return result\n",
    "\n",
    "def list_to_sum(L):\n",
    "    if len(L)==1:\n",
    "        return str(L[0])\n",
    "    else:\n",
    "        s = ''\n",
    "        for i in range(len(str(L))):\n",
    "            if str(L)[i] not in '[,]':\n",
    "                s+=str(L)[i]\n",
    "            elif str(L)[i]==',':\n",
    "                s+=' +'\n",
    "    return s\n",
    "\n",
    "def highlight_max(s):\n",
    "    is_max = s == s.max()\n",
    "    return ['background-color: lightcoral' if v else '' for v in is_max]\n",
    "\n",
    "\n",
    "def List_oper(L): #takes a list of lists and maps it in one list\n",
    "    s_new = ''\n",
    "    s = str(L)\n",
    "    for x in s:\n",
    "        if not x in '[]':\n",
    "            s_new += x\n",
    "    return list(map(int,s_new.split(',')))\n",
    "\n",
    "\n",
    "def f(S,start): # finds the next circle if you start from 'start'\n",
    "    s_dic = dict(zip(list(range(1,len(S)+1)),S)) \n",
    "    L = []\n",
    "    L.append(start)\n",
    "    while L.count(start)!=2:\n",
    "        L.append(s_dic[L[-1]])\n",
    "    L.pop()\n",
    "    \n",
    "    return L\n",
    "\n",
    "\n",
    "def list_oper2(L):\n",
    "    L_new = []\n",
    "    for x in L:\n",
    "        if not len(x)==1:\n",
    "            L_new.append(x)\n",
    "    return L_new\n",
    "\n",
    "def list_oper3(L):\n",
    "    s = ''\n",
    "    for x in str(L):\n",
    "        if x == '[':\n",
    "            s += '('\n",
    "        elif x == ']':\n",
    "            s += ')'\n",
    "        elif x != ',':\n",
    "            s += x\n",
    "    return s[1:-1]\n",
    "\n",
    "def list_of_len(L): #L list of lists, returns the len of the list\n",
    "    return list(map(len,L))\n",
    "\n",
    "\n",
    "def list_oper4(L):\n",
    "    pm_one = lambda n:-1 if n%2==0 else 1\n",
    "    return list(map(pm_one,L))\n",
    "\n",
    "pmone_to_even_odd = lambda n: 'odd' if n==-1 else 'even'\n",
    "\n",
    "\n",
    "def list_oper5(L):\n",
    "    return Matrix([list(range(1,len(L)+1)),L])\n",
    "\n",
    "def list_oper6(L):\n",
    "    s = ''\n",
    "    l = str(L)\n",
    "    for i,x in enumerate(l):\n",
    "        if not x in \"[],''\":\n",
    "            s += x\n",
    "    return s\n",
    "def list_oper7(L):\n",
    "    s = ''\n",
    "    N = [(L[i],L[i+1]) for i in range(len(L)-1)]\n",
    "    for i,x in enumerate(N):\n",
    "        s += str(N[i])\n",
    "    s_new = ''\n",
    "    for i in s:\n",
    "        if i!=',':\n",
    "            s_new += i\n",
    "    return s_new\n",
    "            \n",
    "    \n",
    "def A_n_sub_group(L,view=None): #subgroup of even ords\n",
    "    A = []\n",
    "    for i,x in enumerate(L):\n",
    "        class_val = S_n(x)\n",
    "        try:\n",
    "            if class_val.odd_even() == 'even':\n",
    "                A.append(x)\n",
    "        except:\n",
    "            pass\n",
    "            \n",
    "    if view in [None,True,'True','arr']:\n",
    "        return A\n",
    "    elif view in ['latex','set',set,'sympy']:\n",
    "        return list(map(list_oper5,A))\n",
    "    \n",
    "    \n",
    "    "
   ]
  },
  {
   "cell_type": "code",
   "execution_count": 39,
   "id": "13858744",
   "metadata": {},
   "outputs": [
    {
     "data": {
      "text/plain": [
       "[[1 2 3 4 5 6 7 8]\n",
       " [4 6 7 2 5 1 8 3]]"
      ]
     },
     "execution_count": 39,
     "metadata": {},
     "output_type": "execute_result"
    }
   ],
   "source": [
    "#i.e\n",
    "Sig = S_n([4,6,7,2,5,1,8,3])\n",
    "Sig #view of sigma"
   ]
  },
  {
   "cell_type": "code",
   "execution_count": 40,
   "id": "0227f3a0",
   "metadata": {},
   "outputs": [
    {
     "data": {
      "text/latex": [
       "$\\displaystyle \\left[\\begin{matrix}1 & 2 & 3 & 4 & 5 & 6 & 7 & 8\\\\4 & 6 & 7 & 2 & 5 & 1 & 8 & 3\\end{matrix}\\right]$"
      ],
      "text/plain": [
       "Matrix([\n",
       "[1, 2, 3, 4, 5, 6, 7, 8],\n",
       "[4, 6, 7, 2, 5, 1, 8, 3]])"
      ]
     },
     "execution_count": 40,
     "metadata": {},
     "output_type": "execute_result"
    }
   ],
   "source": [
    "Sig.view()"
   ]
  },
  {
   "cell_type": "code",
   "execution_count": 41,
   "id": "0813c6d4",
   "metadata": {},
   "outputs": [
    {
     "data": {
      "text/plain": [
       "12"
      ]
     },
     "execution_count": 41,
     "metadata": {},
     "output_type": "execute_result"
    }
   ],
   "source": [
    "Sig.ord()"
   ]
  },
  {
   "cell_type": "code",
   "execution_count": 42,
   "id": "5864e2d3",
   "metadata": {},
   "outputs": [
    {
     "name": "stdout",
     "output_type": "stream",
     "text": [
      "(1 4 2 6) (3 7 8)\n"
     ]
    }
   ],
   "source": [
    "print(Sig.circle_factorization(view=True))"
   ]
  },
  {
   "cell_type": "code",
   "execution_count": 43,
   "id": "b40fc2af",
   "metadata": {},
   "outputs": [
    {
     "name": "stdout",
     "output_type": "stream",
     "text": [
      "(1 4)(4 2)(2 6) (3 7)(7 8)\n"
     ]
    }
   ],
   "source": [
    "print(Sig.circle_factorization_2())"
   ]
  },
  {
   "cell_type": "code",
   "execution_count": 44,
   "id": "6de2564e",
   "metadata": {},
   "outputs": [
    {
     "name": "stdout",
     "output_type": "stream",
     "text": [
      "( 1   4 ) ( 4   2 ) ( 2   6 )   ( 3   7 ) ( 7   8 )\n"
     ]
    }
   ],
   "source": [
    "print(*Sig.circle_factorization_2())"
   ]
  },
  {
   "cell_type": "code",
   "execution_count": 45,
   "id": "9049cffc",
   "metadata": {},
   "outputs": [
    {
     "data": {
      "text/plain": [
       "'odd'"
      ]
     },
     "execution_count": 45,
     "metadata": {},
     "output_type": "execute_result"
    }
   ],
   "source": [
    "Sig.odd_even()"
   ]
  },
  {
   "cell_type": "code",
   "execution_count": 46,
   "id": "59984b54",
   "metadata": {},
   "outputs": [
    {
     "data": {
      "text/plain": [
       "False"
      ]
     },
     "execution_count": 46,
     "metadata": {},
     "output_type": "execute_result"
    }
   ],
   "source": [
    "Sig.is_even()"
   ]
  },
  {
   "cell_type": "code",
   "execution_count": 47,
   "id": "eeebf2f1",
   "metadata": {},
   "outputs": [
    {
     "data": {
      "text/plain": [
       "True"
      ]
     },
     "execution_count": 47,
     "metadata": {},
     "output_type": "execute_result"
    }
   ],
   "source": [
    "Sig.is_odd()"
   ]
  },
  {
   "cell_type": "code",
   "execution_count": 48,
   "id": "f6b00d3f",
   "metadata": {},
   "outputs": [
    {
     "data": {
      "text/plain": [
       "12"
      ]
     },
     "execution_count": 48,
     "metadata": {},
     "output_type": "execute_result"
    }
   ],
   "source": [
    "Sig.ord()"
   ]
  },
  {
   "cell_type": "code",
   "execution_count": 13,
   "id": "39ea43ff",
   "metadata": {},
   "outputs": [
    {
     "data": {
      "text/html": [
       "<style  type=\"text/css\" >\n",
       "#T_f75c7_row4_col1{\n",
       "            background-color:  lightcoral;\n",
       "        }</style><table id=\"T_f75c7_\" ><thead>    <tr>        <th class=\"blank level0\" ></th>        <th class=\"col_heading level0 col0\" >partition of 8</th>        <th class=\"col_heading level0 col1\" >ord</th>    </tr></thead><tbody>\n",
       "                <tr>\n",
       "                        <th id=\"T_f75c7_level0_row0\" class=\"row_heading level0 row0\" >0</th>\n",
       "                        <td id=\"T_f75c7_row0_col0\" class=\"data row0 col0\" >8</td>\n",
       "                        <td id=\"T_f75c7_row0_col1\" class=\"data row0 col1\" >8</td>\n",
       "            </tr>\n",
       "            <tr>\n",
       "                        <th id=\"T_f75c7_level0_row1\" class=\"row_heading level0 row1\" >1</th>\n",
       "                        <td id=\"T_f75c7_row1_col0\" class=\"data row1 col0\" >7 + 1</td>\n",
       "                        <td id=\"T_f75c7_row1_col1\" class=\"data row1 col1\" >7</td>\n",
       "            </tr>\n",
       "            <tr>\n",
       "                        <th id=\"T_f75c7_level0_row2\" class=\"row_heading level0 row2\" >2</th>\n",
       "                        <td id=\"T_f75c7_row2_col0\" class=\"data row2 col0\" >6 + 2</td>\n",
       "                        <td id=\"T_f75c7_row2_col1\" class=\"data row2 col1\" >6</td>\n",
       "            </tr>\n",
       "            <tr>\n",
       "                        <th id=\"T_f75c7_level0_row3\" class=\"row_heading level0 row3\" >3</th>\n",
       "                        <td id=\"T_f75c7_row3_col0\" class=\"data row3 col0\" >6 + 1 + 1</td>\n",
       "                        <td id=\"T_f75c7_row3_col1\" class=\"data row3 col1\" >6</td>\n",
       "            </tr>\n",
       "            <tr>\n",
       "                        <th id=\"T_f75c7_level0_row4\" class=\"row_heading level0 row4\" >4</th>\n",
       "                        <td id=\"T_f75c7_row4_col0\" class=\"data row4 col0\" >5 + 3</td>\n",
       "                        <td id=\"T_f75c7_row4_col1\" class=\"data row4 col1\" >15</td>\n",
       "            </tr>\n",
       "            <tr>\n",
       "                        <th id=\"T_f75c7_level0_row5\" class=\"row_heading level0 row5\" >5</th>\n",
       "                        <td id=\"T_f75c7_row5_col0\" class=\"data row5 col0\" >5 + 2 + 1</td>\n",
       "                        <td id=\"T_f75c7_row5_col1\" class=\"data row5 col1\" >10</td>\n",
       "            </tr>\n",
       "            <tr>\n",
       "                        <th id=\"T_f75c7_level0_row6\" class=\"row_heading level0 row6\" >6</th>\n",
       "                        <td id=\"T_f75c7_row6_col0\" class=\"data row6 col0\" >5 + 1 + 1 + 1</td>\n",
       "                        <td id=\"T_f75c7_row6_col1\" class=\"data row6 col1\" >5</td>\n",
       "            </tr>\n",
       "            <tr>\n",
       "                        <th id=\"T_f75c7_level0_row7\" class=\"row_heading level0 row7\" >7</th>\n",
       "                        <td id=\"T_f75c7_row7_col0\" class=\"data row7 col0\" >4 + 4</td>\n",
       "                        <td id=\"T_f75c7_row7_col1\" class=\"data row7 col1\" >4</td>\n",
       "            </tr>\n",
       "            <tr>\n",
       "                        <th id=\"T_f75c7_level0_row8\" class=\"row_heading level0 row8\" >8</th>\n",
       "                        <td id=\"T_f75c7_row8_col0\" class=\"data row8 col0\" >4 + 3 + 1</td>\n",
       "                        <td id=\"T_f75c7_row8_col1\" class=\"data row8 col1\" >12</td>\n",
       "            </tr>\n",
       "            <tr>\n",
       "                        <th id=\"T_f75c7_level0_row9\" class=\"row_heading level0 row9\" >9</th>\n",
       "                        <td id=\"T_f75c7_row9_col0\" class=\"data row9 col0\" >4 + 2 + 2</td>\n",
       "                        <td id=\"T_f75c7_row9_col1\" class=\"data row9 col1\" >4</td>\n",
       "            </tr>\n",
       "            <tr>\n",
       "                        <th id=\"T_f75c7_level0_row10\" class=\"row_heading level0 row10\" >10</th>\n",
       "                        <td id=\"T_f75c7_row10_col0\" class=\"data row10 col0\" >4 + 2 + 1 + 1</td>\n",
       "                        <td id=\"T_f75c7_row10_col1\" class=\"data row10 col1\" >4</td>\n",
       "            </tr>\n",
       "            <tr>\n",
       "                        <th id=\"T_f75c7_level0_row11\" class=\"row_heading level0 row11\" >11</th>\n",
       "                        <td id=\"T_f75c7_row11_col0\" class=\"data row11 col0\" >4 + 1 + 1 + 1 + 1</td>\n",
       "                        <td id=\"T_f75c7_row11_col1\" class=\"data row11 col1\" >4</td>\n",
       "            </tr>\n",
       "            <tr>\n",
       "                        <th id=\"T_f75c7_level0_row12\" class=\"row_heading level0 row12\" >12</th>\n",
       "                        <td id=\"T_f75c7_row12_col0\" class=\"data row12 col0\" >3 + 3 + 2</td>\n",
       "                        <td id=\"T_f75c7_row12_col1\" class=\"data row12 col1\" >6</td>\n",
       "            </tr>\n",
       "            <tr>\n",
       "                        <th id=\"T_f75c7_level0_row13\" class=\"row_heading level0 row13\" >13</th>\n",
       "                        <td id=\"T_f75c7_row13_col0\" class=\"data row13 col0\" >3 + 3 + 1 + 1</td>\n",
       "                        <td id=\"T_f75c7_row13_col1\" class=\"data row13 col1\" >3</td>\n",
       "            </tr>\n",
       "            <tr>\n",
       "                        <th id=\"T_f75c7_level0_row14\" class=\"row_heading level0 row14\" >14</th>\n",
       "                        <td id=\"T_f75c7_row14_col0\" class=\"data row14 col0\" >3 + 2 + 2 + 1</td>\n",
       "                        <td id=\"T_f75c7_row14_col1\" class=\"data row14 col1\" >6</td>\n",
       "            </tr>\n",
       "            <tr>\n",
       "                        <th id=\"T_f75c7_level0_row15\" class=\"row_heading level0 row15\" >15</th>\n",
       "                        <td id=\"T_f75c7_row15_col0\" class=\"data row15 col0\" >3 + 2 + 1 + 1 + 1</td>\n",
       "                        <td id=\"T_f75c7_row15_col1\" class=\"data row15 col1\" >6</td>\n",
       "            </tr>\n",
       "            <tr>\n",
       "                        <th id=\"T_f75c7_level0_row16\" class=\"row_heading level0 row16\" >16</th>\n",
       "                        <td id=\"T_f75c7_row16_col0\" class=\"data row16 col0\" >3 + 1 + 1 + 1 + 1 + 1</td>\n",
       "                        <td id=\"T_f75c7_row16_col1\" class=\"data row16 col1\" >3</td>\n",
       "            </tr>\n",
       "            <tr>\n",
       "                        <th id=\"T_f75c7_level0_row17\" class=\"row_heading level0 row17\" >17</th>\n",
       "                        <td id=\"T_f75c7_row17_col0\" class=\"data row17 col0\" >2 + 2 + 2 + 2</td>\n",
       "                        <td id=\"T_f75c7_row17_col1\" class=\"data row17 col1\" >2</td>\n",
       "            </tr>\n",
       "            <tr>\n",
       "                        <th id=\"T_f75c7_level0_row18\" class=\"row_heading level0 row18\" >18</th>\n",
       "                        <td id=\"T_f75c7_row18_col0\" class=\"data row18 col0\" >2 + 2 + 2 + 1 + 1</td>\n",
       "                        <td id=\"T_f75c7_row18_col1\" class=\"data row18 col1\" >2</td>\n",
       "            </tr>\n",
       "            <tr>\n",
       "                        <th id=\"T_f75c7_level0_row19\" class=\"row_heading level0 row19\" >19</th>\n",
       "                        <td id=\"T_f75c7_row19_col0\" class=\"data row19 col0\" >2 + 2 + 1 + 1 + 1 + 1</td>\n",
       "                        <td id=\"T_f75c7_row19_col1\" class=\"data row19 col1\" >2</td>\n",
       "            </tr>\n",
       "            <tr>\n",
       "                        <th id=\"T_f75c7_level0_row20\" class=\"row_heading level0 row20\" >20</th>\n",
       "                        <td id=\"T_f75c7_row20_col0\" class=\"data row20 col0\" >2 + 1 + 1 + 1 + 1 + 1 + 1</td>\n",
       "                        <td id=\"T_f75c7_row20_col1\" class=\"data row20 col1\" >2</td>\n",
       "            </tr>\n",
       "            <tr>\n",
       "                        <th id=\"T_f75c7_level0_row21\" class=\"row_heading level0 row21\" >21</th>\n",
       "                        <td id=\"T_f75c7_row21_col0\" class=\"data row21 col0\" >1 + 1 + 1 + 1 + 1 + 1 + 1 + 1</td>\n",
       "                        <td id=\"T_f75c7_row21_col1\" class=\"data row21 col1\" >1</td>\n",
       "            </tr>\n",
       "    </tbody></table>"
      ],
      "text/plain": [
       "<pandas.io.formats.style.Styler at 0x2439082e700>"
      ]
     },
     "execution_count": 13,
     "metadata": {},
     "output_type": "execute_result"
    }
   ],
   "source": [
    "Sig.max_ord_S_n_col(8)"
   ]
  },
  {
   "cell_type": "code",
   "execution_count": 14,
   "id": "2bd366ce",
   "metadata": {},
   "outputs": [
    {
     "data": {
      "text/plain": [
       "{'sigma^1=': [4, 6, 7, 2, 5, 1, 8, 3],\n",
       " 'sigma^2=': [2, 1, 8, 6, 5, 4, 3, 7],\n",
       " 'sigma^3=': [6, 4, 3, 1, 5, 2, 7, 8],\n",
       " 'sigma^4=': [1, 2, 7, 4, 5, 6, 8, 3]}"
      ]
     },
     "execution_count": 14,
     "metadata": {},
     "output_type": "execute_result"
    }
   ],
   "source": [
    "Sig.power(4,dict)"
   ]
  },
  {
   "cell_type": "code",
   "execution_count": 15,
   "id": "64ef3920",
   "metadata": {},
   "outputs": [
    {
     "data": {
      "text/latex": [
       "$\\displaystyle \\left[\\begin{matrix}1 & 2 & 3 & 4 & 5 & 6 & 7 & 8\\end{matrix}\\right]$"
      ],
      "text/plain": [
       "Matrix([[1, 2, 3, 4, 5, 6, 7, 8]])"
      ]
     },
     "execution_count": 15,
     "metadata": {},
     "output_type": "execute_result"
    }
   ],
   "source": [
    "Sig.power_fast(12,latex=True) # domain S8"
   ]
  },
  {
   "cell_type": "code",
   "execution_count": 16,
   "id": "532a4eee",
   "metadata": {},
   "outputs": [
    {
     "data": {
      "text/plain": [
       "[[1, 4, 2, 6], [3, 7, 8]]"
      ]
     },
     "execution_count": 16,
     "metadata": {},
     "output_type": "execute_result"
    }
   ],
   "source": [
    "Sig.circle_factorization()"
   ]
  },
  {
   "cell_type": "code",
   "execution_count": 17,
   "id": "6a1860de",
   "metadata": {},
   "outputs": [
    {
     "data": {
      "text/plain": [
       "12"
      ]
     },
     "execution_count": 17,
     "metadata": {},
     "output_type": "execute_result"
    }
   ],
   "source": [
    "Sig.max_ord_S_n(n=7)"
   ]
  },
  {
   "cell_type": "code",
   "execution_count": 18,
   "id": "2d5282b7",
   "metadata": {},
   "outputs": [
    {
     "data": {
      "text/html": [
       "<div>\n",
       "<style scoped>\n",
       "    .dataframe tbody tr th:only-of-type {\n",
       "        vertical-align: middle;\n",
       "    }\n",
       "\n",
       "    .dataframe tbody tr th {\n",
       "        vertical-align: top;\n",
       "    }\n",
       "\n",
       "    .dataframe thead th {\n",
       "        text-align: right;\n",
       "    }\n",
       "</style>\n",
       "<table border=\"1\" class=\"dataframe\">\n",
       "  <thead>\n",
       "    <tr style=\"text-align: right;\">\n",
       "      <th></th>\n",
       "      <th>partition of 7</th>\n",
       "      <th>ord</th>\n",
       "    </tr>\n",
       "  </thead>\n",
       "  <tbody>\n",
       "    <tr>\n",
       "      <th>0</th>\n",
       "      <td>7</td>\n",
       "      <td>7</td>\n",
       "    </tr>\n",
       "    <tr>\n",
       "      <th>1</th>\n",
       "      <td>6 + 1</td>\n",
       "      <td>6</td>\n",
       "    </tr>\n",
       "    <tr>\n",
       "      <th>2</th>\n",
       "      <td>5 + 2</td>\n",
       "      <td>10</td>\n",
       "    </tr>\n",
       "    <tr>\n",
       "      <th>3</th>\n",
       "      <td>5 + 1 + 1</td>\n",
       "      <td>5</td>\n",
       "    </tr>\n",
       "    <tr>\n",
       "      <th>4</th>\n",
       "      <td>4 + 3</td>\n",
       "      <td>12</td>\n",
       "    </tr>\n",
       "    <tr>\n",
       "      <th>5</th>\n",
       "      <td>4 + 2 + 1</td>\n",
       "      <td>4</td>\n",
       "    </tr>\n",
       "    <tr>\n",
       "      <th>6</th>\n",
       "      <td>4 + 1 + 1 + 1</td>\n",
       "      <td>4</td>\n",
       "    </tr>\n",
       "    <tr>\n",
       "      <th>7</th>\n",
       "      <td>3 + 3 + 1</td>\n",
       "      <td>3</td>\n",
       "    </tr>\n",
       "    <tr>\n",
       "      <th>8</th>\n",
       "      <td>3 + 2 + 2</td>\n",
       "      <td>6</td>\n",
       "    </tr>\n",
       "    <tr>\n",
       "      <th>9</th>\n",
       "      <td>3 + 2 + 1 + 1</td>\n",
       "      <td>6</td>\n",
       "    </tr>\n",
       "    <tr>\n",
       "      <th>10</th>\n",
       "      <td>3 + 1 + 1 + 1 + 1</td>\n",
       "      <td>3</td>\n",
       "    </tr>\n",
       "    <tr>\n",
       "      <th>11</th>\n",
       "      <td>2 + 2 + 2 + 1</td>\n",
       "      <td>2</td>\n",
       "    </tr>\n",
       "    <tr>\n",
       "      <th>12</th>\n",
       "      <td>2 + 2 + 1 + 1 + 1</td>\n",
       "      <td>2</td>\n",
       "    </tr>\n",
       "    <tr>\n",
       "      <th>13</th>\n",
       "      <td>2 + 1 + 1 + 1 + 1 + 1</td>\n",
       "      <td>2</td>\n",
       "    </tr>\n",
       "    <tr>\n",
       "      <th>14</th>\n",
       "      <td>1 + 1 + 1 + 1 + 1 + 1 + 1</td>\n",
       "      <td>1</td>\n",
       "    </tr>\n",
       "  </tbody>\n",
       "</table>\n",
       "</div>"
      ],
      "text/plain": [
       "               partition of 7  ord\n",
       "0                           7    7\n",
       "1                       6 + 1    6\n",
       "2                       5 + 2   10\n",
       "3                   5 + 1 + 1    5\n",
       "4                       4 + 3   12\n",
       "5                   4 + 2 + 1    4\n",
       "6               4 + 1 + 1 + 1    4\n",
       "7                   3 + 3 + 1    3\n",
       "8                   3 + 2 + 2    6\n",
       "9               3 + 2 + 1 + 1    6\n",
       "10          3 + 1 + 1 + 1 + 1    3\n",
       "11              2 + 2 + 2 + 1    2\n",
       "12          2 + 2 + 1 + 1 + 1    2\n",
       "13      2 + 1 + 1 + 1 + 1 + 1    2\n",
       "14  1 + 1 + 1 + 1 + 1 + 1 + 1    1"
      ]
     },
     "execution_count": 18,
     "metadata": {},
     "output_type": "execute_result"
    }
   ],
   "source": [
    "df = Sig.max_ord_S_n(n=7,data = True)\n",
    "df"
   ]
  },
  {
   "cell_type": "code",
   "execution_count": 19,
   "id": "89c36ed8",
   "metadata": {},
   "outputs": [
    {
     "data": {
      "text/html": [
       "<style  type=\"text/css\" >\n",
       "#T_4d829_row0_col1,#T_4d829_row5_col1{\n",
       "            background-color:  lightcoral;\n",
       "        }</style><table id=\"T_4d829_\" ><thead>    <tr>        <th class=\"blank level0\" ></th>        <th class=\"col_heading level0 col0\" >partition of 6</th>        <th class=\"col_heading level0 col1\" >ord</th>    </tr></thead><tbody>\n",
       "                <tr>\n",
       "                        <th id=\"T_4d829_level0_row0\" class=\"row_heading level0 row0\" >0</th>\n",
       "                        <td id=\"T_4d829_row0_col0\" class=\"data row0 col0\" >6</td>\n",
       "                        <td id=\"T_4d829_row0_col1\" class=\"data row0 col1\" >6</td>\n",
       "            </tr>\n",
       "            <tr>\n",
       "                        <th id=\"T_4d829_level0_row1\" class=\"row_heading level0 row1\" >1</th>\n",
       "                        <td id=\"T_4d829_row1_col0\" class=\"data row1 col0\" >5 + 1</td>\n",
       "                        <td id=\"T_4d829_row1_col1\" class=\"data row1 col1\" >5</td>\n",
       "            </tr>\n",
       "            <tr>\n",
       "                        <th id=\"T_4d829_level0_row2\" class=\"row_heading level0 row2\" >2</th>\n",
       "                        <td id=\"T_4d829_row2_col0\" class=\"data row2 col0\" >4 + 2</td>\n",
       "                        <td id=\"T_4d829_row2_col1\" class=\"data row2 col1\" >4</td>\n",
       "            </tr>\n",
       "            <tr>\n",
       "                        <th id=\"T_4d829_level0_row3\" class=\"row_heading level0 row3\" >3</th>\n",
       "                        <td id=\"T_4d829_row3_col0\" class=\"data row3 col0\" >4 + 1 + 1</td>\n",
       "                        <td id=\"T_4d829_row3_col1\" class=\"data row3 col1\" >4</td>\n",
       "            </tr>\n",
       "            <tr>\n",
       "                        <th id=\"T_4d829_level0_row4\" class=\"row_heading level0 row4\" >4</th>\n",
       "                        <td id=\"T_4d829_row4_col0\" class=\"data row4 col0\" >3 + 3</td>\n",
       "                        <td id=\"T_4d829_row4_col1\" class=\"data row4 col1\" >3</td>\n",
       "            </tr>\n",
       "            <tr>\n",
       "                        <th id=\"T_4d829_level0_row5\" class=\"row_heading level0 row5\" >5</th>\n",
       "                        <td id=\"T_4d829_row5_col0\" class=\"data row5 col0\" >3 + 2 + 1</td>\n",
       "                        <td id=\"T_4d829_row5_col1\" class=\"data row5 col1\" >6</td>\n",
       "            </tr>\n",
       "            <tr>\n",
       "                        <th id=\"T_4d829_level0_row6\" class=\"row_heading level0 row6\" >6</th>\n",
       "                        <td id=\"T_4d829_row6_col0\" class=\"data row6 col0\" >3 + 1 + 1 + 1</td>\n",
       "                        <td id=\"T_4d829_row6_col1\" class=\"data row6 col1\" >3</td>\n",
       "            </tr>\n",
       "            <tr>\n",
       "                        <th id=\"T_4d829_level0_row7\" class=\"row_heading level0 row7\" >7</th>\n",
       "                        <td id=\"T_4d829_row7_col0\" class=\"data row7 col0\" >2 + 2 + 2</td>\n",
       "                        <td id=\"T_4d829_row7_col1\" class=\"data row7 col1\" >2</td>\n",
       "            </tr>\n",
       "            <tr>\n",
       "                        <th id=\"T_4d829_level0_row8\" class=\"row_heading level0 row8\" >8</th>\n",
       "                        <td id=\"T_4d829_row8_col0\" class=\"data row8 col0\" >2 + 2 + 1 + 1</td>\n",
       "                        <td id=\"T_4d829_row8_col1\" class=\"data row8 col1\" >2</td>\n",
       "            </tr>\n",
       "            <tr>\n",
       "                        <th id=\"T_4d829_level0_row9\" class=\"row_heading level0 row9\" >9</th>\n",
       "                        <td id=\"T_4d829_row9_col0\" class=\"data row9 col0\" >2 + 1 + 1 + 1 + 1</td>\n",
       "                        <td id=\"T_4d829_row9_col1\" class=\"data row9 col1\" >2</td>\n",
       "            </tr>\n",
       "            <tr>\n",
       "                        <th id=\"T_4d829_level0_row10\" class=\"row_heading level0 row10\" >10</th>\n",
       "                        <td id=\"T_4d829_row10_col0\" class=\"data row10 col0\" >1 + 1 + 1 + 1 + 1 + 1</td>\n",
       "                        <td id=\"T_4d829_row10_col1\" class=\"data row10 col1\" >1</td>\n",
       "            </tr>\n",
       "    </tbody></table>"
      ],
      "text/plain": [
       "<pandas.io.formats.style.Styler at 0x2438d4e06a0>"
      ]
     },
     "execution_count": 19,
     "metadata": {},
     "output_type": "execute_result"
    }
   ],
   "source": [
    "Sig.max_ord_S_n_col(6) #max highlighted"
   ]
  },
  {
   "cell_type": "code",
   "execution_count": 20,
   "id": "4e1df59a",
   "metadata": {},
   "outputs": [
    {
     "data": {
      "text/plain": [
       "140"
      ]
     },
     "execution_count": 20,
     "metadata": {},
     "output_type": "execute_result"
    }
   ],
   "source": [
    "Sig.max_ord_S_n(n=16)"
   ]
  },
  {
   "cell_type": "code",
   "execution_count": 21,
   "id": "fcdd793b",
   "metadata": {},
   "outputs": [
    {
     "data": {
      "text/html": [
       "<div>\n",
       "<style scoped>\n",
       "    .dataframe tbody tr th:only-of-type {\n",
       "        vertical-align: middle;\n",
       "    }\n",
       "\n",
       "    .dataframe tbody tr th {\n",
       "        vertical-align: top;\n",
       "    }\n",
       "\n",
       "    .dataframe thead th {\n",
       "        text-align: right;\n",
       "    }\n",
       "</style>\n",
       "<table border=\"1\" class=\"dataframe\">\n",
       "  <thead>\n",
       "    <tr style=\"text-align: right;\">\n",
       "      <th></th>\n",
       "      <th>partition of 16</th>\n",
       "      <th>ord</th>\n",
       "    </tr>\n",
       "  </thead>\n",
       "  <tbody>\n",
       "    <tr>\n",
       "      <th>0</th>\n",
       "      <td>16</td>\n",
       "      <td>16</td>\n",
       "    </tr>\n",
       "    <tr>\n",
       "      <th>1</th>\n",
       "      <td>15 + 1</td>\n",
       "      <td>15</td>\n",
       "    </tr>\n",
       "    <tr>\n",
       "      <th>2</th>\n",
       "      <td>14 + 2</td>\n",
       "      <td>14</td>\n",
       "    </tr>\n",
       "    <tr>\n",
       "      <th>3</th>\n",
       "      <td>14 + 1 + 1</td>\n",
       "      <td>14</td>\n",
       "    </tr>\n",
       "    <tr>\n",
       "      <th>4</th>\n",
       "      <td>13 + 3</td>\n",
       "      <td>39</td>\n",
       "    </tr>\n",
       "    <tr>\n",
       "      <th>...</th>\n",
       "      <td>...</td>\n",
       "      <td>...</td>\n",
       "    </tr>\n",
       "    <tr>\n",
       "      <th>226</th>\n",
       "      <td>2 + 2 + 2 + 2 + 1 + 1 + 1 + 1 + 1 + 1 + 1 + 1</td>\n",
       "      <td>2</td>\n",
       "    </tr>\n",
       "    <tr>\n",
       "      <th>227</th>\n",
       "      <td>2 + 2 + 2 + 1 + 1 + 1 + 1 + 1 + 1 + 1 + 1 + 1 + 1</td>\n",
       "      <td>2</td>\n",
       "    </tr>\n",
       "    <tr>\n",
       "      <th>228</th>\n",
       "      <td>2 + 2 + 1 + 1 + 1 + 1 + 1 + 1 + 1 + 1 + 1 + 1 ...</td>\n",
       "      <td>2</td>\n",
       "    </tr>\n",
       "    <tr>\n",
       "      <th>229</th>\n",
       "      <td>2 + 1 + 1 + 1 + 1 + 1 + 1 + 1 + 1 + 1 + 1 + 1 ...</td>\n",
       "      <td>2</td>\n",
       "    </tr>\n",
       "    <tr>\n",
       "      <th>230</th>\n",
       "      <td>1 + 1 + 1 + 1 + 1 + 1 + 1 + 1 + 1 + 1 + 1 + 1 ...</td>\n",
       "      <td>1</td>\n",
       "    </tr>\n",
       "  </tbody>\n",
       "</table>\n",
       "<p>231 rows × 2 columns</p>\n",
       "</div>"
      ],
      "text/plain": [
       "                                       partition of 16  ord\n",
       "0                                                   16   16\n",
       "1                                               15 + 1   15\n",
       "2                                               14 + 2   14\n",
       "3                                           14 + 1 + 1   14\n",
       "4                                               13 + 3   39\n",
       "..                                                 ...  ...\n",
       "226      2 + 2 + 2 + 2 + 1 + 1 + 1 + 1 + 1 + 1 + 1 + 1    2\n",
       "227  2 + 2 + 2 + 1 + 1 + 1 + 1 + 1 + 1 + 1 + 1 + 1 + 1    2\n",
       "228  2 + 2 + 1 + 1 + 1 + 1 + 1 + 1 + 1 + 1 + 1 + 1 ...    2\n",
       "229  2 + 1 + 1 + 1 + 1 + 1 + 1 + 1 + 1 + 1 + 1 + 1 ...    2\n",
       "230  1 + 1 + 1 + 1 + 1 + 1 + 1 + 1 + 1 + 1 + 1 + 1 ...    1\n",
       "\n",
       "[231 rows x 2 columns]"
      ]
     },
     "execution_count": 21,
     "metadata": {},
     "output_type": "execute_result"
    }
   ],
   "source": [
    "Sig.max_ord_S_n(n=16,data='df')"
   ]
  },
  {
   "cell_type": "code",
   "execution_count": 22,
   "id": "6f8c604c",
   "metadata": {},
   "outputs": [
    {
     "data": {
      "text/html": [
       "<style  type=\"text/css\" >\n",
       "#T_f36f0_row12_col1,#T_f36f0_row23_col1{\n",
       "            background-color:  lightcoral;\n",
       "        }</style><table id=\"T_f36f0_\" ><thead>    <tr>        <th class=\"blank level0\" ></th>        <th class=\"col_heading level0 col0\" >partition of 11</th>        <th class=\"col_heading level0 col1\" >ord</th>    </tr></thead><tbody>\n",
       "                <tr>\n",
       "                        <th id=\"T_f36f0_level0_row0\" class=\"row_heading level0 row0\" >0</th>\n",
       "                        <td id=\"T_f36f0_row0_col0\" class=\"data row0 col0\" >11</td>\n",
       "                        <td id=\"T_f36f0_row0_col1\" class=\"data row0 col1\" >11</td>\n",
       "            </tr>\n",
       "            <tr>\n",
       "                        <th id=\"T_f36f0_level0_row1\" class=\"row_heading level0 row1\" >1</th>\n",
       "                        <td id=\"T_f36f0_row1_col0\" class=\"data row1 col0\" >10 + 1</td>\n",
       "                        <td id=\"T_f36f0_row1_col1\" class=\"data row1 col1\" >10</td>\n",
       "            </tr>\n",
       "            <tr>\n",
       "                        <th id=\"T_f36f0_level0_row2\" class=\"row_heading level0 row2\" >2</th>\n",
       "                        <td id=\"T_f36f0_row2_col0\" class=\"data row2 col0\" >9 + 2</td>\n",
       "                        <td id=\"T_f36f0_row2_col1\" class=\"data row2 col1\" >18</td>\n",
       "            </tr>\n",
       "            <tr>\n",
       "                        <th id=\"T_f36f0_level0_row3\" class=\"row_heading level0 row3\" >3</th>\n",
       "                        <td id=\"T_f36f0_row3_col0\" class=\"data row3 col0\" >9 + 1 + 1</td>\n",
       "                        <td id=\"T_f36f0_row3_col1\" class=\"data row3 col1\" >9</td>\n",
       "            </tr>\n",
       "            <tr>\n",
       "                        <th id=\"T_f36f0_level0_row4\" class=\"row_heading level0 row4\" >4</th>\n",
       "                        <td id=\"T_f36f0_row4_col0\" class=\"data row4 col0\" >8 + 3</td>\n",
       "                        <td id=\"T_f36f0_row4_col1\" class=\"data row4 col1\" >24</td>\n",
       "            </tr>\n",
       "            <tr>\n",
       "                        <th id=\"T_f36f0_level0_row5\" class=\"row_heading level0 row5\" >5</th>\n",
       "                        <td id=\"T_f36f0_row5_col0\" class=\"data row5 col0\" >8 + 2 + 1</td>\n",
       "                        <td id=\"T_f36f0_row5_col1\" class=\"data row5 col1\" >8</td>\n",
       "            </tr>\n",
       "            <tr>\n",
       "                        <th id=\"T_f36f0_level0_row6\" class=\"row_heading level0 row6\" >6</th>\n",
       "                        <td id=\"T_f36f0_row6_col0\" class=\"data row6 col0\" >8 + 1 + 1 + 1</td>\n",
       "                        <td id=\"T_f36f0_row6_col1\" class=\"data row6 col1\" >8</td>\n",
       "            </tr>\n",
       "            <tr>\n",
       "                        <th id=\"T_f36f0_level0_row7\" class=\"row_heading level0 row7\" >7</th>\n",
       "                        <td id=\"T_f36f0_row7_col0\" class=\"data row7 col0\" >7 + 4</td>\n",
       "                        <td id=\"T_f36f0_row7_col1\" class=\"data row7 col1\" >28</td>\n",
       "            </tr>\n",
       "            <tr>\n",
       "                        <th id=\"T_f36f0_level0_row8\" class=\"row_heading level0 row8\" >8</th>\n",
       "                        <td id=\"T_f36f0_row8_col0\" class=\"data row8 col0\" >7 + 3 + 1</td>\n",
       "                        <td id=\"T_f36f0_row8_col1\" class=\"data row8 col1\" >21</td>\n",
       "            </tr>\n",
       "            <tr>\n",
       "                        <th id=\"T_f36f0_level0_row9\" class=\"row_heading level0 row9\" >9</th>\n",
       "                        <td id=\"T_f36f0_row9_col0\" class=\"data row9 col0\" >7 + 2 + 2</td>\n",
       "                        <td id=\"T_f36f0_row9_col1\" class=\"data row9 col1\" >14</td>\n",
       "            </tr>\n",
       "            <tr>\n",
       "                        <th id=\"T_f36f0_level0_row10\" class=\"row_heading level0 row10\" >10</th>\n",
       "                        <td id=\"T_f36f0_row10_col0\" class=\"data row10 col0\" >7 + 2 + 1 + 1</td>\n",
       "                        <td id=\"T_f36f0_row10_col1\" class=\"data row10 col1\" >14</td>\n",
       "            </tr>\n",
       "            <tr>\n",
       "                        <th id=\"T_f36f0_level0_row11\" class=\"row_heading level0 row11\" >11</th>\n",
       "                        <td id=\"T_f36f0_row11_col0\" class=\"data row11 col0\" >7 + 1 + 1 + 1 + 1</td>\n",
       "                        <td id=\"T_f36f0_row11_col1\" class=\"data row11 col1\" >7</td>\n",
       "            </tr>\n",
       "            <tr>\n",
       "                        <th id=\"T_f36f0_level0_row12\" class=\"row_heading level0 row12\" >12</th>\n",
       "                        <td id=\"T_f36f0_row12_col0\" class=\"data row12 col0\" >6 + 5</td>\n",
       "                        <td id=\"T_f36f0_row12_col1\" class=\"data row12 col1\" >30</td>\n",
       "            </tr>\n",
       "            <tr>\n",
       "                        <th id=\"T_f36f0_level0_row13\" class=\"row_heading level0 row13\" >13</th>\n",
       "                        <td id=\"T_f36f0_row13_col0\" class=\"data row13 col0\" >6 + 4 + 1</td>\n",
       "                        <td id=\"T_f36f0_row13_col1\" class=\"data row13 col1\" >12</td>\n",
       "            </tr>\n",
       "            <tr>\n",
       "                        <th id=\"T_f36f0_level0_row14\" class=\"row_heading level0 row14\" >14</th>\n",
       "                        <td id=\"T_f36f0_row14_col0\" class=\"data row14 col0\" >6 + 3 + 2</td>\n",
       "                        <td id=\"T_f36f0_row14_col1\" class=\"data row14 col1\" >6</td>\n",
       "            </tr>\n",
       "            <tr>\n",
       "                        <th id=\"T_f36f0_level0_row15\" class=\"row_heading level0 row15\" >15</th>\n",
       "                        <td id=\"T_f36f0_row15_col0\" class=\"data row15 col0\" >6 + 3 + 1 + 1</td>\n",
       "                        <td id=\"T_f36f0_row15_col1\" class=\"data row15 col1\" >6</td>\n",
       "            </tr>\n",
       "            <tr>\n",
       "                        <th id=\"T_f36f0_level0_row16\" class=\"row_heading level0 row16\" >16</th>\n",
       "                        <td id=\"T_f36f0_row16_col0\" class=\"data row16 col0\" >6 + 2 + 2 + 1</td>\n",
       "                        <td id=\"T_f36f0_row16_col1\" class=\"data row16 col1\" >6</td>\n",
       "            </tr>\n",
       "            <tr>\n",
       "                        <th id=\"T_f36f0_level0_row17\" class=\"row_heading level0 row17\" >17</th>\n",
       "                        <td id=\"T_f36f0_row17_col0\" class=\"data row17 col0\" >6 + 2 + 1 + 1 + 1</td>\n",
       "                        <td id=\"T_f36f0_row17_col1\" class=\"data row17 col1\" >6</td>\n",
       "            </tr>\n",
       "            <tr>\n",
       "                        <th id=\"T_f36f0_level0_row18\" class=\"row_heading level0 row18\" >18</th>\n",
       "                        <td id=\"T_f36f0_row18_col0\" class=\"data row18 col0\" >6 + 1 + 1 + 1 + 1 + 1</td>\n",
       "                        <td id=\"T_f36f0_row18_col1\" class=\"data row18 col1\" >6</td>\n",
       "            </tr>\n",
       "            <tr>\n",
       "                        <th id=\"T_f36f0_level0_row19\" class=\"row_heading level0 row19\" >19</th>\n",
       "                        <td id=\"T_f36f0_row19_col0\" class=\"data row19 col0\" >5 + 5 + 1</td>\n",
       "                        <td id=\"T_f36f0_row19_col1\" class=\"data row19 col1\" >5</td>\n",
       "            </tr>\n",
       "            <tr>\n",
       "                        <th id=\"T_f36f0_level0_row20\" class=\"row_heading level0 row20\" >20</th>\n",
       "                        <td id=\"T_f36f0_row20_col0\" class=\"data row20 col0\" >5 + 4 + 2</td>\n",
       "                        <td id=\"T_f36f0_row20_col1\" class=\"data row20 col1\" >20</td>\n",
       "            </tr>\n",
       "            <tr>\n",
       "                        <th id=\"T_f36f0_level0_row21\" class=\"row_heading level0 row21\" >21</th>\n",
       "                        <td id=\"T_f36f0_row21_col0\" class=\"data row21 col0\" >5 + 4 + 1 + 1</td>\n",
       "                        <td id=\"T_f36f0_row21_col1\" class=\"data row21 col1\" >20</td>\n",
       "            </tr>\n",
       "            <tr>\n",
       "                        <th id=\"T_f36f0_level0_row22\" class=\"row_heading level0 row22\" >22</th>\n",
       "                        <td id=\"T_f36f0_row22_col0\" class=\"data row22 col0\" >5 + 3 + 3</td>\n",
       "                        <td id=\"T_f36f0_row22_col1\" class=\"data row22 col1\" >15</td>\n",
       "            </tr>\n",
       "            <tr>\n",
       "                        <th id=\"T_f36f0_level0_row23\" class=\"row_heading level0 row23\" >23</th>\n",
       "                        <td id=\"T_f36f0_row23_col0\" class=\"data row23 col0\" >5 + 3 + 2 + 1</td>\n",
       "                        <td id=\"T_f36f0_row23_col1\" class=\"data row23 col1\" >30</td>\n",
       "            </tr>\n",
       "            <tr>\n",
       "                        <th id=\"T_f36f0_level0_row24\" class=\"row_heading level0 row24\" >24</th>\n",
       "                        <td id=\"T_f36f0_row24_col0\" class=\"data row24 col0\" >5 + 3 + 1 + 1 + 1</td>\n",
       "                        <td id=\"T_f36f0_row24_col1\" class=\"data row24 col1\" >15</td>\n",
       "            </tr>\n",
       "            <tr>\n",
       "                        <th id=\"T_f36f0_level0_row25\" class=\"row_heading level0 row25\" >25</th>\n",
       "                        <td id=\"T_f36f0_row25_col0\" class=\"data row25 col0\" >5 + 2 + 2 + 2</td>\n",
       "                        <td id=\"T_f36f0_row25_col1\" class=\"data row25 col1\" >10</td>\n",
       "            </tr>\n",
       "            <tr>\n",
       "                        <th id=\"T_f36f0_level0_row26\" class=\"row_heading level0 row26\" >26</th>\n",
       "                        <td id=\"T_f36f0_row26_col0\" class=\"data row26 col0\" >5 + 2 + 2 + 1 + 1</td>\n",
       "                        <td id=\"T_f36f0_row26_col1\" class=\"data row26 col1\" >10</td>\n",
       "            </tr>\n",
       "            <tr>\n",
       "                        <th id=\"T_f36f0_level0_row27\" class=\"row_heading level0 row27\" >27</th>\n",
       "                        <td id=\"T_f36f0_row27_col0\" class=\"data row27 col0\" >5 + 2 + 1 + 1 + 1 + 1</td>\n",
       "                        <td id=\"T_f36f0_row27_col1\" class=\"data row27 col1\" >10</td>\n",
       "            </tr>\n",
       "            <tr>\n",
       "                        <th id=\"T_f36f0_level0_row28\" class=\"row_heading level0 row28\" >28</th>\n",
       "                        <td id=\"T_f36f0_row28_col0\" class=\"data row28 col0\" >5 + 1 + 1 + 1 + 1 + 1 + 1</td>\n",
       "                        <td id=\"T_f36f0_row28_col1\" class=\"data row28 col1\" >5</td>\n",
       "            </tr>\n",
       "            <tr>\n",
       "                        <th id=\"T_f36f0_level0_row29\" class=\"row_heading level0 row29\" >29</th>\n",
       "                        <td id=\"T_f36f0_row29_col0\" class=\"data row29 col0\" >4 + 4 + 3</td>\n",
       "                        <td id=\"T_f36f0_row29_col1\" class=\"data row29 col1\" >12</td>\n",
       "            </tr>\n",
       "            <tr>\n",
       "                        <th id=\"T_f36f0_level0_row30\" class=\"row_heading level0 row30\" >30</th>\n",
       "                        <td id=\"T_f36f0_row30_col0\" class=\"data row30 col0\" >4 + 4 + 2 + 1</td>\n",
       "                        <td id=\"T_f36f0_row30_col1\" class=\"data row30 col1\" >4</td>\n",
       "            </tr>\n",
       "            <tr>\n",
       "                        <th id=\"T_f36f0_level0_row31\" class=\"row_heading level0 row31\" >31</th>\n",
       "                        <td id=\"T_f36f0_row31_col0\" class=\"data row31 col0\" >4 + 4 + 1 + 1 + 1</td>\n",
       "                        <td id=\"T_f36f0_row31_col1\" class=\"data row31 col1\" >4</td>\n",
       "            </tr>\n",
       "            <tr>\n",
       "                        <th id=\"T_f36f0_level0_row32\" class=\"row_heading level0 row32\" >32</th>\n",
       "                        <td id=\"T_f36f0_row32_col0\" class=\"data row32 col0\" >4 + 3 + 3 + 1</td>\n",
       "                        <td id=\"T_f36f0_row32_col1\" class=\"data row32 col1\" >12</td>\n",
       "            </tr>\n",
       "            <tr>\n",
       "                        <th id=\"T_f36f0_level0_row33\" class=\"row_heading level0 row33\" >33</th>\n",
       "                        <td id=\"T_f36f0_row33_col0\" class=\"data row33 col0\" >4 + 3 + 2 + 2</td>\n",
       "                        <td id=\"T_f36f0_row33_col1\" class=\"data row33 col1\" >12</td>\n",
       "            </tr>\n",
       "            <tr>\n",
       "                        <th id=\"T_f36f0_level0_row34\" class=\"row_heading level0 row34\" >34</th>\n",
       "                        <td id=\"T_f36f0_row34_col0\" class=\"data row34 col0\" >4 + 3 + 2 + 1 + 1</td>\n",
       "                        <td id=\"T_f36f0_row34_col1\" class=\"data row34 col1\" >12</td>\n",
       "            </tr>\n",
       "            <tr>\n",
       "                        <th id=\"T_f36f0_level0_row35\" class=\"row_heading level0 row35\" >35</th>\n",
       "                        <td id=\"T_f36f0_row35_col0\" class=\"data row35 col0\" >4 + 3 + 1 + 1 + 1 + 1</td>\n",
       "                        <td id=\"T_f36f0_row35_col1\" class=\"data row35 col1\" >12</td>\n",
       "            </tr>\n",
       "            <tr>\n",
       "                        <th id=\"T_f36f0_level0_row36\" class=\"row_heading level0 row36\" >36</th>\n",
       "                        <td id=\"T_f36f0_row36_col0\" class=\"data row36 col0\" >4 + 2 + 2 + 2 + 1</td>\n",
       "                        <td id=\"T_f36f0_row36_col1\" class=\"data row36 col1\" >4</td>\n",
       "            </tr>\n",
       "            <tr>\n",
       "                        <th id=\"T_f36f0_level0_row37\" class=\"row_heading level0 row37\" >37</th>\n",
       "                        <td id=\"T_f36f0_row37_col0\" class=\"data row37 col0\" >4 + 2 + 2 + 1 + 1 + 1</td>\n",
       "                        <td id=\"T_f36f0_row37_col1\" class=\"data row37 col1\" >4</td>\n",
       "            </tr>\n",
       "            <tr>\n",
       "                        <th id=\"T_f36f0_level0_row38\" class=\"row_heading level0 row38\" >38</th>\n",
       "                        <td id=\"T_f36f0_row38_col0\" class=\"data row38 col0\" >4 + 2 + 1 + 1 + 1 + 1 + 1</td>\n",
       "                        <td id=\"T_f36f0_row38_col1\" class=\"data row38 col1\" >4</td>\n",
       "            </tr>\n",
       "            <tr>\n",
       "                        <th id=\"T_f36f0_level0_row39\" class=\"row_heading level0 row39\" >39</th>\n",
       "                        <td id=\"T_f36f0_row39_col0\" class=\"data row39 col0\" >4 + 1 + 1 + 1 + 1 + 1 + 1 + 1</td>\n",
       "                        <td id=\"T_f36f0_row39_col1\" class=\"data row39 col1\" >4</td>\n",
       "            </tr>\n",
       "            <tr>\n",
       "                        <th id=\"T_f36f0_level0_row40\" class=\"row_heading level0 row40\" >40</th>\n",
       "                        <td id=\"T_f36f0_row40_col0\" class=\"data row40 col0\" >3 + 3 + 3 + 2</td>\n",
       "                        <td id=\"T_f36f0_row40_col1\" class=\"data row40 col1\" >6</td>\n",
       "            </tr>\n",
       "            <tr>\n",
       "                        <th id=\"T_f36f0_level0_row41\" class=\"row_heading level0 row41\" >41</th>\n",
       "                        <td id=\"T_f36f0_row41_col0\" class=\"data row41 col0\" >3 + 3 + 3 + 1 + 1</td>\n",
       "                        <td id=\"T_f36f0_row41_col1\" class=\"data row41 col1\" >3</td>\n",
       "            </tr>\n",
       "            <tr>\n",
       "                        <th id=\"T_f36f0_level0_row42\" class=\"row_heading level0 row42\" >42</th>\n",
       "                        <td id=\"T_f36f0_row42_col0\" class=\"data row42 col0\" >3 + 3 + 2 + 2 + 1</td>\n",
       "                        <td id=\"T_f36f0_row42_col1\" class=\"data row42 col1\" >6</td>\n",
       "            </tr>\n",
       "            <tr>\n",
       "                        <th id=\"T_f36f0_level0_row43\" class=\"row_heading level0 row43\" >43</th>\n",
       "                        <td id=\"T_f36f0_row43_col0\" class=\"data row43 col0\" >3 + 3 + 2 + 1 + 1 + 1</td>\n",
       "                        <td id=\"T_f36f0_row43_col1\" class=\"data row43 col1\" >6</td>\n",
       "            </tr>\n",
       "            <tr>\n",
       "                        <th id=\"T_f36f0_level0_row44\" class=\"row_heading level0 row44\" >44</th>\n",
       "                        <td id=\"T_f36f0_row44_col0\" class=\"data row44 col0\" >3 + 3 + 1 + 1 + 1 + 1 + 1</td>\n",
       "                        <td id=\"T_f36f0_row44_col1\" class=\"data row44 col1\" >3</td>\n",
       "            </tr>\n",
       "            <tr>\n",
       "                        <th id=\"T_f36f0_level0_row45\" class=\"row_heading level0 row45\" >45</th>\n",
       "                        <td id=\"T_f36f0_row45_col0\" class=\"data row45 col0\" >3 + 2 + 2 + 2 + 2</td>\n",
       "                        <td id=\"T_f36f0_row45_col1\" class=\"data row45 col1\" >6</td>\n",
       "            </tr>\n",
       "            <tr>\n",
       "                        <th id=\"T_f36f0_level0_row46\" class=\"row_heading level0 row46\" >46</th>\n",
       "                        <td id=\"T_f36f0_row46_col0\" class=\"data row46 col0\" >3 + 2 + 2 + 2 + 1 + 1</td>\n",
       "                        <td id=\"T_f36f0_row46_col1\" class=\"data row46 col1\" >6</td>\n",
       "            </tr>\n",
       "            <tr>\n",
       "                        <th id=\"T_f36f0_level0_row47\" class=\"row_heading level0 row47\" >47</th>\n",
       "                        <td id=\"T_f36f0_row47_col0\" class=\"data row47 col0\" >3 + 2 + 2 + 1 + 1 + 1 + 1</td>\n",
       "                        <td id=\"T_f36f0_row47_col1\" class=\"data row47 col1\" >6</td>\n",
       "            </tr>\n",
       "            <tr>\n",
       "                        <th id=\"T_f36f0_level0_row48\" class=\"row_heading level0 row48\" >48</th>\n",
       "                        <td id=\"T_f36f0_row48_col0\" class=\"data row48 col0\" >3 + 2 + 1 + 1 + 1 + 1 + 1 + 1</td>\n",
       "                        <td id=\"T_f36f0_row48_col1\" class=\"data row48 col1\" >6</td>\n",
       "            </tr>\n",
       "            <tr>\n",
       "                        <th id=\"T_f36f0_level0_row49\" class=\"row_heading level0 row49\" >49</th>\n",
       "                        <td id=\"T_f36f0_row49_col0\" class=\"data row49 col0\" >3 + 1 + 1 + 1 + 1 + 1 + 1 + 1 + 1</td>\n",
       "                        <td id=\"T_f36f0_row49_col1\" class=\"data row49 col1\" >3</td>\n",
       "            </tr>\n",
       "            <tr>\n",
       "                        <th id=\"T_f36f0_level0_row50\" class=\"row_heading level0 row50\" >50</th>\n",
       "                        <td id=\"T_f36f0_row50_col0\" class=\"data row50 col0\" >2 + 2 + 2 + 2 + 2 + 1</td>\n",
       "                        <td id=\"T_f36f0_row50_col1\" class=\"data row50 col1\" >2</td>\n",
       "            </tr>\n",
       "            <tr>\n",
       "                        <th id=\"T_f36f0_level0_row51\" class=\"row_heading level0 row51\" >51</th>\n",
       "                        <td id=\"T_f36f0_row51_col0\" class=\"data row51 col0\" >2 + 2 + 2 + 2 + 1 + 1 + 1</td>\n",
       "                        <td id=\"T_f36f0_row51_col1\" class=\"data row51 col1\" >2</td>\n",
       "            </tr>\n",
       "            <tr>\n",
       "                        <th id=\"T_f36f0_level0_row52\" class=\"row_heading level0 row52\" >52</th>\n",
       "                        <td id=\"T_f36f0_row52_col0\" class=\"data row52 col0\" >2 + 2 + 2 + 1 + 1 + 1 + 1 + 1</td>\n",
       "                        <td id=\"T_f36f0_row52_col1\" class=\"data row52 col1\" >2</td>\n",
       "            </tr>\n",
       "            <tr>\n",
       "                        <th id=\"T_f36f0_level0_row53\" class=\"row_heading level0 row53\" >53</th>\n",
       "                        <td id=\"T_f36f0_row53_col0\" class=\"data row53 col0\" >2 + 2 + 1 + 1 + 1 + 1 + 1 + 1 + 1</td>\n",
       "                        <td id=\"T_f36f0_row53_col1\" class=\"data row53 col1\" >2</td>\n",
       "            </tr>\n",
       "            <tr>\n",
       "                        <th id=\"T_f36f0_level0_row54\" class=\"row_heading level0 row54\" >54</th>\n",
       "                        <td id=\"T_f36f0_row54_col0\" class=\"data row54 col0\" >2 + 1 + 1 + 1 + 1 + 1 + 1 + 1 + 1 + 1</td>\n",
       "                        <td id=\"T_f36f0_row54_col1\" class=\"data row54 col1\" >2</td>\n",
       "            </tr>\n",
       "            <tr>\n",
       "                        <th id=\"T_f36f0_level0_row55\" class=\"row_heading level0 row55\" >55</th>\n",
       "                        <td id=\"T_f36f0_row55_col0\" class=\"data row55 col0\" >1 + 1 + 1 + 1 + 1 + 1 + 1 + 1 + 1 + 1 + 1</td>\n",
       "                        <td id=\"T_f36f0_row55_col1\" class=\"data row55 col1\" >1</td>\n",
       "            </tr>\n",
       "    </tbody></table>"
      ],
      "text/plain": [
       "<pandas.io.formats.style.Styler at 0x2439186a3a0>"
      ]
     },
     "execution_count": 22,
     "metadata": {},
     "output_type": "execute_result"
    }
   ],
   "source": [
    "Sig.max_ord_S_n_col(n=11)"
   ]
  },
  {
   "cell_type": "code",
   "execution_count": 23,
   "id": "3c94f0d7",
   "metadata": {},
   "outputs": [
    {
     "data": {
      "text/plain": [
       "420"
      ]
     },
     "execution_count": 23,
     "metadata": {},
     "output_type": "execute_result"
    }
   ],
   "source": [
    "Sig.max_ord_S_n(n=22)"
   ]
  },
  {
   "cell_type": "code",
   "execution_count": 24,
   "id": "ebc788e8",
   "metadata": {},
   "outputs": [
    {
     "data": {
      "text/html": [
       "<div>\n",
       "<style scoped>\n",
       "    .dataframe tbody tr th:only-of-type {\n",
       "        vertical-align: middle;\n",
       "    }\n",
       "\n",
       "    .dataframe tbody tr th {\n",
       "        vertical-align: top;\n",
       "    }\n",
       "\n",
       "    .dataframe thead th {\n",
       "        text-align: right;\n",
       "    }\n",
       "</style>\n",
       "<table border=\"1\" class=\"dataframe\">\n",
       "  <thead>\n",
       "    <tr style=\"text-align: right;\">\n",
       "      <th></th>\n",
       "      <th>partition of 22</th>\n",
       "      <th>ord</th>\n",
       "    </tr>\n",
       "  </thead>\n",
       "  <tbody>\n",
       "    <tr>\n",
       "      <th>0</th>\n",
       "      <td>22</td>\n",
       "      <td>22</td>\n",
       "    </tr>\n",
       "    <tr>\n",
       "      <th>1</th>\n",
       "      <td>21 + 1</td>\n",
       "      <td>21</td>\n",
       "    </tr>\n",
       "    <tr>\n",
       "      <th>2</th>\n",
       "      <td>20 + 2</td>\n",
       "      <td>20</td>\n",
       "    </tr>\n",
       "    <tr>\n",
       "      <th>3</th>\n",
       "      <td>20 + 1 + 1</td>\n",
       "      <td>20</td>\n",
       "    </tr>\n",
       "    <tr>\n",
       "      <th>4</th>\n",
       "      <td>19 + 3</td>\n",
       "      <td>57</td>\n",
       "    </tr>\n",
       "    <tr>\n",
       "      <th>...</th>\n",
       "      <td>...</td>\n",
       "      <td>...</td>\n",
       "    </tr>\n",
       "    <tr>\n",
       "      <th>997</th>\n",
       "      <td>2 + 2 + 2 + 2 + 1 + 1 + 1 + 1 + 1 + 1 + 1 + 1 ...</td>\n",
       "      <td>2</td>\n",
       "    </tr>\n",
       "    <tr>\n",
       "      <th>998</th>\n",
       "      <td>2 + 2 + 2 + 1 + 1 + 1 + 1 + 1 + 1 + 1 + 1 + 1 ...</td>\n",
       "      <td>2</td>\n",
       "    </tr>\n",
       "    <tr>\n",
       "      <th>999</th>\n",
       "      <td>2 + 2 + 1 + 1 + 1 + 1 + 1 + 1 + 1 + 1 + 1 + 1 ...</td>\n",
       "      <td>2</td>\n",
       "    </tr>\n",
       "    <tr>\n",
       "      <th>1000</th>\n",
       "      <td>2 + 1 + 1 + 1 + 1 + 1 + 1 + 1 + 1 + 1 + 1 + 1 ...</td>\n",
       "      <td>2</td>\n",
       "    </tr>\n",
       "    <tr>\n",
       "      <th>1001</th>\n",
       "      <td>1 + 1 + 1 + 1 + 1 + 1 + 1 + 1 + 1 + 1 + 1 + 1 ...</td>\n",
       "      <td>1</td>\n",
       "    </tr>\n",
       "  </tbody>\n",
       "</table>\n",
       "<p>1002 rows × 2 columns</p>\n",
       "</div>"
      ],
      "text/plain": [
       "                                        partition of 22  ord\n",
       "0                                                    22   22\n",
       "1                                                21 + 1   21\n",
       "2                                                20 + 2   20\n",
       "3                                            20 + 1 + 1   20\n",
       "4                                                19 + 3   57\n",
       "...                                                 ...  ...\n",
       "997   2 + 2 + 2 + 2 + 1 + 1 + 1 + 1 + 1 + 1 + 1 + 1 ...    2\n",
       "998   2 + 2 + 2 + 1 + 1 + 1 + 1 + 1 + 1 + 1 + 1 + 1 ...    2\n",
       "999   2 + 2 + 1 + 1 + 1 + 1 + 1 + 1 + 1 + 1 + 1 + 1 ...    2\n",
       "1000  2 + 1 + 1 + 1 + 1 + 1 + 1 + 1 + 1 + 1 + 1 + 1 ...    2\n",
       "1001  1 + 1 + 1 + 1 + 1 + 1 + 1 + 1 + 1 + 1 + 1 + 1 ...    1\n",
       "\n",
       "[1002 rows x 2 columns]"
      ]
     },
     "execution_count": 24,
     "metadata": {},
     "output_type": "execute_result"
    }
   ],
   "source": [
    "Sig.max_ord_S_n(n=22,data='df')"
   ]
  },
  {
   "cell_type": "code",
   "execution_count": 25,
   "id": "71a9ee34",
   "metadata": {},
   "outputs": [
    {
     "data": {
      "text/plain": [
       "4620"
      ]
     },
     "execution_count": 25,
     "metadata": {},
     "output_type": "execute_result"
    }
   ],
   "source": [
    "Sig.max_ord_S_n(n=30)"
   ]
  },
  {
   "cell_type": "code",
   "execution_count": 26,
   "id": "8e172ae4",
   "metadata": {},
   "outputs": [],
   "source": [
    "#Sig.max_ord_S_n(n=60)"
   ]
  },
  {
   "cell_type": "code",
   "execution_count": 27,
   "id": "d77fa2a5",
   "metadata": {},
   "outputs": [
    {
     "data": {
      "text/plain": [
       "[[1 2 3 4 5 6 7 8]\n",
       " [2 1 8 6 5 4 3 7]]"
      ]
     },
     "execution_count": 27,
     "metadata": {},
     "output_type": "execute_result"
    }
   ],
   "source": [
    "Sig.inv()"
   ]
  },
  {
   "cell_type": "code",
   "execution_count": 28,
   "id": "b7686016",
   "metadata": {},
   "outputs": [
    {
     "data": {
      "text/plain": [
       "5.402605218999998"
      ]
     },
     "execution_count": 28,
     "metadata": {},
     "output_type": "execute_result"
    }
   ],
   "source": [
    "t0 = perf_counter()\n",
    "s_to_n1 = Sig.power(500000)\n",
    "t1 = perf_counter()\n",
    "Time = t1-t0\n",
    "Time"
   ]
  },
  {
   "cell_type": "code",
   "execution_count": 29,
   "id": "a779336d",
   "metadata": {},
   "outputs": [
    {
     "data": {
      "text/plain": [
       "0.000392088999998208"
      ]
     },
     "execution_count": 29,
     "metadata": {},
     "output_type": "execute_result"
    }
   ],
   "source": [
    "t3 = perf_counter()\n",
    "s_to_n2 = Sig.power_fast(500000)\n",
    "t4 = perf_counter()\n",
    "Time = t4-t3\n",
    "Time"
   ]
  },
  {
   "cell_type": "code",
   "execution_count": 30,
   "id": "cacebf2e",
   "metadata": {},
   "outputs": [
    {
     "data": {
      "text/plain": [
       "True"
      ]
     },
     "execution_count": 30,
     "metadata": {},
     "output_type": "execute_result"
    }
   ],
   "source": [
    "s_to_n1 == s_to_n2"
   ]
  },
  {
   "cell_type": "code",
   "execution_count": 31,
   "id": "6c1cc4f9",
   "metadata": {},
   "outputs": [
    {
     "data": {
      "text/plain": [
       "[2, 1, 3]"
      ]
     },
     "execution_count": 31,
     "metadata": {},
     "output_type": "execute_result"
    }
   ],
   "source": [
    "Sig.mul2([[2,3,1],[1,3,2]], \n",
    "         view = True)"
   ]
  },
  {
   "cell_type": "code",
   "execution_count": 32,
   "id": "f71b4c7e",
   "metadata": {},
   "outputs": [
    {
     "data": {
      "text/latex": [
       "$\\displaystyle \\left[\\begin{matrix}2 & 1 & 3\\end{matrix}\\right]$"
      ],
      "text/plain": [
       "Matrix([[2, 1, 3]])"
      ]
     },
     "execution_count": 32,
     "metadata": {},
     "output_type": "execute_result"
    }
   ],
   "source": [
    "Sig.mul2([[2,3,1],[1,3,2]],'latex')"
   ]
  },
  {
   "cell_type": "code",
   "execution_count": 33,
   "id": "1e926db3",
   "metadata": {},
   "outputs": [
    {
     "data": {
      "text/plain": [
       "[[1, 2, 3], [2, 3, 1], [3, 1, 2]]"
      ]
     },
     "execution_count": 33,
     "metadata": {},
     "output_type": "execute_result"
    }
   ],
   "source": [
    "A_n_sub_group(Sig.A_n(3))\n"
   ]
  },
  {
   "cell_type": "code",
   "execution_count": 34,
   "id": "4bb1bb96",
   "metadata": {},
   "outputs": [
    {
     "data": {
      "text/latex": [
       "$\\displaystyle \\left[\\begin{matrix}1 & 2 & 3\\\\1 & 2 & 3\\end{matrix}\\right]$"
      ],
      "text/plain": [
       "Matrix([\n",
       "[1, 2, 3],\n",
       "[1, 2, 3]])"
      ]
     },
     "execution_count": 34,
     "metadata": {},
     "output_type": "execute_result"
    }
   ],
   "source": [
    "A_n_sub_group(Sig.A_n(3),view = 'latex')[0] # is in A_3\n"
   ]
  },
  {
   "cell_type": "code",
   "execution_count": 35,
   "id": "17649453",
   "metadata": {},
   "outputs": [
    {
     "data": {
      "text/latex": [
       "$\\displaystyle \\left[\\begin{matrix}1 & 2 & 3\\\\2 & 3 & 1\\end{matrix}\\right]$"
      ],
      "text/plain": [
       "Matrix([\n",
       "[1, 2, 3],\n",
       "[2, 3, 1]])"
      ]
     },
     "execution_count": 35,
     "metadata": {},
     "output_type": "execute_result"
    }
   ],
   "source": [
    "A_n_sub_group(Sig.A_n(3),view = 'latex')[1] #is in A_3\n"
   ]
  },
  {
   "cell_type": "code",
   "execution_count": 36,
   "id": "f1c845df",
   "metadata": {},
   "outputs": [
    {
     "data": {
      "text/latex": [
       "$\\displaystyle \\left[\\begin{matrix}1 & 2 & 3\\\\3 & 1 & 2\\end{matrix}\\right]$"
      ],
      "text/plain": [
       "Matrix([\n",
       "[1, 2, 3],\n",
       "[3, 1, 2]])"
      ]
     },
     "execution_count": 36,
     "metadata": {},
     "output_type": "execute_result"
    }
   ],
   "source": [
    "A_n_sub_group(Sig.A_n(3),view = 'latex')[2] #is in A_3\n"
   ]
  },
  {
   "attachments": {
    "image-2.png": {
     "image/png": "[encoded data removed]"
    }
   },
   "cell_type": "markdown",
   "id": "383aef5a",
   "metadata": {},
   "source": [
    "$$\\text{Cayley table of the symmetric $\\textbf{group } S_3$}: $$\n",
    "\n",
    "\n",
    "![image-2.png](attachment:image-2.png)"
   ]
  },
  {
   "cell_type": "markdown",
   "id": "5ec608ba",
   "metadata": {},
   "source": [
    "$$\\qquad\\qquad\\qquad\\qquad\\qquad\\qquad\\qquad\\qquad\\qquad\\qquad\\qquad\\qquad\\qquad\\qquad\\color{pink}{\\bullet\\text{ Ioannis Maris .}}$$"
   ]
  }
 ],
 "metadata": {
  "kernelspec": {
   "display_name": "Python 3",
   "language": "python",
   "name": "python3"
  },
  "language_info": {
   "codemirror_mode": {
    "name": "ipython",
    "version": 3
   },
   "file_extension": ".py",
   "mimetype": "text/x-python",
   "name": "python",
   "nbconvert_exporter": "python",
   "pygments_lexer": "ipython3",
   "version": "3.8.8"
  }
 },
 "nbformat": 4,
 "nbformat_minor": 5
}
