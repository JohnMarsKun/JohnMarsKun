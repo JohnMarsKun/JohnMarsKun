{
 "cells": [
  {
   "cell_type": "markdown",
   "id": "ee22c32e",
   "metadata": {},
   "source": [
    "# $\\bullet$ Least Square Problem: $Ax=b$ \n",
    "\n",
    " Approaches:\n",
    "\n",
    "## 1. SVD (pseudoinverse) .\n",
    "## 2. Normal Equations.\n",
    "## 3. QR analysis.\n",
    "## 4. Penalized Method.\n",
    "\n",
    "\n",
    "\n",
    "\n",
    "\n",
    "\n",
    "\n",
    "\n",
    "#### $$\\qquad\\qquad\\qquad\\color{pink}{\\text{ John Mars}} $$"
   ]
  },
  {
   "cell_type": "markdown",
   "id": "9c33f469",
   "metadata": {},
   "source": [
    "-------------------\n",
    "\n",
    "\n",
    "### Let $A\\in\\mathbb R^{m,n},m\\ne n$, \n",
    "$$Ax=b, \\quad x\\in\\mathbb R^n, b\\in\\mathbb R^m$$\n",
    "\n",
    "$\\bullet$ General solution: it doesn't exists $\\big(b$ must be in $\\mathcal R(A)\\big)$. What can we do?\n",
    "$$\\bullet \\text{ We can find } \\epsilon >0  \\text{, small, such that: } $$\n",
    "$$\\lVert Ax-b\\rVert < \\epsilon .$$\n",
    "\n",
    "--------------------\n",
    "\n",
    "# $\\bullet$ SVD (pseudoinverse) method :\n",
    "\n",
    "Pseudoinverse of $A$ : $A^+$\n",
    "$$\\text{if $A^{-1}$ exists, then } A^+ = A^{-1}.$$\n",
    "\n",
    "$$\\text{Let $A\\in\\mathbb R^{m,n}$ for $m\\ne n$, $A^+\\in\\mathbb R^{n,m}$}$$\n",
    "\n",
    "$$\\text{if the columns of $A$ are linearly independent then we define the pseudoinverse of $A$ as :} $$\n",
    "\n",
    "$$\\fbox{$A^+ = \\big(A^T A\\big)^{-1} A^T$}, \\quad A^TA\\in\\mathbb R^{n,n} \\text{ symmetric & semi-positive definite}.$$\n",
    "\n",
    "$$\\text{If the rows of $A$ are linearly independent then we define the pseudoinverse of $A$ as :} $$\n",
    "\n",
    "$$\\fbox{$A^+ = A^T\\big(A^T A\\big)^{-1} $},$$\n",
    "\n",
    "$$\\text{in both cases, } A^+A = I, AA^T = I$$\n",
    "\n",
    "\n",
    "# SVD: for any matrix $A\\in\\mathbb R^{m,n}$ we can factorize A as $A = U\\Sigma V^T .$\n",
    "$U,V$ are othogonal matrices, $\\Sigma$ is diagonal matrix (with the singular values in the diagonal)\n",
    "\n",
    "$$\\text{Note: if $A$ is diagonal matrix then } A^+ = A^{-1} = \n",
    "\\begin{bmatrix}\n",
    "\\frac{1}{a_1} & \\\\\n",
    "& \\frac{1}{a_2}  \\\\\n",
    "& & & \\ddots \\\\\n",
    "& & & & \\frac{1}{a_r}\n",
    "\\end{bmatrix} \\text{ , $r$ = rank$(A)$}. $$\n",
    "\n",
    "## $$\\rightarrow \\fbox{$A^+ = V\\Sigma^+U^T$ }\\text{ } ,$$\n",
    "\n",
    "$$A^+A = V\\Sigma^+ \\underbrace{U^TU}_{I} \\Sigma V^T = V\\Sigma^+ \\Sigma V^T = VV^T = I $$\n",
    "$$AA^+ = \\dots = I .$$\n",
    "\n",
    "## $\\bullet \\text{ }x^+ = A^+b$  minimizes the norm $\\lVert b - Ax\\rVert^2$ .\n",
    "\n",
    "If $\\operatorname{rank}(A) = n, $ then $x^+$ is the unique solution to the $\\textbf{least square}$ problem.\n",
    "\n",
    "-------------------"
   ]
  },
  {
   "cell_type": "code",
   "execution_count": 71,
   "id": "f510155a",
   "metadata": {},
   "outputs": [],
   "source": [
    "from sympy import init_printing, Matrix\n",
    "from numpy.linalg import svd\n",
    "import numpy as np\n",
    "init_printing()"
   ]
  },
  {
   "cell_type": "code",
   "execution_count": 56,
   "id": "8b80f8cc",
   "metadata": {},
   "outputs": [],
   "source": [
    "A = Matrix([\n",
    "    [1,2],\n",
    "    [1,3/2],\n",
    "    [1,4]\n",
    "])\n",
    "b = Matrix([-1,-1,-1])\n"
   ]
  },
  {
   "cell_type": "code",
   "execution_count": 57,
   "id": "d88f6607",
   "metadata": {},
   "outputs": [
    {
     "data": {
      "text/latex": [
       "$\\displaystyle \\left[\\begin{matrix}1 & 2\\\\1 & 1.5\\\\1 & 4\\end{matrix}\\right]$"
      ],
      "text/plain": [
       "⎡1   2 ⎤\n",
       "⎢      ⎥\n",
       "⎢1  1.5⎥\n",
       "⎢      ⎥\n",
       "⎣1   4 ⎦"
      ]
     },
     "execution_count": 57,
     "metadata": {},
     "output_type": "execute_result"
    }
   ],
   "source": [
    "A"
   ]
  },
  {
   "cell_type": "code",
   "execution_count": 58,
   "id": "dc5e4bcc",
   "metadata": {},
   "outputs": [
    {
     "data": {
      "text/latex": [
       "$\\displaystyle \\left[ \\left[\\begin{matrix}1\\\\1\\\\1\\end{matrix}\\right], \\  \\left[\\begin{matrix}2\\\\1.5\\\\4\\end{matrix}\\right]\\right]$"
      ],
      "text/plain": [
       "⎡⎡1⎤  ⎡ 2 ⎤⎤\n",
       "⎢⎢ ⎥  ⎢   ⎥⎥\n",
       "⎢⎢1⎥, ⎢1.5⎥⎥\n",
       "⎢⎢ ⎥  ⎢   ⎥⎥\n",
       "⎣⎣1⎦  ⎣ 4 ⎦⎦"
      ]
     },
     "execution_count": 58,
     "metadata": {},
     "output_type": "execute_result"
    }
   ],
   "source": [
    "A.columnspace()"
   ]
  },
  {
   "cell_type": "code",
   "execution_count": 69,
   "id": "88570644",
   "metadata": {},
   "outputs": [
    {
     "data": {
      "text/latex": [
       "$\\displaystyle \\left[\\begin{matrix}-1\\\\-1\\\\-1\\end{matrix}\\right]$"
      ],
      "text/plain": [
       "⎡-1⎤\n",
       "⎢  ⎥\n",
       "⎢-1⎥\n",
       "⎢  ⎥\n",
       "⎣-1⎦"
      ]
     },
     "execution_count": 69,
     "metadata": {},
     "output_type": "execute_result"
    }
   ],
   "source": [
    "b #in column space."
   ]
  },
  {
   "cell_type": "code",
   "execution_count": 62,
   "id": "e4bb21ca",
   "metadata": {},
   "outputs": [
    {
     "data": {
      "text/latex": [
       "$\\displaystyle \\left[\\begin{matrix}x_{1}\\\\x_{2}\\end{matrix}\\right]$"
      ],
      "text/plain": [
       "⎡x₁⎤\n",
       "⎢  ⎥\n",
       "⎣x₂⎦"
      ]
     },
     "execution_count": 62,
     "metadata": {},
     "output_type": "execute_result"
    }
   ],
   "source": [
    "x = Matrix(['x_1','x_2'])\n",
    "x"
   ]
  },
  {
   "cell_type": "code",
   "execution_count": 64,
   "id": "a38a4336",
   "metadata": {},
   "outputs": [
    {
     "data": {
      "text/latex": [
       "$\\displaystyle \\left[\\begin{matrix}x_{1} + 2 x_{2}\\\\x_{1} + 1.5 x_{2}\\\\x_{1} + 4 x_{2}\\end{matrix}\\right]$"
      ],
      "text/plain": [
       "⎡ x₁ + 2⋅x₂ ⎤\n",
       "⎢           ⎥\n",
       "⎢x₁ + 1.5⋅x₂⎥\n",
       "⎢           ⎥\n",
       "⎣ x₁ + 4⋅x₂ ⎦"
      ]
     },
     "execution_count": 64,
     "metadata": {},
     "output_type": "execute_result"
    }
   ],
   "source": [
    "A@x  # = b ,  x_1 = -1, x_2 = 0 . "
   ]
  },
  {
   "cell_type": "code",
   "execution_count": 68,
   "id": "7259aa7a",
   "metadata": {},
   "outputs": [
    {
     "data": {
      "text/latex": [
       "$\\displaystyle \\left[\\begin{matrix}-1\\\\-1\\\\-1\\end{matrix}\\right]$"
      ],
      "text/plain": [
       "⎡-1⎤\n",
       "⎢  ⎥\n",
       "⎢-1⎥\n",
       "⎢  ⎥\n",
       "⎣-1⎦"
      ]
     },
     "execution_count": 68,
     "metadata": {},
     "output_type": "execute_result"
    }
   ],
   "source": [
    "A@Matrix([\n",
    "        [-1,0]\n",
    "        ]).T      # b"
   ]
  },
  {
   "cell_type": "code",
   "execution_count": 74,
   "id": "be38fc24",
   "metadata": {},
   "outputs": [],
   "source": [
    "A = np.array([\n",
    "    [1,2],\n",
    "    [1,3/2],\n",
    "    [1,4]\n",
    "])"
   ]
  },
  {
   "cell_type": "code",
   "execution_count": 77,
   "id": "971fbaa5",
   "metadata": {},
   "outputs": [],
   "source": [
    "U,S,V = svd(A)"
   ]
  },
  {
   "cell_type": "code",
   "execution_count": 82,
   "id": "cdeae002",
   "metadata": {},
   "outputs": [
    {
     "data": {
      "text/latex": [
       "$\\displaystyle \\left[\\begin{matrix}0.444824284386674 & 0.454855208590369 & -0.771516749810459\\\\0.349922766208181 & 0.70469970678072 & 0.617213399848368\\\\0.824430357100645 & -0.544522784171038 & 0.154303349962092\\end{matrix}\\right]$"
      ],
      "text/plain": [
       "⎡0.444824284386674  0.454855208590369   -0.771516749810459⎤\n",
       "⎢                                                         ⎥\n",
       "⎢0.349922766208181   0.70469970678072   0.617213399848368 ⎥\n",
       "⎢                                                         ⎥\n",
       "⎣0.824430357100645  -0.544522784171038  0.154303349962092 ⎦"
      ]
     },
     "execution_count": 82,
     "metadata": {},
     "output_type": "execute_result"
    }
   ],
   "source": [
    "U = Matrix(U)\n",
    "U"
   ]
  },
  {
   "cell_type": "code",
   "execution_count": 84,
   "id": "6912d5c2",
   "metadata": {},
   "outputs": [
    {
     "data": {
      "text/latex": [
       "$\\displaystyle \\left[\\begin{matrix}0.3249613129447 & 0.945727310110719\\\\0.945727310110719 & -0.3249613129447\\end{matrix}\\right]$"
      ],
      "text/plain": [
       "⎡ 0.3249613129447   0.945727310110719⎤\n",
       "⎢                                    ⎥\n",
       "⎣0.945727310110719  -0.3249613129447 ⎦"
      ]
     },
     "execution_count": 84,
     "metadata": {},
     "output_type": "execute_result"
    }
   ],
   "source": [
    "V = Matrix(V)\n",
    "V"
   ]
  },
  {
   "cell_type": "code",
   "execution_count": 80,
   "id": "684d3d6f",
   "metadata": {},
   "outputs": [
    {
     "data": {
      "text/plain": [
       "array([4.98267745, 0.65032713])"
      ]
     },
     "execution_count": 80,
     "metadata": {},
     "output_type": "execute_result"
    }
   ],
   "source": [
    "S"
   ]
  },
  {
   "cell_type": "code",
   "execution_count": 85,
   "id": "01020e58",
   "metadata": {},
   "outputs": [
    {
     "data": {
      "text/latex": [
       "$\\displaystyle \\left[\\begin{matrix}4.9826774548115 & 0\\\\0 & 0.650327134074248\\\\0 & 0\\end{matrix}\\right]$"
      ],
      "text/plain": [
       "⎡4.9826774548115          0        ⎤\n",
       "⎢                                  ⎥\n",
       "⎢       0         0.650327134074248⎥\n",
       "⎢                                  ⎥\n",
       "⎣       0                 0        ⎦"
      ]
     },
     "execution_count": 85,
     "metadata": {},
     "output_type": "execute_result"
    }
   ],
   "source": [
    "m , n = A.shape\n",
    "\n",
    "f = lambda i,j: S[i] if i==j else 0    \n",
    "\n",
    "Sigma = Matrix(m,n,f)\n",
    "Sigma\n"
   ]
  },
  {
   "cell_type": "code",
   "execution_count": 91,
   "id": "0b384873",
   "metadata": {},
   "outputs": [
    {
     "data": {
      "text/latex": [
       "$\\displaystyle \\left[\\begin{matrix}1.0 & 2.0\\\\1.0 & 1.5\\\\1.0 & 4.0\\end{matrix}\\right]$"
      ],
      "text/plain": [
       "⎡1.0  2.0⎤\n",
       "⎢        ⎥\n",
       "⎢1.0  1.5⎥\n",
       "⎢        ⎥\n",
       "⎣1.0  4.0⎦"
      ]
     },
     "execution_count": 91,
     "metadata": {},
     "output_type": "execute_result"
    }
   ],
   "source": [
    "SVD_A = U@Sigma@V.T\n",
    "SVD_A"
   ]
  },
  {
   "cell_type": "code",
   "execution_count": 96,
   "id": "d2a3020c",
   "metadata": {},
   "outputs": [
    {
     "data": {
      "text/latex": [
       "$\\displaystyle \\left[ \\left[\\begin{matrix}0.444824284386674 & 0.454855208590369 & -0.771516749810459\\\\0.349922766208181 & 0.70469970678072 & 0.617213399848368\\\\0.824430357100645 & -0.544522784171038 & 0.154303349962092\\end{matrix}\\right], \\  \\left[\\begin{matrix}4.9826774548115 & 0\\\\0 & 0.650327134074248\\\\0 & 0\\end{matrix}\\right], \\  \\left[\\begin{matrix}0.3249613129447 & 0.945727310110719\\\\0.945727310110719 & -0.3249613129447\\end{matrix}\\right]\\right]$"
      ],
      "text/plain": [
       "⎡⎡0.444824284386674  0.454855208590369   -0.771516749810459⎤  ⎡4.9826774548115\n",
       "⎢⎢                                                         ⎥  ⎢               \n",
       "⎢⎢0.349922766208181   0.70469970678072   0.617213399848368 ⎥, ⎢       0       \n",
       "⎢⎢                                                         ⎥  ⎢               \n",
       "⎣⎣0.824430357100645  -0.544522784171038  0.154303349962092 ⎦  ⎣       0       \n",
       "\n",
       "          0        ⎤                                        ⎤\n",
       "                   ⎥  ⎡ 0.3249613129447   0.945727310110719⎤⎥\n",
       "  0.650327134074248⎥, ⎢                                    ⎥⎥\n",
       "                   ⎥  ⎣0.945727310110719  -0.3249613129447 ⎦⎥\n",
       "          0        ⎦                                        ⎦"
      ]
     },
     "execution_count": 96,
     "metadata": {},
     "output_type": "execute_result"
    }
   ],
   "source": [
    "SVD_A_list = [U,Sigma,V]\n",
    "SVD_A_list"
   ]
  },
  {
   "cell_type": "code",
   "execution_count": 103,
   "id": "7c736442",
   "metadata": {},
   "outputs": [
    {
     "data": {
      "text/latex": [
       "$\\displaystyle \\left[\\begin{matrix}0.200695310717806 & 0 & 0\\\\0 & 1.53768764611601 & 0\\end{matrix}\\right]$"
      ],
      "text/plain": [
       "⎡0.200695310717806         0          0⎤\n",
       "⎢                                      ⎥\n",
       "⎣        0          1.53768764611601  0⎦"
      ]
     },
     "execution_count": 103,
     "metadata": {},
     "output_type": "execute_result"
    }
   ],
   "source": [
    "f_ = lambda i,j: 1/S[i] if i==j else 0    \n",
    "\n",
    "Sigma_plus = Matrix(m,n,f_).T\n",
    "Sigma_plus"
   ]
  },
  {
   "cell_type": "code",
   "execution_count": 112,
   "id": "7af17704",
   "metadata": {},
   "outputs": [
    {
     "data": {
      "text/latex": [
       "$\\displaystyle \\left[\\begin{matrix}0.690476190476191 & 1.04761904761905 & -0.738095238095238\\\\-0.142857142857143 & -0.285714285714286 & 0.428571428571429\\end{matrix}\\right]$"
      ],
      "text/plain": [
       "⎡0.690476190476191    1.04761904761905   -0.738095238095238⎤\n",
       "⎢                                                          ⎥\n",
       "⎣-0.142857142857143  -0.285714285714286  0.428571428571429 ⎦"
      ]
     },
     "execution_count": 112,
     "metadata": {},
     "output_type": "execute_result"
    }
   ],
   "source": [
    "A_plus = V@Sigma_plus@U.T\n",
    "A_plus"
   ]
  },
  {
   "cell_type": "code",
   "execution_count": 113,
   "id": "3cc9a606",
   "metadata": {},
   "outputs": [
    {
     "data": {
      "text/latex": [
       "$\\displaystyle \\left[\\begin{matrix}-1.0\\\\5.55111512312578 \\cdot 10^{-17}\\end{matrix}\\right]$"
      ],
      "text/plain": [
       "⎡        -1.0        ⎤\n",
       "⎢                    ⎥\n",
       "⎣5.55111512312578e-17⎦"
      ]
     },
     "execution_count": 113,
     "metadata": {},
     "output_type": "execute_result"
    }
   ],
   "source": [
    "x_plus = A_plus@b\n",
    "x_plus  # almost the same as the real solution."
   ]
  },
  {
   "cell_type": "code",
   "execution_count": null,
   "id": "0d5c12fa",
   "metadata": {},
   "outputs": [],
   "source": []
  }
 ],
 "metadata": {
  "kernelspec": {
   "display_name": "Python 3",
   "language": "python",
   "name": "python3"
  },
  "language_info": {
   "codemirror_mode": {
    "name": "ipython",
    "version": 3
   },
   "file_extension": ".py",
   "mimetype": "text/x-python",
   "name": "python",
   "nbconvert_exporter": "python",
   "pygments_lexer": "ipython3",
   "version": "3.8.8"
  }
 },
 "nbformat": 4,
 "nbformat_minor": 5
}
